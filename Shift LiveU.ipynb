{
 "cells": [
  {
   "cell_type": "markdown",
   "metadata": {
    "colab_type": "text",
    "id": "zWTBc3wv1EeY"
   },
   "source": [
    "# **Análise de Cross-Sell no segmento de QSR pelo Algoritmo Apriori**"
   ]
  },
  {
   "cell_type": "markdown",
   "metadata": {
    "colab_type": "text",
    "id": "SO96DjcA1Uyf"
   },
   "source": [
    "O trabalho será construído utilizando uma base anonimizada fornecida por rede do QSR brasileiro (*Quick Service Restaurants*) para buscar identificar relações e interações entre os diferentes itens do menu, visando aumentar vendas por meio da maximização dos itens por transação.\n",
    "\n",
    "Inicialmente, importaremos as bibliotecas e as bases de dados que serão utilizadas no trabalho para fazer a análise Descritiva:"
   ]
  },
  {
   "cell_type": "code",
   "execution_count": 1,
   "metadata": {
    "colab": {},
    "colab_type": "code",
    "id": "eOff4x2Z0f3l"
   },
   "outputs": [],
   "source": [
    "from mlxtend.frequent_patterns import apriori\n",
    "from mlxtend.frequent_patterns import association_rules\n",
    "import pandas as pd  \n",
    "import numpy as np"
   ]
  },
  {
   "cell_type": "markdown",
   "metadata": {
    "colab_type": "text",
    "id": "8Jdn_Mt50hZC"
   },
   "source": [
    "Após as importações das  bibliotecas, importaremos a base recebida em CSV e o Dicionário de Dados:"
   ]
  },
  {
   "cell_type": "code",
   "execution_count": 2,
   "metadata": {
    "colab": {},
    "colab_type": "code",
    "id": "lj3giGj22LEB"
   },
   "outputs": [],
   "source": [
    "transacoes = pd.read_csv('Transacoes.csv', delimiter = ';')"
   ]
  },
  {
   "cell_type": "code",
   "execution_count": 3,
   "metadata": {
    "colab": {
     "base_uri": "https://localhost:8080/",
     "height": 423
    },
    "colab_type": "code",
    "id": "fUINnMyg2WbH",
    "outputId": "11737b77-0e7b-4aa8-d292-97a0d046ae37"
   },
   "outputs": [
    {
     "data": {
      "text/html": [
       "<div>\n",
       "<style scoped>\n",
       "    .dataframe tbody tr th:only-of-type {\n",
       "        vertical-align: middle;\n",
       "    }\n",
       "\n",
       "    .dataframe tbody tr th {\n",
       "        vertical-align: top;\n",
       "    }\n",
       "\n",
       "    .dataframe thead th {\n",
       "        text-align: right;\n",
       "    }\n",
       "</style>\n",
       "<table border=\"1\" class=\"dataframe\">\n",
       "  <thead>\n",
       "    <tr style=\"text-align: right;\">\n",
       "      <th></th>\n",
       "      <th>Admin</th>\n",
       "      <th>Regiao</th>\n",
       "      <th>Cb01_Sand_Beb_Acomp_Reg</th>\n",
       "      <th>Cb01_Sand_Beb_Acomp_Cup</th>\n",
       "      <th>Sand01_Reg</th>\n",
       "      <th>Sand01_Cup</th>\n",
       "      <th>Cb16_Sand_Beb_Acomp_Reg</th>\n",
       "      <th>Cb16_Sand_Beb_Acomp_Cup</th>\n",
       "      <th>Sand16_Reg</th>\n",
       "      <th>Sand16_Cup</th>\n",
       "      <th>...</th>\n",
       "      <th>Acomp03_Reg</th>\n",
       "      <th>Acomp03_Cup</th>\n",
       "      <th>Acomp02_Reg</th>\n",
       "      <th>Acomp02_Cup</th>\n",
       "      <th>Acomp04_Reg</th>\n",
       "      <th>Acomp04_Cup</th>\n",
       "      <th>2Sand_Beb_Acomp_Reg</th>\n",
       "      <th>2Sand_Beb_Acomp_Cup</th>\n",
       "      <th>Qtd_transacoes</th>\n",
       "      <th>VL_Venda</th>\n",
       "    </tr>\n",
       "  </thead>\n",
       "  <tbody>\n",
       "    <tr>\n",
       "      <th>0</th>\n",
       "      <td>Franqueado</td>\n",
       "      <td>N+NE+CO</td>\n",
       "      <td>0</td>\n",
       "      <td>0</td>\n",
       "      <td>0</td>\n",
       "      <td>0</td>\n",
       "      <td>0</td>\n",
       "      <td>0</td>\n",
       "      <td>0</td>\n",
       "      <td>0</td>\n",
       "      <td>...</td>\n",
       "      <td>0</td>\n",
       "      <td>0</td>\n",
       "      <td>0</td>\n",
       "      <td>0</td>\n",
       "      <td>0</td>\n",
       "      <td>0</td>\n",
       "      <td>0</td>\n",
       "      <td>0</td>\n",
       "      <td>1373</td>\n",
       "      <td>19934,65147</td>\n",
       "    </tr>\n",
       "    <tr>\n",
       "      <th>1</th>\n",
       "      <td>Franqueado</td>\n",
       "      <td>N+NE+CO</td>\n",
       "      <td>0</td>\n",
       "      <td>0</td>\n",
       "      <td>0</td>\n",
       "      <td>0</td>\n",
       "      <td>0</td>\n",
       "      <td>0</td>\n",
       "      <td>0</td>\n",
       "      <td>0</td>\n",
       "      <td>...</td>\n",
       "      <td>0</td>\n",
       "      <td>0</td>\n",
       "      <td>0</td>\n",
       "      <td>0</td>\n",
       "      <td>0</td>\n",
       "      <td>0</td>\n",
       "      <td>0</td>\n",
       "      <td>0</td>\n",
       "      <td>852</td>\n",
       "      <td>16106,65744</td>\n",
       "    </tr>\n",
       "    <tr>\n",
       "      <th>2</th>\n",
       "      <td>Franqueado</td>\n",
       "      <td>N+NE+CO</td>\n",
       "      <td>0</td>\n",
       "      <td>0</td>\n",
       "      <td>0</td>\n",
       "      <td>0</td>\n",
       "      <td>0</td>\n",
       "      <td>0</td>\n",
       "      <td>0</td>\n",
       "      <td>0</td>\n",
       "      <td>...</td>\n",
       "      <td>0</td>\n",
       "      <td>0</td>\n",
       "      <td>0</td>\n",
       "      <td>0</td>\n",
       "      <td>0</td>\n",
       "      <td>0</td>\n",
       "      <td>0</td>\n",
       "      <td>0</td>\n",
       "      <td>240</td>\n",
       "      <td>5135,182905</td>\n",
       "    </tr>\n",
       "    <tr>\n",
       "      <th>3</th>\n",
       "      <td>Franqueado</td>\n",
       "      <td>N+NE+CO</td>\n",
       "      <td>0</td>\n",
       "      <td>0</td>\n",
       "      <td>0</td>\n",
       "      <td>0</td>\n",
       "      <td>0</td>\n",
       "      <td>0</td>\n",
       "      <td>0</td>\n",
       "      <td>0</td>\n",
       "      <td>...</td>\n",
       "      <td>0</td>\n",
       "      <td>0</td>\n",
       "      <td>0</td>\n",
       "      <td>0</td>\n",
       "      <td>0</td>\n",
       "      <td>0</td>\n",
       "      <td>0</td>\n",
       "      <td>0</td>\n",
       "      <td>142</td>\n",
       "      <td>3183,077909</td>\n",
       "    </tr>\n",
       "    <tr>\n",
       "      <th>4</th>\n",
       "      <td>Franqueado</td>\n",
       "      <td>N+NE+CO</td>\n",
       "      <td>0</td>\n",
       "      <td>0</td>\n",
       "      <td>0</td>\n",
       "      <td>0</td>\n",
       "      <td>0</td>\n",
       "      <td>0</td>\n",
       "      <td>0</td>\n",
       "      <td>0</td>\n",
       "      <td>...</td>\n",
       "      <td>0</td>\n",
       "      <td>0</td>\n",
       "      <td>0</td>\n",
       "      <td>0</td>\n",
       "      <td>0</td>\n",
       "      <td>0</td>\n",
       "      <td>0</td>\n",
       "      <td>0</td>\n",
       "      <td>40</td>\n",
       "      <td>1035,245162</td>\n",
       "    </tr>\n",
       "  </tbody>\n",
       "</table>\n",
       "<p>5 rows × 109 columns</p>\n",
       "</div>"
      ],
      "text/plain": [
       "        Admin   Regiao  Cb01_Sand_Beb_Acomp_Reg  Cb01_Sand_Beb_Acomp_Cup  \\\n",
       "0  Franqueado  N+NE+CO                        0                        0   \n",
       "1  Franqueado  N+NE+CO                        0                        0   \n",
       "2  Franqueado  N+NE+CO                        0                        0   \n",
       "3  Franqueado  N+NE+CO                        0                        0   \n",
       "4  Franqueado  N+NE+CO                        0                        0   \n",
       "\n",
       "   Sand01_Reg  Sand01_Cup  Cb16_Sand_Beb_Acomp_Reg  Cb16_Sand_Beb_Acomp_Cup  \\\n",
       "0           0           0                        0                        0   \n",
       "1           0           0                        0                        0   \n",
       "2           0           0                        0                        0   \n",
       "3           0           0                        0                        0   \n",
       "4           0           0                        0                        0   \n",
       "\n",
       "   Sand16_Reg  Sand16_Cup  ...  Acomp03_Reg  Acomp03_Cup  Acomp02_Reg  \\\n",
       "0           0           0  ...            0            0            0   \n",
       "1           0           0  ...            0            0            0   \n",
       "2           0           0  ...            0            0            0   \n",
       "3           0           0  ...            0            0            0   \n",
       "4           0           0  ...            0            0            0   \n",
       "\n",
       "   Acomp02_Cup  Acomp04_Reg  Acomp04_Cup  2Sand_Beb_Acomp_Reg  \\\n",
       "0            0            0            0                    0   \n",
       "1            0            0            0                    0   \n",
       "2            0            0            0                    0   \n",
       "3            0            0            0                    0   \n",
       "4            0            0            0                    0   \n",
       "\n",
       "   2Sand_Beb_Acomp_Cup  Qtd_transacoes     VL_Venda  \n",
       "0                    0            1373  19934,65147  \n",
       "1                    0             852  16106,65744  \n",
       "2                    0             240  5135,182905  \n",
       "3                    0             142  3183,077909  \n",
       "4                    0              40  1035,245162  \n",
       "\n",
       "[5 rows x 109 columns]"
      ]
     },
     "execution_count": 3,
     "metadata": {},
     "output_type": "execute_result"
    }
   ],
   "source": [
    "transacoes.head()"
   ]
  },
  {
   "cell_type": "markdown",
   "metadata": {
    "colab_type": "text",
    "id": "H06YUIoa1bti"
   },
   "source": [
    "Inicialmente vamos avaliar o perfil dos dois Dataframes e os tipos de dados que foram importados, para verificar se alguma transformação é necessária:"
   ]
  },
  {
   "cell_type": "code",
   "execution_count": 4,
   "metadata": {
    "colab": {
     "base_uri": "https://localhost:8080/",
     "height": 34
    },
    "colab_type": "code",
    "id": "_f7WlFIb3rzR",
    "outputId": "f19c6e07-5a13-47d2-d042-2f851dda1ffe"
   },
   "outputs": [
    {
     "data": {
      "text/plain": [
       "(952560, 109)"
      ]
     },
     "execution_count": 4,
     "metadata": {},
     "output_type": "execute_result"
    }
   ],
   "source": [
    "transacoes.shape"
   ]
  },
  {
   "cell_type": "code",
   "execution_count": 5,
   "metadata": {
    "colab": {
     "base_uri": "https://localhost:8080/",
     "height": 221
    },
    "colab_type": "code",
    "id": "zAYeYNhO3xJZ",
    "outputId": "a07f82ff-d187-49f2-85ba-bb14703380ef"
   },
   "outputs": [
    {
     "data": {
      "text/plain": [
       "Admin                      object\n",
       "Regiao                     object\n",
       "Cb01_Sand_Beb_Acomp_Reg     int64\n",
       "Cb01_Sand_Beb_Acomp_Cup     int64\n",
       "Sand01_Reg                  int64\n",
       "                            ...  \n",
       "Acomp04_Cup                 int64\n",
       "2Sand_Beb_Acomp_Reg         int64\n",
       "2Sand_Beb_Acomp_Cup         int64\n",
       "Qtd_transacoes              int64\n",
       "VL_Venda                   object\n",
       "Length: 109, dtype: object"
      ]
     },
     "execution_count": 5,
     "metadata": {},
     "output_type": "execute_result"
    }
   ],
   "source": [
    "transacoes.dtypes"
   ]
  },
  {
   "cell_type": "markdown",
   "metadata": {},
   "source": [
    "A coluna \"VL_Venda\" foi importada como Objeto, quando deveria ter sido importada como Float. Para resolver isso, faremos a transformação dos dados:"
   ]
  },
  {
   "cell_type": "code",
   "execution_count": 6,
   "metadata": {},
   "outputs": [],
   "source": [
    "transacoes['VL_Venda'] = transacoes['VL_Venda'].apply (lambda x: x.replace(',', '.'))"
   ]
  },
  {
   "cell_type": "code",
   "execution_count": 7,
   "metadata": {},
   "outputs": [],
   "source": [
    "transacoes['VL_Venda'] = transacoes['VL_Venda'].astype(float)"
   ]
  },
  {
   "cell_type": "code",
   "execution_count": 8,
   "metadata": {},
   "outputs": [
    {
     "data": {
      "text/plain": [
       "Admin                       object\n",
       "Regiao                      object\n",
       "Cb01_Sand_Beb_Acomp_Reg      int64\n",
       "Cb01_Sand_Beb_Acomp_Cup      int64\n",
       "Sand01_Reg                   int64\n",
       "                            ...   \n",
       "Acomp04_Cup                  int64\n",
       "2Sand_Beb_Acomp_Reg          int64\n",
       "2Sand_Beb_Acomp_Cup          int64\n",
       "Qtd_transacoes               int64\n",
       "VL_Venda                   float64\n",
       "Length: 109, dtype: object"
      ]
     },
     "execution_count": 8,
     "metadata": {},
     "output_type": "execute_result"
    }
   ],
   "source": [
    "transacoes.dtypes"
   ]
  },
  {
   "cell_type": "markdown",
   "metadata": {},
   "source": [
    "## Análise Exploratória"
   ]
  },
  {
   "cell_type": "markdown",
   "metadata": {},
   "source": [
    "Para iniciar a análise exploratória do Dataframe tratado e com as colunas melhor identificadas após o cruzamento com o Dicionário de dados, vamos apurar a quantidade de transações apontadas no Dataframe, o valor de venda total e o Ticket Médio, que é um indicador relevante para o segmento:"
   ]
  },
  {
   "cell_type": "code",
   "execution_count": 9,
   "metadata": {
    "colab": {
     "base_uri": "https://localhost:8080/",
     "height": 34
    },
    "colab_type": "code",
    "id": "gQR4KxbD7uJW",
    "outputId": "146cf0c3-0288-413f-b8cf-29f60e68b41f",
    "scrolled": true
   },
   "outputs": [
    {
     "name": "stdout",
     "output_type": "stream",
     "text": [
      "5671218\n"
     ]
    }
   ],
   "source": [
    "TT_Transacoes = transacoes['Qtd_transacoes'].sum()\n",
    "print (TT_Transacoes)"
   ]
  },
  {
   "cell_type": "code",
   "execution_count": 10,
   "metadata": {},
   "outputs": [
    {
     "name": "stdout",
     "output_type": "stream",
     "text": [
      "162127973.99246562\n"
     ]
    }
   ],
   "source": [
    "TT_Venda = transacoes['VL_Venda'].sum()\n",
    "print (TT_Venda)"
   ]
  },
  {
   "cell_type": "code",
   "execution_count": 11,
   "metadata": {},
   "outputs": [
    {
     "name": "stdout",
     "output_type": "stream",
     "text": [
      "28.58785784508118\n"
     ]
    }
   ],
   "source": [
    "Ticket_Medio = TT_Venda / TT_Transacoes\n",
    "print (Ticket_Medio)"
   ]
  },
  {
   "cell_type": "markdown",
   "metadata": {},
   "source": [
    "O dataframe informado conta com 5,67MM transações com um valor total de 162,1MM de reais, totalizando um Ticket Médio de R$ 28,59 no período analisado.\n",
    "\n",
    "Podemos apurar as diferenças nesses indicadores pelas colunas \"Admin\" e \"Região\" para identificar diferenças regionais e de administração dos restaurantes:"
   ]
  },
  {
   "cell_type": "code",
   "execution_count": 12,
   "metadata": {},
   "outputs": [],
   "source": [
    "table = pd.pivot_table(transacoes, index = ['Regiao','Admin'], values = ['Qtd_transacoes', 'VL_Venda'], aggfunc = np.sum)"
   ]
  },
  {
   "cell_type": "code",
   "execution_count": 13,
   "metadata": {},
   "outputs": [
    {
     "data": {
      "text/html": [
       "<div>\n",
       "<style scoped>\n",
       "    .dataframe tbody tr th:only-of-type {\n",
       "        vertical-align: middle;\n",
       "    }\n",
       "\n",
       "    .dataframe tbody tr th {\n",
       "        vertical-align: top;\n",
       "    }\n",
       "\n",
       "    .dataframe thead th {\n",
       "        text-align: right;\n",
       "    }\n",
       "</style>\n",
       "<table border=\"1\" class=\"dataframe\">\n",
       "  <thead>\n",
       "    <tr style=\"text-align: right;\">\n",
       "      <th></th>\n",
       "      <th></th>\n",
       "      <th>Qtd_transacoes</th>\n",
       "      <th>VL_Venda</th>\n",
       "    </tr>\n",
       "    <tr>\n",
       "      <th>Regiao</th>\n",
       "      <th>Admin</th>\n",
       "      <th></th>\n",
       "      <th></th>\n",
       "    </tr>\n",
       "  </thead>\n",
       "  <tbody>\n",
       "    <tr>\n",
       "      <th rowspan=\"2\" valign=\"top\">N+NE+CO</th>\n",
       "      <th>Franqueado</th>\n",
       "      <td>559396</td>\n",
       "      <td>1.497248e+07</td>\n",
       "    </tr>\n",
       "    <tr>\n",
       "      <th>Proprio</th>\n",
       "      <td>804259</td>\n",
       "      <td>2.035204e+07</td>\n",
       "    </tr>\n",
       "    <tr>\n",
       "      <th rowspan=\"2\" valign=\"top\">SE</th>\n",
       "      <th>Franqueado</th>\n",
       "      <td>1413760</td>\n",
       "      <td>4.081343e+07</td>\n",
       "    </tr>\n",
       "    <tr>\n",
       "      <th>Proprio</th>\n",
       "      <td>1771406</td>\n",
       "      <td>5.457126e+07</td>\n",
       "    </tr>\n",
       "    <tr>\n",
       "      <th rowspan=\"2\" valign=\"top\">SUL</th>\n",
       "      <th>Franqueado</th>\n",
       "      <td>489793</td>\n",
       "      <td>1.353845e+07</td>\n",
       "    </tr>\n",
       "    <tr>\n",
       "      <th>Proprio</th>\n",
       "      <td>632604</td>\n",
       "      <td>1.788031e+07</td>\n",
       "    </tr>\n",
       "  </tbody>\n",
       "</table>\n",
       "</div>"
      ],
      "text/plain": [
       "                    Qtd_transacoes      VL_Venda\n",
       "Regiao  Admin                                   \n",
       "N+NE+CO Franqueado          559396  1.497248e+07\n",
       "        Proprio             804259  2.035204e+07\n",
       "SE      Franqueado         1413760  4.081343e+07\n",
       "        Proprio            1771406  5.457126e+07\n",
       "SUL     Franqueado          489793  1.353845e+07\n",
       "        Proprio             632604  1.788031e+07"
      ]
     },
     "execution_count": 13,
     "metadata": {},
     "output_type": "execute_result"
    }
   ],
   "source": [
    "table"
   ]
  },
  {
   "cell_type": "code",
   "execution_count": 14,
   "metadata": {},
   "outputs": [],
   "source": [
    "table['Ticket_Medio'] = table['VL_Venda']/table['Qtd_transacoes']"
   ]
  },
  {
   "cell_type": "code",
   "execution_count": 15,
   "metadata": {},
   "outputs": [
    {
     "data": {
      "text/html": [
       "<div>\n",
       "<style scoped>\n",
       "    .dataframe tbody tr th:only-of-type {\n",
       "        vertical-align: middle;\n",
       "    }\n",
       "\n",
       "    .dataframe tbody tr th {\n",
       "        vertical-align: top;\n",
       "    }\n",
       "\n",
       "    .dataframe thead th {\n",
       "        text-align: right;\n",
       "    }\n",
       "</style>\n",
       "<table border=\"1\" class=\"dataframe\">\n",
       "  <thead>\n",
       "    <tr style=\"text-align: right;\">\n",
       "      <th></th>\n",
       "      <th></th>\n",
       "      <th>Qtd_transacoes</th>\n",
       "      <th>VL_Venda</th>\n",
       "      <th>Ticket_Medio</th>\n",
       "    </tr>\n",
       "    <tr>\n",
       "      <th>Regiao</th>\n",
       "      <th>Admin</th>\n",
       "      <th></th>\n",
       "      <th></th>\n",
       "      <th></th>\n",
       "    </tr>\n",
       "  </thead>\n",
       "  <tbody>\n",
       "    <tr>\n",
       "      <th rowspan=\"2\" valign=\"top\">N+NE+CO</th>\n",
       "      <th>Franqueado</th>\n",
       "      <td>559396</td>\n",
       "      <td>1.497248e+07</td>\n",
       "      <td>26.765441</td>\n",
       "    </tr>\n",
       "    <tr>\n",
       "      <th>Proprio</th>\n",
       "      <td>804259</td>\n",
       "      <td>2.035204e+07</td>\n",
       "      <td>25.305331</td>\n",
       "    </tr>\n",
       "    <tr>\n",
       "      <th rowspan=\"2\" valign=\"top\">SE</th>\n",
       "      <th>Franqueado</th>\n",
       "      <td>1413760</td>\n",
       "      <td>4.081343e+07</td>\n",
       "      <td>28.868713</td>\n",
       "    </tr>\n",
       "    <tr>\n",
       "      <th>Proprio</th>\n",
       "      <td>1771406</td>\n",
       "      <td>5.457126e+07</td>\n",
       "      <td>30.806750</td>\n",
       "    </tr>\n",
       "    <tr>\n",
       "      <th rowspan=\"2\" valign=\"top\">SUL</th>\n",
       "      <th>Franqueado</th>\n",
       "      <td>489793</td>\n",
       "      <td>1.353845e+07</td>\n",
       "      <td>27.641171</td>\n",
       "    </tr>\n",
       "    <tr>\n",
       "      <th>Proprio</th>\n",
       "      <td>632604</td>\n",
       "      <td>1.788031e+07</td>\n",
       "      <td>28.264614</td>\n",
       "    </tr>\n",
       "  </tbody>\n",
       "</table>\n",
       "</div>"
      ],
      "text/plain": [
       "                    Qtd_transacoes      VL_Venda  Ticket_Medio\n",
       "Regiao  Admin                                                 \n",
       "N+NE+CO Franqueado          559396  1.497248e+07     26.765441\n",
       "        Proprio             804259  2.035204e+07     25.305331\n",
       "SE      Franqueado         1413760  4.081343e+07     28.868713\n",
       "        Proprio            1771406  5.457126e+07     30.806750\n",
       "SUL     Franqueado          489793  1.353845e+07     27.641171\n",
       "        Proprio             632604  1.788031e+07     28.264614"
      ]
     },
     "execution_count": 15,
     "metadata": {},
     "output_type": "execute_result"
    }
   ],
   "source": [
    "table"
   ]
  },
  {
   "cell_type": "markdown",
   "metadata": {},
   "source": [
    "A tabela acima indica que o Ticket Médio dos franqueados é maior na Região N+NE+CO, mas menor nas regiões SE e Sul. Também podemos observar como a região SE tem maior peso no negócio. Podemos visualizar o resultado gráfico abaixo:"
   ]
  },
  {
   "cell_type": "code",
   "execution_count": 16,
   "metadata": {},
   "outputs": [],
   "source": [
    "import matplotlib.pyplot as plt"
   ]
  },
  {
   "cell_type": "code",
   "execution_count": 17,
   "metadata": {},
   "outputs": [
    {
     "data": {
      "text/plain": [
       "<matplotlib.axes._subplots.AxesSubplot at 0x1e738302730>"
      ]
     },
     "execution_count": 17,
     "metadata": {},
     "output_type": "execute_result"
    },
    {
     "data": {
      "image/png": "[encoded data removed]",
      "text/plain": [
       "<Figure size 1440x576 with 1 Axes>"
      ]
     },
     "metadata": {},
     "output_type": "display_data"
    }
   ],
   "source": [
    "table.plot.pie(y='Qtd_transacoes', figsize=(20,8))"
   ]
  },
  {
   "cell_type": "markdown",
   "metadata": {},
   "source": [
    "Para a análise exploratória, vamos criar uma nova coluna com o indicador de Ticket Médio para verificarmos o perfil das transações do dataframe:"
   ]
  },
  {
   "cell_type": "code",
   "execution_count": 18,
   "metadata": {},
   "outputs": [],
   "source": [
    "transacoes['Ticket_Medio'] = transacoes['VL_Venda']/transacoes['Qtd_transacoes']"
   ]
  },
  {
   "cell_type": "code",
   "execution_count": 19,
   "metadata": {},
   "outputs": [
    {
     "data": {
      "text/html": [
       "<div>\n",
       "<style scoped>\n",
       "    .dataframe tbody tr th:only-of-type {\n",
       "        vertical-align: middle;\n",
       "    }\n",
       "\n",
       "    .dataframe tbody tr th {\n",
       "        vertical-align: top;\n",
       "    }\n",
       "\n",
       "    .dataframe thead th {\n",
       "        text-align: right;\n",
       "    }\n",
       "</style>\n",
       "<table border=\"1\" class=\"dataframe\">\n",
       "  <thead>\n",
       "    <tr style=\"text-align: right;\">\n",
       "      <th></th>\n",
       "      <th>Admin</th>\n",
       "      <th>Regiao</th>\n",
       "      <th>Cb01_Sand_Beb_Acomp_Reg</th>\n",
       "      <th>Cb01_Sand_Beb_Acomp_Cup</th>\n",
       "      <th>Sand01_Reg</th>\n",
       "      <th>Sand01_Cup</th>\n",
       "      <th>Cb16_Sand_Beb_Acomp_Reg</th>\n",
       "      <th>Cb16_Sand_Beb_Acomp_Cup</th>\n",
       "      <th>Sand16_Reg</th>\n",
       "      <th>Sand16_Cup</th>\n",
       "      <th>...</th>\n",
       "      <th>Acomp03_Cup</th>\n",
       "      <th>Acomp02_Reg</th>\n",
       "      <th>Acomp02_Cup</th>\n",
       "      <th>Acomp04_Reg</th>\n",
       "      <th>Acomp04_Cup</th>\n",
       "      <th>2Sand_Beb_Acomp_Reg</th>\n",
       "      <th>2Sand_Beb_Acomp_Cup</th>\n",
       "      <th>Qtd_transacoes</th>\n",
       "      <th>VL_Venda</th>\n",
       "      <th>Ticket_Medio</th>\n",
       "    </tr>\n",
       "  </thead>\n",
       "  <tbody>\n",
       "    <tr>\n",
       "      <th>0</th>\n",
       "      <td>Franqueado</td>\n",
       "      <td>N+NE+CO</td>\n",
       "      <td>0</td>\n",
       "      <td>0</td>\n",
       "      <td>0</td>\n",
       "      <td>0</td>\n",
       "      <td>0</td>\n",
       "      <td>0</td>\n",
       "      <td>0</td>\n",
       "      <td>0</td>\n",
       "      <td>...</td>\n",
       "      <td>0</td>\n",
       "      <td>0</td>\n",
       "      <td>0</td>\n",
       "      <td>0</td>\n",
       "      <td>0</td>\n",
       "      <td>0</td>\n",
       "      <td>0</td>\n",
       "      <td>1373</td>\n",
       "      <td>19934.651470</td>\n",
       "      <td>14.519047</td>\n",
       "    </tr>\n",
       "    <tr>\n",
       "      <th>1</th>\n",
       "      <td>Franqueado</td>\n",
       "      <td>N+NE+CO</td>\n",
       "      <td>0</td>\n",
       "      <td>0</td>\n",
       "      <td>0</td>\n",
       "      <td>0</td>\n",
       "      <td>0</td>\n",
       "      <td>0</td>\n",
       "      <td>0</td>\n",
       "      <td>0</td>\n",
       "      <td>...</td>\n",
       "      <td>0</td>\n",
       "      <td>0</td>\n",
       "      <td>0</td>\n",
       "      <td>0</td>\n",
       "      <td>0</td>\n",
       "      <td>0</td>\n",
       "      <td>0</td>\n",
       "      <td>852</td>\n",
       "      <td>16106.657440</td>\n",
       "      <td>18.904528</td>\n",
       "    </tr>\n",
       "    <tr>\n",
       "      <th>2</th>\n",
       "      <td>Franqueado</td>\n",
       "      <td>N+NE+CO</td>\n",
       "      <td>0</td>\n",
       "      <td>0</td>\n",
       "      <td>0</td>\n",
       "      <td>0</td>\n",
       "      <td>0</td>\n",
       "      <td>0</td>\n",
       "      <td>0</td>\n",
       "      <td>0</td>\n",
       "      <td>...</td>\n",
       "      <td>0</td>\n",
       "      <td>0</td>\n",
       "      <td>0</td>\n",
       "      <td>0</td>\n",
       "      <td>0</td>\n",
       "      <td>0</td>\n",
       "      <td>0</td>\n",
       "      <td>240</td>\n",
       "      <td>5135.182905</td>\n",
       "      <td>21.396595</td>\n",
       "    </tr>\n",
       "    <tr>\n",
       "      <th>3</th>\n",
       "      <td>Franqueado</td>\n",
       "      <td>N+NE+CO</td>\n",
       "      <td>0</td>\n",
       "      <td>0</td>\n",
       "      <td>0</td>\n",
       "      <td>0</td>\n",
       "      <td>0</td>\n",
       "      <td>0</td>\n",
       "      <td>0</td>\n",
       "      <td>0</td>\n",
       "      <td>...</td>\n",
       "      <td>0</td>\n",
       "      <td>0</td>\n",
       "      <td>0</td>\n",
       "      <td>0</td>\n",
       "      <td>0</td>\n",
       "      <td>0</td>\n",
       "      <td>0</td>\n",
       "      <td>142</td>\n",
       "      <td>3183.077909</td>\n",
       "      <td>22.416042</td>\n",
       "    </tr>\n",
       "    <tr>\n",
       "      <th>4</th>\n",
       "      <td>Franqueado</td>\n",
       "      <td>N+NE+CO</td>\n",
       "      <td>0</td>\n",
       "      <td>0</td>\n",
       "      <td>0</td>\n",
       "      <td>0</td>\n",
       "      <td>0</td>\n",
       "      <td>0</td>\n",
       "      <td>0</td>\n",
       "      <td>0</td>\n",
       "      <td>...</td>\n",
       "      <td>0</td>\n",
       "      <td>0</td>\n",
       "      <td>0</td>\n",
       "      <td>0</td>\n",
       "      <td>0</td>\n",
       "      <td>0</td>\n",
       "      <td>0</td>\n",
       "      <td>40</td>\n",
       "      <td>1035.245162</td>\n",
       "      <td>25.881129</td>\n",
       "    </tr>\n",
       "  </tbody>\n",
       "</table>\n",
       "<p>5 rows × 110 columns</p>\n",
       "</div>"
      ],
      "text/plain": [
       "        Admin   Regiao  Cb01_Sand_Beb_Acomp_Reg  Cb01_Sand_Beb_Acomp_Cup  \\\n",
       "0  Franqueado  N+NE+CO                        0                        0   \n",
       "1  Franqueado  N+NE+CO                        0                        0   \n",
       "2  Franqueado  N+NE+CO                        0                        0   \n",
       "3  Franqueado  N+NE+CO                        0                        0   \n",
       "4  Franqueado  N+NE+CO                        0                        0   \n",
       "\n",
       "   Sand01_Reg  Sand01_Cup  Cb16_Sand_Beb_Acomp_Reg  Cb16_Sand_Beb_Acomp_Cup  \\\n",
       "0           0           0                        0                        0   \n",
       "1           0           0                        0                        0   \n",
       "2           0           0                        0                        0   \n",
       "3           0           0                        0                        0   \n",
       "4           0           0                        0                        0   \n",
       "\n",
       "   Sand16_Reg  Sand16_Cup  ...  Acomp03_Cup  Acomp02_Reg  Acomp02_Cup  \\\n",
       "0           0           0  ...            0            0            0   \n",
       "1           0           0  ...            0            0            0   \n",
       "2           0           0  ...            0            0            0   \n",
       "3           0           0  ...            0            0            0   \n",
       "4           0           0  ...            0            0            0   \n",
       "\n",
       "   Acomp04_Reg  Acomp04_Cup  2Sand_Beb_Acomp_Reg  2Sand_Beb_Acomp_Cup  \\\n",
       "0            0            0                    0                    0   \n",
       "1            0            0                    0                    0   \n",
       "2            0            0                    0                    0   \n",
       "3            0            0                    0                    0   \n",
       "4            0            0                    0                    0   \n",
       "\n",
       "   Qtd_transacoes      VL_Venda  Ticket_Medio  \n",
       "0            1373  19934.651470     14.519047  \n",
       "1             852  16106.657440     18.904528  \n",
       "2             240   5135.182905     21.396595  \n",
       "3             142   3183.077909     22.416042  \n",
       "4              40   1035.245162     25.881129  \n",
       "\n",
       "[5 rows x 110 columns]"
      ]
     },
     "execution_count": 19,
     "metadata": {},
     "output_type": "execute_result"
    }
   ],
   "source": [
    "transacoes.head()"
   ]
  },
  {
   "cell_type": "code",
   "execution_count": null,
   "metadata": {},
   "outputs": [],
   "source": []
  },
  {
   "cell_type": "markdown",
   "metadata": {},
   "source": [
    "*LEMBRETE*: Montar código para apresentar a distribuição dos Ticket Médios do Dataframe com as quebras de Admin e Região"
   ]
  },
  {
   "cell_type": "markdown",
   "metadata": {},
   "source": [
    "Agora, vamos criar uma variável para armazenar as composições das transações e entender quais os produtos mais relevantes do mix e o perfil das transações:"
   ]
  },
  {
   "cell_type": "code",
   "execution_count": 20,
   "metadata": {},
   "outputs": [],
   "source": [
    "cols = list(transacoes.columns)"
   ]
  },
  {
   "cell_type": "code",
   "execution_count": 21,
   "metadata": {
    "scrolled": true
   },
   "outputs": [
    {
     "name": "stdout",
     "output_type": "stream",
     "text": [
      "['Admin', 'Regiao', 'Cb01_Sand_Beb_Acomp_Reg', 'Cb01_Sand_Beb_Acomp_Cup', 'Sand01_Reg', 'Sand01_Cup', 'Cb16_Sand_Beb_Acomp_Reg', 'Cb16_Sand_Beb_Acomp_Cup', 'Sand16_Reg', 'Sand16_Cup', 'Cb04_Sand_Beb_Acomp_Reg', 'Cb04_Sand_Beb_Acomp_Cup', 'Sand04_Reg', 'Sand04_Cup', 'Cb09_Sand_Beb_Acomp_Reg', 'Cb09_Sand_Beb_Acomp_Cup', 'Sand09_Reg', 'Sand09_Cup', 'Cb07_Sand_Beb_Acomp_Reg', 'Cb07_Sand_Beb_Acomp_Cup', 'Sand07_Reg', 'Sand07_Cup', 'Cb18_Sand_Beb_Acomp_Reg', 'Cb18_Sand_Beb_Acomp_Cup', 'Sand18_Reg', 'Sand18_Cup', 'Cb10_Sand_Beb_Acomp_Reg', 'Cb10_Sand_Beb_Acomp_Cup', 'Sand10_Reg', 'Sand10_Cup', 'Cb06_Sand_Beb_Acomp_Reg', 'Cb06_Sand_Beb_Acomp_Cup', 'Sand06_Reg', 'Sand06_Cup', 'CbA01_Sand_Beb_Acomp_Reg', 'CbA01_Sand_Beb_Acomp_Cup', 'Acomp01_Reg', 'Acomp01_Cup', 'Cb05_Sand_Beb_Acomp_Reg', 'Cb05_Sand_Beb_Acomp_Cup', 'Sand05_Reg', 'Sand05_Cup', 'Cb11_Sand_Beb_Acomp_Reg', 'Cb11_Sand_Beb_Acomp_Cup', 'Sand11_Reg', 'Sand11_Cup', 'Cb03_Sand_Beb_Acomp_Reg', 'Cb03_Sand_Beb_Acomp_Cup', 'Sand03_Reg', 'Sand03_Cup', 'Cb02_Sand_Beb_Acomp_Reg', 'Cb02_Sand_Beb_Acomp_Cup', 'Sand02_Reg', 'Sand02_Cup', 'Cb12_Sand_Beb_Acomp_Reg', 'Cb12_Sand_Beb_Acomp_Cup', 'Sand12_Reg', 'Sand12_Cup', 'Cb14_Sand_Beb_Acomp_Reg', 'Cb14_Sand_Beb_Acomp_Cup', 'Sand14_Reg', 'Sand14_Cup', 'Cb15_Sand_Beb_Acomp_Reg', 'Cb15_Sand_Beb_Acomp_Cup', 'Sand15_Reg', 'Sand15_Cup', 'Cb13_Sand_Beb_Acomp_Reg', 'Cb13_Sand_Beb_Acomp_Cup', 'Sand13_Reg', 'Sand13_Cup', 'Menu_inf_Reg', 'Menu_inf_Cup', 'Cb17_Sand_Beb_Acomp_Reg', 'Cb17_Sand_Beb_Acomp_Cup', 'Sand17_Reg', 'Sand17_Cup', 'Sand_peq', 'Beb_peq', 'Acomp_peq', 'Sorv_peq_Reg', 'Sorv_grande_Reg', 'Sundae_peq_Reg', 'Sundae_med_Reg', 'Sundae_quente_Reg', 'Sundae_grande_Reg', '2Sand_Cup', '2Sand_Reg', 'Sand_dia', 'Cb_Sand_Beb_Acomp_dia', 'Beb03_Reg', 'Beb03_Cup', 'Beb04_Reg', 'Beb04_Cup', 'Beb02_Reg', 'Beb02_Cup', 'Beb01_Reg', 'Beb01_Cup', 'MilkShake_Reg', 'MilkShake_Cup', 'Acomp03_Reg', 'Acomp03_Cup', 'Acomp02_Reg', 'Acomp02_Cup', 'Acomp04_Reg', 'Acomp04_Cup', '2Sand_Beb_Acomp_Reg', '2Sand_Beb_Acomp_Cup', 'Qtd_transacoes', 'VL_Venda', 'Ticket_Medio']\n"
     ]
    }
   ],
   "source": [
    "print (cols)"
   ]
  },
  {
   "cell_type": "code",
   "execution_count": 22,
   "metadata": {},
   "outputs": [
    {
     "name": "stdout",
     "output_type": "stream",
     "text": [
      "['Admin', 'Regiao', 'Cb01_Sand_Beb_Acomp_Reg', 'Cb01_Sand_Beb_Acomp_Cup', 'Sand01_Reg', 'Sand01_Cup', 'Cb16_Sand_Beb_Acomp_Reg', 'Cb16_Sand_Beb_Acomp_Cup', 'Sand16_Reg', 'Sand16_Cup', 'Cb04_Sand_Beb_Acomp_Reg', 'Cb04_Sand_Beb_Acomp_Cup', 'Sand04_Reg', 'Sand04_Cup', 'Cb09_Sand_Beb_Acomp_Reg', 'Cb09_Sand_Beb_Acomp_Cup', 'Sand09_Reg', 'Sand09_Cup', 'Cb07_Sand_Beb_Acomp_Reg', 'Cb07_Sand_Beb_Acomp_Cup', 'Sand07_Reg', 'Sand07_Cup', 'Cb18_Sand_Beb_Acomp_Reg', 'Cb18_Sand_Beb_Acomp_Cup', 'Sand18_Reg', 'Sand18_Cup', 'Cb10_Sand_Beb_Acomp_Reg', 'Cb10_Sand_Beb_Acomp_Cup', 'Sand10_Reg', 'Sand10_Cup', 'Cb06_Sand_Beb_Acomp_Reg', 'Cb06_Sand_Beb_Acomp_Cup', 'Sand06_Reg', 'Sand06_Cup', 'CbA01_Sand_Beb_Acomp_Reg', 'CbA01_Sand_Beb_Acomp_Cup', 'Acomp01_Reg', 'Acomp01_Cup', 'Cb05_Sand_Beb_Acomp_Reg', 'Cb05_Sand_Beb_Acomp_Cup', 'Sand05_Reg', 'Sand05_Cup', 'Cb11_Sand_Beb_Acomp_Reg', 'Cb11_Sand_Beb_Acomp_Cup', 'Sand11_Reg', 'Sand11_Cup', 'Cb03_Sand_Beb_Acomp_Reg', 'Cb03_Sand_Beb_Acomp_Cup', 'Sand03_Reg', 'Sand03_Cup', 'Cb02_Sand_Beb_Acomp_Reg', 'Cb02_Sand_Beb_Acomp_Cup', 'Sand02_Reg', 'Sand02_Cup', 'Cb12_Sand_Beb_Acomp_Reg', 'Cb12_Sand_Beb_Acomp_Cup', 'Sand12_Reg', 'Sand12_Cup', 'Cb14_Sand_Beb_Acomp_Reg', 'Cb14_Sand_Beb_Acomp_Cup', 'Sand14_Reg', 'Sand14_Cup', 'Cb15_Sand_Beb_Acomp_Reg', 'Cb15_Sand_Beb_Acomp_Cup', 'Sand15_Reg', 'Sand15_Cup', 'Cb13_Sand_Beb_Acomp_Reg', 'Cb13_Sand_Beb_Acomp_Cup', 'Sand13_Reg', 'Sand13_Cup', 'Menu_inf_Reg', 'Menu_inf_Cup', 'Cb17_Sand_Beb_Acomp_Reg', 'Cb17_Sand_Beb_Acomp_Cup', 'Sand17_Reg', 'Sand17_Cup', 'Sand_peq', 'Beb_peq', 'Acomp_peq', 'Sorv_peq_Reg', 'Sorv_grande_Reg', 'Sundae_peq_Reg', 'Sundae_med_Reg', 'Sundae_quente_Reg', 'Sundae_grande_Reg', '2Sand_Cup', '2Sand_Reg', 'Sand_dia', 'Cb_Sand_Beb_Acomp_dia', 'Beb03_Reg', 'Beb03_Cup', 'Beb04_Reg', 'Beb04_Cup', 'Beb02_Reg', 'Beb02_Cup', 'Beb01_Reg', 'Beb01_Cup', 'MilkShake_Reg', 'MilkShake_Cup', 'Acomp03_Reg', 'Acomp03_Cup', 'Acomp02_Reg', 'Acomp02_Cup', 'Acomp04_Reg', 'Acomp04_Cup', '2Sand_Beb_Acomp_Reg', '2Sand_Beb_Acomp_Cup']\n"
     ]
    }
   ],
   "source": [
    "cols.pop()\n",
    "cols.pop()\n",
    "cols.pop()\n",
    "print (cols)"
   ]
  },
  {
   "cell_type": "code",
   "execution_count": 23,
   "metadata": {},
   "outputs": [
    {
     "name": "stdout",
     "output_type": "stream",
     "text": [
      "['Cb01_Sand_Beb_Acomp_Reg', 'Cb01_Sand_Beb_Acomp_Cup', 'Sand01_Reg', 'Sand01_Cup', 'Cb16_Sand_Beb_Acomp_Reg', 'Cb16_Sand_Beb_Acomp_Cup', 'Sand16_Reg', 'Sand16_Cup', 'Cb04_Sand_Beb_Acomp_Reg', 'Cb04_Sand_Beb_Acomp_Cup', 'Sand04_Reg', 'Sand04_Cup', 'Cb09_Sand_Beb_Acomp_Reg', 'Cb09_Sand_Beb_Acomp_Cup', 'Sand09_Reg', 'Sand09_Cup', 'Cb07_Sand_Beb_Acomp_Reg', 'Cb07_Sand_Beb_Acomp_Cup', 'Sand07_Reg', 'Sand07_Cup', 'Cb18_Sand_Beb_Acomp_Reg', 'Cb18_Sand_Beb_Acomp_Cup', 'Sand18_Reg', 'Sand18_Cup', 'Cb10_Sand_Beb_Acomp_Reg', 'Cb10_Sand_Beb_Acomp_Cup', 'Sand10_Reg', 'Sand10_Cup', 'Cb06_Sand_Beb_Acomp_Reg', 'Cb06_Sand_Beb_Acomp_Cup', 'Sand06_Reg', 'Sand06_Cup', 'CbA01_Sand_Beb_Acomp_Reg', 'CbA01_Sand_Beb_Acomp_Cup', 'Acomp01_Reg', 'Acomp01_Cup', 'Cb05_Sand_Beb_Acomp_Reg', 'Cb05_Sand_Beb_Acomp_Cup', 'Sand05_Reg', 'Sand05_Cup', 'Cb11_Sand_Beb_Acomp_Reg', 'Cb11_Sand_Beb_Acomp_Cup', 'Sand11_Reg', 'Sand11_Cup', 'Cb03_Sand_Beb_Acomp_Reg', 'Cb03_Sand_Beb_Acomp_Cup', 'Sand03_Reg', 'Sand03_Cup', 'Cb02_Sand_Beb_Acomp_Reg', 'Cb02_Sand_Beb_Acomp_Cup', 'Sand02_Reg', 'Sand02_Cup', 'Cb12_Sand_Beb_Acomp_Reg', 'Cb12_Sand_Beb_Acomp_Cup', 'Sand12_Reg', 'Sand12_Cup', 'Cb14_Sand_Beb_Acomp_Reg', 'Cb14_Sand_Beb_Acomp_Cup', 'Sand14_Reg', 'Sand14_Cup', 'Cb15_Sand_Beb_Acomp_Reg', 'Cb15_Sand_Beb_Acomp_Cup', 'Sand15_Reg', 'Sand15_Cup', 'Cb13_Sand_Beb_Acomp_Reg', 'Cb13_Sand_Beb_Acomp_Cup', 'Sand13_Reg', 'Sand13_Cup', 'Menu_inf_Reg', 'Menu_inf_Cup', 'Cb17_Sand_Beb_Acomp_Reg', 'Cb17_Sand_Beb_Acomp_Cup', 'Sand17_Reg', 'Sand17_Cup', 'Sand_peq', 'Beb_peq', 'Acomp_peq', 'Sorv_peq_Reg', 'Sorv_grande_Reg', 'Sundae_peq_Reg', 'Sundae_med_Reg', 'Sundae_quente_Reg', 'Sundae_grande_Reg', '2Sand_Cup', '2Sand_Reg', 'Sand_dia', 'Cb_Sand_Beb_Acomp_dia', 'Beb03_Reg', 'Beb03_Cup', 'Beb04_Reg', 'Beb04_Cup', 'Beb02_Reg', 'Beb02_Cup', 'Beb01_Reg', 'Beb01_Cup', 'MilkShake_Reg', 'MilkShake_Cup', 'Acomp03_Reg', 'Acomp03_Cup', 'Acomp02_Reg', 'Acomp02_Cup', 'Acomp04_Reg', 'Acomp04_Cup', '2Sand_Beb_Acomp_Reg', '2Sand_Beb_Acomp_Cup']\n"
     ]
    }
   ],
   "source": [
    "del cols[0]\n",
    "del cols[0]\n",
    "print (cols)"
   ]
  },
  {
   "cell_type": "code",
   "execution_count": 24,
   "metadata": {
    "scrolled": true
   },
   "outputs": [
    {
     "name": "stdout",
     "output_type": "stream",
     "text": [
      "0.292030565568102\n"
     ]
    }
   ],
   "source": [
    "teste = transacoes.loc[transacoes['2Sand_Cup'] != 0, 'Qtd_transacoes'].sum()/transacoes['Qtd_transacoes'].sum()\n",
    "print (teste)"
   ]
  },
  {
   "cell_type": "markdown",
   "metadata": {},
   "source": [
    "Agora podemos aplicar o método FOR para apurar a importância de cada um dos itens do mix no total de transações e cada Ticket Médio do grupo de transações que contém cada item do Pmix:"
   ]
  },
  {
   "cell_type": "code",
   "execution_count": 25,
   "metadata": {},
   "outputs": [
    {
     "name": "stdout",
     "output_type": "stream",
     "text": [
      "[0.05215017303161332, 0.0589637005666155, 0.0034840840186358556, 0.020161277524510607, 0.020415191234052367, 0.014660695462597276, 0.0017516519379082236, 0.0003549502064635851, 0.021319758824294887, 0.01690289458102298, 0.0017629369916656351, 0.00042512913451748813, 0.015754816690171317, 0.020772081059130507, 0.001735606002096904, 0.004368373777908026, 0.0014716415415524497, 0.007526778198263583, 0.00039427156564956594, 4.937211018867552e-06, 0.0010137152195524842, 0.00013577330301885768, 0.00034489945546089043, 4.760882053907996e-06, 0.0, 0.0004173706600592677, 0.0, 2.9799595078164866e-05, 0.00036165070713204816, 1.040340893261377e-05, 6.929728322910529e-05, 0.0, 0.004472055209304245, 0.007786863421578927, 0.02022405063603621, 0.0330941254594692, 0.005571113647897153, 0.0003540685616387873, 0.0006236755490619476, 4.055566194069775e-06, 0.010101181086673091, 0.02123617889490406, 0.0011648291425228232, 8.234562663611238e-05, 0.037689434615280175, 0.017486190797109193, 0.0027045336645496612, 0.010648682522872512, 0.010247181469659604, 0.00038986334152557703, 0.0006132721401293338, 1.0227079967654215e-05, 0.018341033619233116, 0.0003717014581347428, 0.0011189836116333386, 0.0, 0.02707778117504917, 0.000410493830425845, 0.0013979360341993554, 0.0, 0.013375962623901956, 0.00037840195880320594, 0.0008245142401508812, 1.7103909601076875e-05, 0.014238916578414019, 0.00020824450761723496, 0.0007063738336279791, 0.0, 0.09529064126965318, 0.003456929358032084, 0.0, 0.0, 0.0, 0.0, 0.030723911512482858, 0.006701029655357985, 0.0060440279319186815, 0.0442721475351503, 0.009807593360015432, 0.026528340120235194, 0.021633977039852814, 0.04204564169460599, 0.11782865691285364, 0.292030565568102, 0.00367275601114258, 0.06059950437454529, 0.07859105398522857, 0.011849130116317165, 0.009668469806662344, 0.01023642540279707, 0.0024470933757087102, 0.0003041674645552331, 0.00015605113398920654, 0.006402152059751538, 1.0579737897573326e-06, 0.08676513581385868, 0.001660313534059174, 0.06937504430265244, 0.07487580269353074, 0.002896555907390617, 5.660159775201729e-05, 0.0007338811521616697, 0.0, 0.1177032870187674, 0.03840004034406718]\n"
     ]
    }
   ],
   "source": [
    "mix_prod_transacoes = []\n",
    "for col in cols:\n",
    "    mix_prod_transacoes.append(transacoes.loc[transacoes[col] != 0, 'Qtd_transacoes'].sum()/transacoes['Qtd_transacoes'].sum())\n",
    "    \n",
    "print (mix_prod_transacoes)"
   ]
  },
  {
   "cell_type": "code",
   "execution_count": 26,
   "metadata": {},
   "outputs": [
    {
     "name": "stderr",
     "output_type": "stream",
     "text": [
      "<ipython-input-26-a7221a1993c3>:3: RuntimeWarning: invalid value encountered in double_scalars\n",
      "  mix_prod_ticket_medio.append(transacoes.loc[transacoes[col] != 0, 'VL_Venda'].sum()/transacoes.loc[transacoes[col] != 0, 'Qtd_transacoes'].sum())\n"
     ]
    },
    {
     "name": "stdout",
     "output_type": "stream",
     "text": [
      "[40.84757389349002, 42.17297471174943, 39.43181455479326, 29.044955430825002, 40.26207058029392, 48.12580787120733, 41.96149688279042, 46.66488996023497, 40.95122831592115, 48.16401960830189, 41.88074977708442, 48.77789147274326, 42.11264556497968, 37.9305254118704, 43.879659574333026, 29.438279496590702, 42.56289671436137, 33.0962837594244, 35.209664338964224, 30.434606631285714, 41.77137644582884, 36.4770030762013, 34.44243970110634, 33.80252543037037, nan, 27.15786780295733, nan, 25.022883588508872, 37.836872113812774, 40.79106396155932, 36.21181556386768, nan, 37.5936357504286, 32.24204269932821, 44.907525052405134, 38.61420294506504, 44.872884360099064, 39.670867775906366, 47.03991360374329, 22.96160988652174, 44.90214185576458, 36.75151562530635, 49.66232395642143, 35.973310773978596, 46.19937958157819, 42.488087168082345, 51.176319499621854, 38.74893598401781, 47.77289402701449, 46.01210611667572, 54.64048953543128, 34.0306188725862, 49.40831516376519, 49.304762546034155, 55.34568249529941, nan, 49.249729119517276, 51.10683065414089, 55.58052682859738, nan, 51.72386013620805, 50.22638437920317, 60.582643169296404, 43.0315640943299, 48.533291572290594, 49.85914809182049, 53.90410004910384, nan, 40.93585369391095, 45.11616553696455, nan, nan, nan, nan, 29.603258023587784, 28.161737760131988, 26.696794925415585, 19.3758484144897, 18.07379809108851, 28.044922539869198, 26.99637145024965, 35.470479146528675, 31.193659718704623, 29.653285673600333, 32.06936576665994, 27.208260244783155, 30.42946086082126, 36.779054669204264, 29.28166095294702, 34.98929689237735, 30.66826967821372, 33.83931857673101, 26.480693110501697, 29.793645767626728, 14.650334265833331, 30.98435618956254, 25.719091754792803, 33.224558849484886, 31.679695046424904, 36.01052741141395, 31.07867010187538, 40.73645220079097, nan, 33.20621607393397, 36.080289030486135]\n"
     ]
    }
   ],
   "source": [
    "mix_prod_ticket_medio = []\n",
    "for col in cols:\n",
    "    mix_prod_ticket_medio.append(transacoes.loc[transacoes[col] != 0, 'VL_Venda'].sum()/transacoes.loc[transacoes[col] != 0, 'Qtd_transacoes'].sum())\n",
    "    \n",
    "print (mix_prod_ticket_medio)"
   ]
  },
  {
   "cell_type": "markdown",
   "metadata": {},
   "source": [
    "Com as listas criadas, podemos montar um novo DataFrame para consolidar os dados e apresentar uma visualização gráfica:"
   ]
  },
  {
   "cell_type": "code",
   "execution_count": 27,
   "metadata": {},
   "outputs": [],
   "source": [
    "mix = pd.DataFrame()"
   ]
  },
  {
   "cell_type": "code",
   "execution_count": 28,
   "metadata": {},
   "outputs": [],
   "source": [
    "mix['Mix_Prod'] = cols"
   ]
  },
  {
   "cell_type": "code",
   "execution_count": 29,
   "metadata": {},
   "outputs": [],
   "source": [
    "mix['Import_Trans'] = mix_prod_transacoes"
   ]
  },
  {
   "cell_type": "code",
   "execution_count": 30,
   "metadata": {},
   "outputs": [],
   "source": [
    "mix['Ticket_Medio'] = mix_prod_ticket_medio"
   ]
  },
  {
   "cell_type": "code",
   "execution_count": 31,
   "metadata": {},
   "outputs": [],
   "source": [
    "mix = mix.sort_values(by=['Import_Trans'], ascending = False)"
   ]
  },
  {
   "cell_type": "code",
   "execution_count": 32,
   "metadata": {},
   "outputs": [],
   "source": [
    "mix = mix.reset_index()"
   ]
  },
  {
   "cell_type": "code",
   "execution_count": 33,
   "metadata": {},
   "outputs": [],
   "source": [
    "mix = mix.drop('index', axis = 1)"
   ]
  },
  {
   "cell_type": "code",
   "execution_count": 34,
   "metadata": {},
   "outputs": [],
   "source": [
    "mix15 = mix.head(15)"
   ]
  },
  {
   "cell_type": "code",
   "execution_count": 35,
   "metadata": {},
   "outputs": [
    {
     "data": {
      "text/html": [
       "<div>\n",
       "<style scoped>\n",
       "    .dataframe tbody tr th:only-of-type {\n",
       "        vertical-align: middle;\n",
       "    }\n",
       "\n",
       "    .dataframe tbody tr th {\n",
       "        vertical-align: top;\n",
       "    }\n",
       "\n",
       "    .dataframe thead th {\n",
       "        text-align: right;\n",
       "    }\n",
       "</style>\n",
       "<table border=\"1\" class=\"dataframe\">\n",
       "  <thead>\n",
       "    <tr style=\"text-align: right;\">\n",
       "      <th></th>\n",
       "      <th>Mix_Prod</th>\n",
       "      <th>Import_Trans</th>\n",
       "      <th>Ticket_Medio</th>\n",
       "    </tr>\n",
       "  </thead>\n",
       "  <tbody>\n",
       "    <tr>\n",
       "      <th>0</th>\n",
       "      <td>2Sand_Cup</td>\n",
       "      <td>0.292031</td>\n",
       "      <td>29.653286</td>\n",
       "    </tr>\n",
       "    <tr>\n",
       "      <th>1</th>\n",
       "      <td>Sundae_grande_Reg</td>\n",
       "      <td>0.117829</td>\n",
       "      <td>31.193660</td>\n",
       "    </tr>\n",
       "    <tr>\n",
       "      <th>2</th>\n",
       "      <td>2Sand_Beb_Acomp_Reg</td>\n",
       "      <td>0.117703</td>\n",
       "      <td>33.206216</td>\n",
       "    </tr>\n",
       "    <tr>\n",
       "      <th>3</th>\n",
       "      <td>Menu_inf_Reg</td>\n",
       "      <td>0.095291</td>\n",
       "      <td>40.935854</td>\n",
       "    </tr>\n",
       "    <tr>\n",
       "      <th>4</th>\n",
       "      <td>MilkShake_Reg</td>\n",
       "      <td>0.086765</td>\n",
       "      <td>30.984356</td>\n",
       "    </tr>\n",
       "  </tbody>\n",
       "</table>\n",
       "</div>"
      ],
      "text/plain": [
       "              Mix_Prod  Import_Trans  Ticket_Medio\n",
       "0            2Sand_Cup      0.292031     29.653286\n",
       "1    Sundae_grande_Reg      0.117829     31.193660\n",
       "2  2Sand_Beb_Acomp_Reg      0.117703     33.206216\n",
       "3         Menu_inf_Reg      0.095291     40.935854\n",
       "4        MilkShake_Reg      0.086765     30.984356"
      ]
     },
     "execution_count": 35,
     "metadata": {},
     "output_type": "execute_result"
    }
   ],
   "source": [
    "mix15.head()"
   ]
  },
  {
   "cell_type": "code",
   "execution_count": 36,
   "metadata": {},
   "outputs": [
    {
     "data": {
      "text/plain": [
       "<matplotlib.axes._subplots.AxesSubplot at 0x1e736146730>"
      ]
     },
     "execution_count": 36,
     "metadata": {},
     "output_type": "execute_result"
    },
    {
     "data": {
      "image/png": "[encoded data removed]",
      "text/plain": [
       "<Figure size 2160x432 with 2 Axes>"
      ]
     },
     "metadata": {
      "needs_background": "light"
     },
     "output_type": "display_data"
    }
   ],
   "source": [
    "mix15.plot(kind='bar', figsize = (30, 6), x = 'Mix_Prod', y = 'Import_Trans')\n",
    "mix15['Ticket_Medio'].plot(secondary_y=True, color = 'r')"
   ]
  },
  {
   "cell_type": "markdown",
   "metadata": {},
   "source": [
    "*LEMBRETE*: Avaliar diferenças entre Regiões e propriedade das lojas"
   ]
  },
  {
   "cell_type": "markdown",
   "metadata": {},
   "source": [
    "## Preparação do Dataframe para a execução do Algoritmo Apriori"
   ]
  },
  {
   "cell_type": "markdown",
   "metadata": {
    "colab_type": "text",
    "id": "PmqwtVYL3vWH"
   },
   "source": [
    "Para executar o algoritmo Apriori, é preciso tratar o dataframe que temos para ter cada transação em uma linha e ter o perfil das transações identificados em um código binário 1/0.\n",
    "\n",
    "Para isso, vamos criar um novo dataframe para fazer as transformações necessárias:"
   ]
  },
  {
   "cell_type": "code",
   "execution_count": 37,
   "metadata": {
    "colab": {},
    "colab_type": "code",
    "id": "3bjLAo6C5VEl"
   },
   "outputs": [],
   "source": [
    "df_transacoes = transacoes"
   ]
  },
  {
   "cell_type": "markdown",
   "metadata": {
    "colab_type": "text",
    "id": "WLZVg6BV7k0n"
   },
   "source": [
    "Inicialmente, vamos tratar o dataframe para gerar uma linha para cada transação para gerar a amostragem que será utilizada no modelo:"
   ]
  },
  {
   "cell_type": "code",
   "execution_count": 38,
   "metadata": {
    "colab": {},
    "colab_type": "code",
    "id": "dr81CD7bBErH"
   },
   "outputs": [
    {
     "ename": "MemoryError",
     "evalue": "Unable to allocate 4.65 GiB for an array with shape (5671218, 110) and data type object",
     "output_type": "error",
     "traceback": [
      "\u001b[1;31m---------------------------------------------------------------------------\u001b[0m",
      "\u001b[1;31mMemoryError\u001b[0m                               Traceback (most recent call last)",
      "\u001b[1;32m<ipython-input-38-fdb5af71d4b2>\u001b[0m in \u001b[0;36m<module>\u001b[1;34m\u001b[0m\n\u001b[0;32m      4\u001b[0m     \u001b[0mtransacoes\u001b[0m \u001b[1;33m=\u001b[0m \u001b[1;33m(\u001b[0m\u001b[0mtransacoes\u001b[0m \u001b[1;33m+\u001b[0m \u001b[1;33m[\u001b[0m\u001b[0mrow\u001b[0m \u001b[1;32mfor\u001b[0m \u001b[0mtransacoes\u001b[0m \u001b[1;32min\u001b[0m \u001b[0mrange\u001b[0m\u001b[1;33m(\u001b[0m\u001b[0mrow\u001b[0m\u001b[1;33m[\u001b[0m\u001b[1;34m'Qtd_transacoes'\u001b[0m\u001b[1;33m]\u001b[0m\u001b[1;33m)\u001b[0m\u001b[1;33m]\u001b[0m\u001b[1;33m)\u001b[0m\u001b[1;33m\u001b[0m\u001b[1;33m\u001b[0m\u001b[0m\n\u001b[0;32m      5\u001b[0m \u001b[1;33m\u001b[0m\u001b[0m\n\u001b[1;32m----> 6\u001b[1;33m \u001b[0mdf_list_transacoes\u001b[0m \u001b[1;33m=\u001b[0m \u001b[0mpd\u001b[0m\u001b[1;33m.\u001b[0m\u001b[0mDataFrame\u001b[0m\u001b[1;33m(\u001b[0m\u001b[0mtransacoes\u001b[0m\u001b[1;33m)\u001b[0m\u001b[1;33m\u001b[0m\u001b[1;33m\u001b[0m\u001b[0m\n\u001b[0m",
      "\u001b[1;32mD:\\anaconda\\lib\\site-packages\\pandas\\core\\frame.py\u001b[0m in \u001b[0;36m__init__\u001b[1;34m(self, data, index, columns, dtype, copy)\u001b[0m\n\u001b[0;32m    472\u001b[0m                     \u001b[1;32mif\u001b[0m \u001b[0mis_named_tuple\u001b[0m\u001b[1;33m(\u001b[0m\u001b[0mdata\u001b[0m\u001b[1;33m[\u001b[0m\u001b[1;36m0\u001b[0m\u001b[1;33m]\u001b[0m\u001b[1;33m)\u001b[0m \u001b[1;32mand\u001b[0m \u001b[0mcolumns\u001b[0m \u001b[1;32mis\u001b[0m \u001b[1;32mNone\u001b[0m\u001b[1;33m:\u001b[0m\u001b[1;33m\u001b[0m\u001b[1;33m\u001b[0m\u001b[0m\n\u001b[0;32m    473\u001b[0m                         \u001b[0mcolumns\u001b[0m \u001b[1;33m=\u001b[0m \u001b[0mdata\u001b[0m\u001b[1;33m[\u001b[0m\u001b[1;36m0\u001b[0m\u001b[1;33m]\u001b[0m\u001b[1;33m.\u001b[0m\u001b[0m_fields\u001b[0m\u001b[1;33m\u001b[0m\u001b[1;33m\u001b[0m\u001b[0m\n\u001b[1;32m--> 474\u001b[1;33m                     \u001b[0marrays\u001b[0m\u001b[1;33m,\u001b[0m \u001b[0mcolumns\u001b[0m \u001b[1;33m=\u001b[0m \u001b[0mto_arrays\u001b[0m\u001b[1;33m(\u001b[0m\u001b[0mdata\u001b[0m\u001b[1;33m,\u001b[0m \u001b[0mcolumns\u001b[0m\u001b[1;33m,\u001b[0m \u001b[0mdtype\u001b[0m\u001b[1;33m=\u001b[0m\u001b[0mdtype\u001b[0m\u001b[1;33m)\u001b[0m\u001b[1;33m\u001b[0m\u001b[1;33m\u001b[0m\u001b[0m\n\u001b[0m\u001b[0;32m    475\u001b[0m                     \u001b[0mcolumns\u001b[0m \u001b[1;33m=\u001b[0m \u001b[0mensure_index\u001b[0m\u001b[1;33m(\u001b[0m\u001b[0mcolumns\u001b[0m\u001b[1;33m)\u001b[0m\u001b[1;33m\u001b[0m\u001b[1;33m\u001b[0m\u001b[0m\n\u001b[0;32m    476\u001b[0m \u001b[1;33m\u001b[0m\u001b[0m\n",
      "\u001b[1;32mD:\\anaconda\\lib\\site-packages\\pandas\\core\\internals\\construction.py\u001b[0m in \u001b[0;36mto_arrays\u001b[1;34m(data, columns, coerce_float, dtype)\u001b[0m\n\u001b[0;32m    465\u001b[0m         )\n\u001b[0;32m    466\u001b[0m     \u001b[1;32melif\u001b[0m \u001b[0misinstance\u001b[0m\u001b[1;33m(\u001b[0m\u001b[0mdata\u001b[0m\u001b[1;33m[\u001b[0m\u001b[1;36m0\u001b[0m\u001b[1;33m]\u001b[0m\u001b[1;33m,\u001b[0m \u001b[0mABCSeries\u001b[0m\u001b[1;33m)\u001b[0m\u001b[1;33m:\u001b[0m\u001b[1;33m\u001b[0m\u001b[1;33m\u001b[0m\u001b[0m\n\u001b[1;32m--> 467\u001b[1;33m         return _list_of_series_to_arrays(\n\u001b[0m\u001b[0;32m    468\u001b[0m             \u001b[0mdata\u001b[0m\u001b[1;33m,\u001b[0m \u001b[0mcolumns\u001b[0m\u001b[1;33m,\u001b[0m \u001b[0mcoerce_float\u001b[0m\u001b[1;33m=\u001b[0m\u001b[0mcoerce_float\u001b[0m\u001b[1;33m,\u001b[0m \u001b[0mdtype\u001b[0m\u001b[1;33m=\u001b[0m\u001b[0mdtype\u001b[0m\u001b[1;33m\u001b[0m\u001b[1;33m\u001b[0m\u001b[0m\n\u001b[0;32m    469\u001b[0m         )\n",
      "\u001b[1;32mD:\\anaconda\\lib\\site-packages\\pandas\\core\\internals\\construction.py\u001b[0m in \u001b[0;36m_list_of_series_to_arrays\u001b[1;34m(data, columns, coerce_float, dtype)\u001b[0m\n\u001b[0;32m    524\u001b[0m         \u001b[0maligned_values\u001b[0m\u001b[1;33m.\u001b[0m\u001b[0mappend\u001b[0m\u001b[1;33m(\u001b[0m\u001b[0malgorithms\u001b[0m\u001b[1;33m.\u001b[0m\u001b[0mtake_1d\u001b[0m\u001b[1;33m(\u001b[0m\u001b[0mvalues\u001b[0m\u001b[1;33m,\u001b[0m \u001b[0mindexer\u001b[0m\u001b[1;33m)\u001b[0m\u001b[1;33m)\u001b[0m\u001b[1;33m\u001b[0m\u001b[1;33m\u001b[0m\u001b[0m\n\u001b[0;32m    525\u001b[0m \u001b[1;33m\u001b[0m\u001b[0m\n\u001b[1;32m--> 526\u001b[1;33m     \u001b[0mvalues\u001b[0m \u001b[1;33m=\u001b[0m \u001b[0mnp\u001b[0m\u001b[1;33m.\u001b[0m\u001b[0mvstack\u001b[0m\u001b[1;33m(\u001b[0m\u001b[0maligned_values\u001b[0m\u001b[1;33m)\u001b[0m\u001b[1;33m\u001b[0m\u001b[1;33m\u001b[0m\u001b[0m\n\u001b[0m\u001b[0;32m    527\u001b[0m \u001b[1;33m\u001b[0m\u001b[0m\n\u001b[0;32m    528\u001b[0m     \u001b[1;32mif\u001b[0m \u001b[0mvalues\u001b[0m\u001b[1;33m.\u001b[0m\u001b[0mdtype\u001b[0m \u001b[1;33m==\u001b[0m \u001b[0mnp\u001b[0m\u001b[1;33m.\u001b[0m\u001b[0mobject_\u001b[0m\u001b[1;33m:\u001b[0m\u001b[1;33m\u001b[0m\u001b[1;33m\u001b[0m\u001b[0m\n",
      "\u001b[1;32m<__array_function__ internals>\u001b[0m in \u001b[0;36mvstack\u001b[1;34m(*args, **kwargs)\u001b[0m\n",
      "\u001b[1;32mD:\\anaconda\\lib\\site-packages\\numpy\\core\\shape_base.py\u001b[0m in \u001b[0;36mvstack\u001b[1;34m(tup)\u001b[0m\n\u001b[0;32m    281\u001b[0m     \u001b[1;32mif\u001b[0m \u001b[1;32mnot\u001b[0m \u001b[0misinstance\u001b[0m\u001b[1;33m(\u001b[0m\u001b[0marrs\u001b[0m\u001b[1;33m,\u001b[0m \u001b[0mlist\u001b[0m\u001b[1;33m)\u001b[0m\u001b[1;33m:\u001b[0m\u001b[1;33m\u001b[0m\u001b[1;33m\u001b[0m\u001b[0m\n\u001b[0;32m    282\u001b[0m         \u001b[0marrs\u001b[0m \u001b[1;33m=\u001b[0m \u001b[1;33m[\u001b[0m\u001b[0marrs\u001b[0m\u001b[1;33m]\u001b[0m\u001b[1;33m\u001b[0m\u001b[1;33m\u001b[0m\u001b[0m\n\u001b[1;32m--> 283\u001b[1;33m     \u001b[1;32mreturn\u001b[0m \u001b[0m_nx\u001b[0m\u001b[1;33m.\u001b[0m\u001b[0mconcatenate\u001b[0m\u001b[1;33m(\u001b[0m\u001b[0marrs\u001b[0m\u001b[1;33m,\u001b[0m \u001b[1;36m0\u001b[0m\u001b[1;33m)\u001b[0m\u001b[1;33m\u001b[0m\u001b[1;33m\u001b[0m\u001b[0m\n\u001b[0m\u001b[0;32m    284\u001b[0m \u001b[1;33m\u001b[0m\u001b[0m\n\u001b[0;32m    285\u001b[0m \u001b[1;33m\u001b[0m\u001b[0m\n",
      "\u001b[1;32m<__array_function__ internals>\u001b[0m in \u001b[0;36mconcatenate\u001b[1;34m(*args, **kwargs)\u001b[0m\n",
      "\u001b[1;31mMemoryError\u001b[0m: Unable to allocate 4.65 GiB for an array with shape (5671218, 110) and data type object"
     ]
    }
   ],
   "source": [
    "transacoes = []\n",
    "\n",
    "for (i, row) in df_transacoes.iterrows():\n",
    "    transacoes = (transacoes + [row for transacoes in range(row['Qtd_transacoes'])])\n",
    "\n",
    "df_list_transacoes = pd.DataFrame(transacoes)"
   ]
  },
  {
   "cell_type": "code",
   "execution_count": null,
   "metadata": {
    "colab": {
     "base_uri": "https://localhost:8080/",
     "height": 34
    },
    "colab_type": "code",
    "id": "lHRIdvgZd-u6",
    "outputId": "33436db5-72cc-48fd-c0db-7324ae263fdd"
   },
   "outputs": [],
   "source": [
    "df_list_GCs.shape"
   ]
  },
  {
   "cell_type": "code",
   "execution_count": 12,
   "metadata": {},
   "outputs": [],
   "source": [
    "df_list_GCs = df_list_GCs.reset_index(drop=True)MemoryError: Unable to allocate 4.65 GiB for an array with shape (5671218, 110) and data type object\n",
    "\n",
    "1\n",
    "df_list_GCs.shape"
   ]
  },
  {
   "cell_type": "code",
   "execution_count": 13,
   "metadata": {
    "colab": {
     "base_uri": "https://localhost:8080/",
     "height": 679
    },
    "colab_type": "code",
    "id": "0cOqMQpWbIld",
    "outputId": "11351a0e-0717-4cda-830f-cb115243ebf2"
   },
   "outputs": [
    {
     "data": {
      "text/html": [
       "<div>\n",
       "<style scoped>\n",
       "    .dataframe tbody tr th:only-of-type {\n",
       "        vertical-align: middle;\n",
       "    }\n",
       "\n",
       "    .dataframe tbody tr th {\n",
       "        vertical-align: top;\n",
       "    }\n",
       "\n",
       "    .dataframe thead th {\n",
       "        text-align: right;\n",
       "    }\n",
       "</style>\n",
       "<table border=\"1\" class=\"dataframe\">\n",
       "  <thead>\n",
       "    <tr style=\"text-align: right;\">\n",
       "      <th></th>\n",
       "      <th>Status</th>\n",
       "      <th>Regional</th>\n",
       "      <th>GM</th>\n",
       "      <th>n EVM Big Mac Full Price</th>\n",
       "      <th>n EVM Big Mac Cupom</th>\n",
       "      <th>n ALC Big Mac Full Price</th>\n",
       "      <th>n ALC Big Mac Cupom</th>\n",
       "      <th>n EVM Quarterao Full Price</th>\n",
       "      <th>n EVM Quarterao Cupom</th>\n",
       "      <th>n ALC Quarterao Full Price</th>\n",
       "      <th>...</th>\n",
       "      <th>n Mc nuggets 4 ALC Full Price</th>\n",
       "      <th>n Mc nuggets 4 ALC Cupom</th>\n",
       "      <th>n Side Salad ALC Full Price</th>\n",
       "      <th>n Side Salad ALC Cupom</th>\n",
       "      <th>n 3x3 Combado</th>\n",
       "      <th>n 2x14.90 Combado</th>\n",
       "      <th>n Outros</th>\n",
       "      <th>GCs</th>\n",
       "      <th>Venda</th>\n",
       "      <th>Margem</th>\n",
       "    </tr>\n",
       "  </thead>\n",
       "  <tbody>\n",
       "    <tr>\n",
       "      <th>1223295</th>\n",
       "      <td>Opco</td>\n",
       "      <td>SAO</td>\n",
       "      <td>WESLEY OLIVEIRA</td>\n",
       "      <td>4</td>\n",
       "      <td>0</td>\n",
       "      <td>0</td>\n",
       "      <td>0</td>\n",
       "      <td>0</td>\n",
       "      <td>0</td>\n",
       "      <td>0</td>\n",
       "      <td>...</td>\n",
       "      <td>0</td>\n",
       "      <td>0</td>\n",
       "      <td>0</td>\n",
       "      <td>0</td>\n",
       "      <td>0</td>\n",
       "      <td>0</td>\n",
       "      <td>2</td>\n",
       "      <td>1</td>\n",
       "      <td>127.74</td>\n",
       "      <td>97.95</td>\n",
       "    </tr>\n",
       "    <tr>\n",
       "      <th>1223296</th>\n",
       "      <td>Opco</td>\n",
       "      <td>SAO</td>\n",
       "      <td>WESLEY OLIVEIRA</td>\n",
       "      <td>5</td>\n",
       "      <td>0</td>\n",
       "      <td>0</td>\n",
       "      <td>0</td>\n",
       "      <td>0</td>\n",
       "      <td>0</td>\n",
       "      <td>0</td>\n",
       "      <td>...</td>\n",
       "      <td>0</td>\n",
       "      <td>0</td>\n",
       "      <td>0</td>\n",
       "      <td>0</td>\n",
       "      <td>0</td>\n",
       "      <td>0</td>\n",
       "      <td>0</td>\n",
       "      <td>1</td>\n",
       "      <td>109.00</td>\n",
       "      <td>84.67</td>\n",
       "    </tr>\n",
       "    <tr>\n",
       "      <th>1223297</th>\n",
       "      <td>Opco</td>\n",
       "      <td>SAO</td>\n",
       "      <td>WESLEY OLIVEIRA</td>\n",
       "      <td>5</td>\n",
       "      <td>0</td>\n",
       "      <td>0</td>\n",
       "      <td>0</td>\n",
       "      <td>0</td>\n",
       "      <td>0</td>\n",
       "      <td>0</td>\n",
       "      <td>...</td>\n",
       "      <td>0</td>\n",
       "      <td>0</td>\n",
       "      <td>0</td>\n",
       "      <td>0</td>\n",
       "      <td>0</td>\n",
       "      <td>0</td>\n",
       "      <td>2</td>\n",
       "      <td>1</td>\n",
       "      <td>146.97</td>\n",
       "      <td>111.28</td>\n",
       "    </tr>\n",
       "    <tr>\n",
       "      <th>1223298</th>\n",
       "      <td>Opco</td>\n",
       "      <td>SAO</td>\n",
       "      <td>WESLEY OLIVEIRA</td>\n",
       "      <td>5</td>\n",
       "      <td>0</td>\n",
       "      <td>0</td>\n",
       "      <td>0</td>\n",
       "      <td>0</td>\n",
       "      <td>0</td>\n",
       "      <td>0</td>\n",
       "      <td>...</td>\n",
       "      <td>0</td>\n",
       "      <td>0</td>\n",
       "      <td>0</td>\n",
       "      <td>0</td>\n",
       "      <td>0</td>\n",
       "      <td>0</td>\n",
       "      <td>0</td>\n",
       "      <td>1</td>\n",
       "      <td>135.88</td>\n",
       "      <td>105.57</td>\n",
       "    </tr>\n",
       "    <tr>\n",
       "      <th>1223299</th>\n",
       "      <td>Opco</td>\n",
       "      <td>SAO</td>\n",
       "      <td>WESLEY OLIVEIRA</td>\n",
       "      <td>6</td>\n",
       "      <td>0</td>\n",
       "      <td>0</td>\n",
       "      <td>0</td>\n",
       "      <td>0</td>\n",
       "      <td>0</td>\n",
       "      <td>0</td>\n",
       "      <td>...</td>\n",
       "      <td>1</td>\n",
       "      <td>0</td>\n",
       "      <td>0</td>\n",
       "      <td>0</td>\n",
       "      <td>0</td>\n",
       "      <td>0</td>\n",
       "      <td>6</td>\n",
       "      <td>1</td>\n",
       "      <td>156.52</td>\n",
       "      <td>107.80</td>\n",
       "    </tr>\n",
       "  </tbody>\n",
       "</table>\n",
       "<p>5 rows × 116 columns</p>\n",
       "</div>"
      ],
      "text/plain": [
       "        Status Regional               GM  n EVM Big Mac Full Price  \\\n",
       "1223295   Opco      SAO  WESLEY OLIVEIRA                         4   \n",
       "1223296   Opco      SAO  WESLEY OLIVEIRA                         5   \n",
       "1223297   Opco      SAO  WESLEY OLIVEIRA                         5   \n",
       "1223298   Opco      SAO  WESLEY OLIVEIRA                         5   \n",
       "1223299   Opco      SAO  WESLEY OLIVEIRA                         6   \n",
       "\n",
       "         n EVM Big Mac Cupom  n ALC Big Mac Full Price  n ALC Big Mac Cupom  \\\n",
       "1223295                    0                         0                    0   \n",
       "1223296                    0                         0                    0   \n",
       "1223297                    0                         0                    0   \n",
       "1223298                    0                         0                    0   \n",
       "1223299                    0                         0                    0   \n",
       "\n",
       "         n EVM Quarterao Full Price  n EVM Quarterao Cupom  \\\n",
       "1223295                           0                      0   \n",
       "1223296                           0                      0   \n",
       "1223297                           0                      0   \n",
       "1223298                           0                      0   \n",
       "1223299                           0                      0   \n",
       "\n",
       "         n ALC Quarterao Full Price  ...  n Mc nuggets 4 ALC Full Price  \\\n",
       "1223295                           0  ...                              0   \n",
       "1223296                           0  ...                              0   \n",
       "1223297                           0  ...                              0   \n",
       "1223298                           0  ...                              0   \n",
       "1223299                           0  ...                              1   \n",
       "\n",
       "         n Mc nuggets 4 ALC Cupom  n Side Salad ALC Full Price  \\\n",
       "1223295                         0                            0   \n",
       "1223296                         0                            0   \n",
       "1223297                         0                            0   \n",
       "1223298                         0                            0   \n",
       "1223299                         0                            0   \n",
       "\n",
       "         n Side Salad ALC Cupom  n 3x3 Combado  n 2x14.90 Combado  n Outros  \\\n",
       "1223295                       0              0                  0         2   \n",
       "1223296                       0              0                  0         0   \n",
       "1223297                       0              0                  0         2   \n",
       "1223298                       0              0                  0         0   \n",
       "1223299                       0              0                  0         6   \n",
       "\n",
       "         GCs   Venda  Margem  \n",
       "1223295    1  127.74   97.95  \n",
       "1223296    1  109.00   84.67  \n",
       "1223297    1  146.97  111.28  \n",
       "1223298    1  135.88  105.57  \n",
       "1223299    1  156.52  107.80  \n",
       "\n",
       "[5 rows x 116 columns]"
      ]
     },
     "execution_count": 13,
     "metadata": {},
     "output_type": "execute_result"
    }
   ],
   "source": [
    "df_list_GCs.tail()"
   ]
  },
  {
   "cell_type": "markdown",
   "metadata": {},
   "source": [
    "Agora será necessário corrigir os indicadores de GCs, Vendas e Margem dos registros para aplicar o algoritmo de construção de DataFrame aleatório que seja representativo do negócio:"
   ]
  },
  {
   "cell_type": "code",
   "execution_count": 14,
   "metadata": {},
   "outputs": [],
   "source": [
    "df_list_GCs['Venda Unit'] = df_list_GCs['Venda']/df_list_GCs['GCs']"
   ]
  },
  {
   "cell_type": "code",
   "execution_count": 15,
   "metadata": {},
   "outputs": [],
   "source": [
    "df_list_GCs['Margem Unit'] = df_list_GCs['Margem']/df_list_GCs['GCs']"
   ]
  },
  {
   "cell_type": "code",
   "execution_count": 16,
   "metadata": {},
   "outputs": [],
   "source": [
    "df_list_GCs['1 GC'] = df_list_GCs['GCs']/df_list_GCs['GCs']"
   ]
  },
  {
   "cell_type": "code",
   "execution_count": 17,
   "metadata": {},
   "outputs": [
    {
     "data": {
      "text/plain": [
       "1223300.0"
      ]
     },
     "execution_count": 17,
     "metadata": {},
     "output_type": "execute_result"
    }
   ],
   "source": [
    "df_list_GCs['1 GC'].sum()"
   ]
  },
  {
   "cell_type": "code",
   "execution_count": 18,
   "metadata": {},
   "outputs": [
    {
     "data": {
      "text/plain": [
       "1223300"
      ]
     },
     "execution_count": 18,
     "metadata": {},
     "output_type": "execute_result"
    }
   ],
   "source": [
    "transacoes['GCs'].sum()"
   ]
  },
  {
   "cell_type": "code",
   "execution_count": 19,
   "metadata": {},
   "outputs": [
    {
     "data": {
      "text/plain": [
       "45818756.459999986"
      ]
     },
     "execution_count": 19,
     "metadata": {},
     "output_type": "execute_result"
    }
   ],
   "source": [
    "df_list_GCs['Venda Unit'].sum()"
   ]
  },
  {
   "cell_type": "code",
   "execution_count": 20,
   "metadata": {},
   "outputs": [
    {
     "data": {
      "text/plain": [
       "45818756.45999999"
      ]
     },
     "execution_count": 20,
     "metadata": {},
     "output_type": "execute_result"
    }
   ],
   "source": [
    "transacoes['Venda'].sum()"
   ]
  },
  {
   "cell_type": "code",
   "execution_count": 21,
   "metadata": {
    "colab": {},
    "colab_type": "code",
    "id": "zQX8_S225Zzu"
   },
   "outputs": [],
   "source": [
    "df_list_GCs = df_list_GCs.drop(['Status', 'Regional', 'GM', 'Venda', 'Margem', 'GCs'], 1)"
   ]
  },
  {
   "cell_type": "code",
   "execution_count": 22,
   "metadata": {
    "colab": {
     "base_uri": "https://localhost:8080/",
     "height": 338
    },
    "colab_type": "code",
    "id": "oNIf-vsA5nTb",
    "outputId": "af087be2-4a0e-4c16-da59-2459f54dbb1d",
    "scrolled": false
   },
   "outputs": [
    {
     "data": {
      "text/html": [
       "<div>\n",
       "<style scoped>\n",
       "    .dataframe tbody tr th:only-of-type {\n",
       "        vertical-align: middle;\n",
       "    }\n",
       "\n",
       "    .dataframe tbody tr th {\n",
       "        vertical-align: top;\n",
       "    }\n",
       "\n",
       "    .dataframe thead th {\n",
       "        text-align: right;\n",
       "    }\n",
       "</style>\n",
       "<table border=\"1\" class=\"dataframe\">\n",
       "  <thead>\n",
       "    <tr style=\"text-align: right;\">\n",
       "      <th></th>\n",
       "      <th>n EVM Big Mac Full Price</th>\n",
       "      <th>n EVM Big Mac Cupom</th>\n",
       "      <th>n ALC Big Mac Full Price</th>\n",
       "      <th>n ALC Big Mac Cupom</th>\n",
       "      <th>n EVM Quarterao Full Price</th>\n",
       "      <th>n EVM Quarterao Cupom</th>\n",
       "      <th>n ALC Quarterao Full Price</th>\n",
       "      <th>n ALC Quarterao Cupom</th>\n",
       "      <th>n EVM Cheddar McMelt Full Price</th>\n",
       "      <th>n EVM Cheddar McMelt Cupom</th>\n",
       "      <th>...</th>\n",
       "      <th>n Mc nuggets 4 ALC Full Price</th>\n",
       "      <th>n Mc nuggets 4 ALC Cupom</th>\n",
       "      <th>n Side Salad ALC Full Price</th>\n",
       "      <th>n Side Salad ALC Cupom</th>\n",
       "      <th>n 3x3 Combado</th>\n",
       "      <th>n 2x14.90 Combado</th>\n",
       "      <th>n Outros</th>\n",
       "      <th>Venda Unit</th>\n",
       "      <th>Margem Unit</th>\n",
       "      <th>1 GC</th>\n",
       "    </tr>\n",
       "  </thead>\n",
       "  <tbody>\n",
       "    <tr>\n",
       "      <th>0</th>\n",
       "      <td>0</td>\n",
       "      <td>0</td>\n",
       "      <td>0</td>\n",
       "      <td>0</td>\n",
       "      <td>0</td>\n",
       "      <td>0</td>\n",
       "      <td>0</td>\n",
       "      <td>0</td>\n",
       "      <td>0</td>\n",
       "      <td>0</td>\n",
       "      <td>...</td>\n",
       "      <td>0</td>\n",
       "      <td>0</td>\n",
       "      <td>0</td>\n",
       "      <td>0</td>\n",
       "      <td>0</td>\n",
       "      <td>0</td>\n",
       "      <td>1</td>\n",
       "      <td>20.11255</td>\n",
       "      <td>14.109933</td>\n",
       "      <td>1.0</td>\n",
       "    </tr>\n",
       "    <tr>\n",
       "      <th>1</th>\n",
       "      <td>0</td>\n",
       "      <td>0</td>\n",
       "      <td>0</td>\n",
       "      <td>0</td>\n",
       "      <td>0</td>\n",
       "      <td>0</td>\n",
       "      <td>0</td>\n",
       "      <td>0</td>\n",
       "      <td>0</td>\n",
       "      <td>0</td>\n",
       "      <td>...</td>\n",
       "      <td>0</td>\n",
       "      <td>0</td>\n",
       "      <td>0</td>\n",
       "      <td>0</td>\n",
       "      <td>0</td>\n",
       "      <td>0</td>\n",
       "      <td>1</td>\n",
       "      <td>20.11255</td>\n",
       "      <td>14.109933</td>\n",
       "      <td>1.0</td>\n",
       "    </tr>\n",
       "    <tr>\n",
       "      <th>2</th>\n",
       "      <td>0</td>\n",
       "      <td>0</td>\n",
       "      <td>0</td>\n",
       "      <td>0</td>\n",
       "      <td>0</td>\n",
       "      <td>0</td>\n",
       "      <td>0</td>\n",
       "      <td>0</td>\n",
       "      <td>0</td>\n",
       "      <td>0</td>\n",
       "      <td>...</td>\n",
       "      <td>0</td>\n",
       "      <td>0</td>\n",
       "      <td>0</td>\n",
       "      <td>0</td>\n",
       "      <td>0</td>\n",
       "      <td>0</td>\n",
       "      <td>1</td>\n",
       "      <td>20.11255</td>\n",
       "      <td>14.109933</td>\n",
       "      <td>1.0</td>\n",
       "    </tr>\n",
       "    <tr>\n",
       "      <th>3</th>\n",
       "      <td>0</td>\n",
       "      <td>0</td>\n",
       "      <td>0</td>\n",
       "      <td>0</td>\n",
       "      <td>0</td>\n",
       "      <td>0</td>\n",
       "      <td>0</td>\n",
       "      <td>0</td>\n",
       "      <td>0</td>\n",
       "      <td>0</td>\n",
       "      <td>...</td>\n",
       "      <td>0</td>\n",
       "      <td>0</td>\n",
       "      <td>0</td>\n",
       "      <td>0</td>\n",
       "      <td>0</td>\n",
       "      <td>0</td>\n",
       "      <td>1</td>\n",
       "      <td>20.11255</td>\n",
       "      <td>14.109933</td>\n",
       "      <td>1.0</td>\n",
       "    </tr>\n",
       "    <tr>\n",
       "      <th>4</th>\n",
       "      <td>0</td>\n",
       "      <td>0</td>\n",
       "      <td>0</td>\n",
       "      <td>0</td>\n",
       "      <td>0</td>\n",
       "      <td>0</td>\n",
       "      <td>0</td>\n",
       "      <td>0</td>\n",
       "      <td>0</td>\n",
       "      <td>0</td>\n",
       "      <td>...</td>\n",
       "      <td>0</td>\n",
       "      <td>0</td>\n",
       "      <td>0</td>\n",
       "      <td>0</td>\n",
       "      <td>0</td>\n",
       "      <td>0</td>\n",
       "      <td>1</td>\n",
       "      <td>20.11255</td>\n",
       "      <td>14.109933</td>\n",
       "      <td>1.0</td>\n",
       "    </tr>\n",
       "  </tbody>\n",
       "</table>\n",
       "<p>5 rows × 113 columns</p>\n",
       "</div>"
      ],
      "text/plain": [
       "   n EVM Big Mac Full Price  n EVM Big Mac Cupom  n ALC Big Mac Full Price  \\\n",
       "0                         0                    0                         0   \n",
       "1                         0                    0                         0   \n",
       "2                         0                    0                         0   \n",
       "3                         0                    0                         0   \n",
       "4                         0                    0                         0   \n",
       "\n",
       "   n ALC Big Mac Cupom  n EVM Quarterao Full Price  n EVM Quarterao Cupom  \\\n",
       "0                    0                           0                      0   \n",
       "1                    0                           0                      0   \n",
       "2                    0                           0                      0   \n",
       "3                    0                           0                      0   \n",
       "4                    0                           0                      0   \n",
       "\n",
       "   n ALC Quarterao Full Price  n ALC Quarterao Cupom  \\\n",
       "0                           0                      0   \n",
       "1                           0                      0   \n",
       "2                           0                      0   \n",
       "3                           0                      0   \n",
       "4                           0                      0   \n",
       "\n",
       "   n EVM Cheddar McMelt Full Price  n EVM Cheddar McMelt Cupom  ...  \\\n",
       "0                                0                           0  ...   \n",
       "1                                0                           0  ...   \n",
       "2                                0                           0  ...   \n",
       "3                                0                           0  ...   \n",
       "4                                0                           0  ...   \n",
       "\n",
       "   n Mc nuggets 4 ALC Full Price  n Mc nuggets 4 ALC Cupom  \\\n",
       "0                              0                         0   \n",
       "1                              0                         0   \n",
       "2                              0                         0   \n",
       "3                              0                         0   \n",
       "4                              0                         0   \n",
       "\n",
       "   n Side Salad ALC Full Price  n Side Salad ALC Cupom  n 3x3 Combado  \\\n",
       "0                            0                       0              0   \n",
       "1                            0                       0              0   \n",
       "2                            0                       0              0   \n",
       "3                            0                       0              0   \n",
       "4                            0                       0              0   \n",
       "\n",
       "   n 2x14.90 Combado  n Outros  Venda Unit  Margem Unit  1 GC  \n",
       "0                  0         1    20.11255    14.109933   1.0  \n",
       "1                  0         1    20.11255    14.109933   1.0  \n",
       "2                  0         1    20.11255    14.109933   1.0  \n",
       "3                  0         1    20.11255    14.109933   1.0  \n",
       "4                  0         1    20.11255    14.109933   1.0  \n",
       "\n",
       "[5 rows x 113 columns]"
      ]
     },
     "execution_count": 22,
     "metadata": {},
     "output_type": "execute_result"
    }
   ],
   "source": [
    "df_list_GCs.head()"
   ]
  },
  {
   "cell_type": "markdown",
   "metadata": {},
   "source": [
    "Agora vamos aplicar o código para segmentar o meu Dataframe aleatoriamente e rodar algumas verificações para garantir que a base é uma boa representação do total:"
   ]
  },
  {
   "cell_type": "code",
   "execution_count": 23,
   "metadata": {},
   "outputs": [],
   "source": [
    "df_sample = df_list_GCs.sample(frac = 0.20, replace = True, axis = 0)"
   ]
  },
  {
   "cell_type": "code",
   "execution_count": 24,
   "metadata": {},
   "outputs": [
    {
     "data": {
      "text/html": [
       "<div>\n",
       "<style scoped>\n",
       "    .dataframe tbody tr th:only-of-type {\n",
       "        vertical-align: middle;\n",
       "    }\n",
       "\n",
       "    .dataframe tbody tr th {\n",
       "        vertical-align: top;\n",
       "    }\n",
       "\n",
       "    .dataframe thead th {\n",
       "        text-align: right;\n",
       "    }\n",
       "</style>\n",
       "<table border=\"1\" class=\"dataframe\">\n",
       "  <thead>\n",
       "    <tr style=\"text-align: right;\">\n",
       "      <th></th>\n",
       "      <th>n EVM Big Mac Full Price</th>\n",
       "      <th>n EVM Big Mac Cupom</th>\n",
       "      <th>n ALC Big Mac Full Price</th>\n",
       "      <th>n ALC Big Mac Cupom</th>\n",
       "      <th>n EVM Quarterao Full Price</th>\n",
       "      <th>n EVM Quarterao Cupom</th>\n",
       "      <th>n ALC Quarterao Full Price</th>\n",
       "      <th>n ALC Quarterao Cupom</th>\n",
       "      <th>n EVM Cheddar McMelt Full Price</th>\n",
       "      <th>n EVM Cheddar McMelt Cupom</th>\n",
       "      <th>...</th>\n",
       "      <th>n Mc nuggets 4 ALC Full Price</th>\n",
       "      <th>n Mc nuggets 4 ALC Cupom</th>\n",
       "      <th>n Side Salad ALC Full Price</th>\n",
       "      <th>n Side Salad ALC Cupom</th>\n",
       "      <th>n 3x3 Combado</th>\n",
       "      <th>n 2x14.90 Combado</th>\n",
       "      <th>n Outros</th>\n",
       "      <th>Venda Unit</th>\n",
       "      <th>Margem Unit</th>\n",
       "      <th>1 GC</th>\n",
       "    </tr>\n",
       "  </thead>\n",
       "  <tbody>\n",
       "    <tr>\n",
       "      <th>517935</th>\n",
       "      <td>0</td>\n",
       "      <td>0</td>\n",
       "      <td>0</td>\n",
       "      <td>0</td>\n",
       "      <td>0</td>\n",
       "      <td>0</td>\n",
       "      <td>0</td>\n",
       "      <td>0</td>\n",
       "      <td>0</td>\n",
       "      <td>0</td>\n",
       "      <td>...</td>\n",
       "      <td>0</td>\n",
       "      <td>0</td>\n",
       "      <td>0</td>\n",
       "      <td>0</td>\n",
       "      <td>0</td>\n",
       "      <td>0</td>\n",
       "      <td>0</td>\n",
       "      <td>35.353628</td>\n",
       "      <td>24.174055</td>\n",
       "      <td>1.0</td>\n",
       "    </tr>\n",
       "    <tr>\n",
       "      <th>1044296</th>\n",
       "      <td>0</td>\n",
       "      <td>0</td>\n",
       "      <td>0</td>\n",
       "      <td>0</td>\n",
       "      <td>0</td>\n",
       "      <td>0</td>\n",
       "      <td>0</td>\n",
       "      <td>0</td>\n",
       "      <td>0</td>\n",
       "      <td>0</td>\n",
       "      <td>...</td>\n",
       "      <td>0</td>\n",
       "      <td>0</td>\n",
       "      <td>0</td>\n",
       "      <td>0</td>\n",
       "      <td>0</td>\n",
       "      <td>0</td>\n",
       "      <td>0</td>\n",
       "      <td>27.798810</td>\n",
       "      <td>16.936138</td>\n",
       "      <td>1.0</td>\n",
       "    </tr>\n",
       "    <tr>\n",
       "      <th>39065</th>\n",
       "      <td>0</td>\n",
       "      <td>0</td>\n",
       "      <td>0</td>\n",
       "      <td>0</td>\n",
       "      <td>0</td>\n",
       "      <td>0</td>\n",
       "      <td>0</td>\n",
       "      <td>0</td>\n",
       "      <td>0</td>\n",
       "      <td>0</td>\n",
       "      <td>...</td>\n",
       "      <td>0</td>\n",
       "      <td>0</td>\n",
       "      <td>0</td>\n",
       "      <td>0</td>\n",
       "      <td>0</td>\n",
       "      <td>0</td>\n",
       "      <td>0</td>\n",
       "      <td>9.750441</td>\n",
       "      <td>7.270510</td>\n",
       "      <td>1.0</td>\n",
       "    </tr>\n",
       "    <tr>\n",
       "      <th>551493</th>\n",
       "      <td>0</td>\n",
       "      <td>0</td>\n",
       "      <td>0</td>\n",
       "      <td>0</td>\n",
       "      <td>0</td>\n",
       "      <td>0</td>\n",
       "      <td>0</td>\n",
       "      <td>0</td>\n",
       "      <td>0</td>\n",
       "      <td>0</td>\n",
       "      <td>...</td>\n",
       "      <td>0</td>\n",
       "      <td>0</td>\n",
       "      <td>0</td>\n",
       "      <td>0</td>\n",
       "      <td>0</td>\n",
       "      <td>0</td>\n",
       "      <td>0</td>\n",
       "      <td>2.980345</td>\n",
       "      <td>0.884061</td>\n",
       "      <td>1.0</td>\n",
       "    </tr>\n",
       "    <tr>\n",
       "      <th>284317</th>\n",
       "      <td>0</td>\n",
       "      <td>0</td>\n",
       "      <td>0</td>\n",
       "      <td>0</td>\n",
       "      <td>0</td>\n",
       "      <td>0</td>\n",
       "      <td>0</td>\n",
       "      <td>0</td>\n",
       "      <td>0</td>\n",
       "      <td>0</td>\n",
       "      <td>...</td>\n",
       "      <td>0</td>\n",
       "      <td>0</td>\n",
       "      <td>0</td>\n",
       "      <td>0</td>\n",
       "      <td>0</td>\n",
       "      <td>0</td>\n",
       "      <td>4</td>\n",
       "      <td>33.117647</td>\n",
       "      <td>22.832941</td>\n",
       "      <td>1.0</td>\n",
       "    </tr>\n",
       "  </tbody>\n",
       "</table>\n",
       "<p>5 rows × 113 columns</p>\n",
       "</div>"
      ],
      "text/plain": [
       "         n EVM Big Mac Full Price  n EVM Big Mac Cupom  \\\n",
       "517935                          0                    0   \n",
       "1044296                         0                    0   \n",
       "39065                           0                    0   \n",
       "551493                          0                    0   \n",
       "284317                          0                    0   \n",
       "\n",
       "         n ALC Big Mac Full Price  n ALC Big Mac Cupom  \\\n",
       "517935                          0                    0   \n",
       "1044296                         0                    0   \n",
       "39065                           0                    0   \n",
       "551493                          0                    0   \n",
       "284317                          0                    0   \n",
       "\n",
       "         n EVM Quarterao Full Price  n EVM Quarterao Cupom  \\\n",
       "517935                            0                      0   \n",
       "1044296                           0                      0   \n",
       "39065                             0                      0   \n",
       "551493                            0                      0   \n",
       "284317                            0                      0   \n",
       "\n",
       "         n ALC Quarterao Full Price  n ALC Quarterao Cupom  \\\n",
       "517935                            0                      0   \n",
       "1044296                           0                      0   \n",
       "39065                             0                      0   \n",
       "551493                            0                      0   \n",
       "284317                            0                      0   \n",
       "\n",
       "         n EVM Cheddar McMelt Full Price  n EVM Cheddar McMelt Cupom  ...  \\\n",
       "517935                                 0                           0  ...   \n",
       "1044296                                0                           0  ...   \n",
       "39065                                  0                           0  ...   \n",
       "551493                                 0                           0  ...   \n",
       "284317                                 0                           0  ...   \n",
       "\n",
       "         n Mc nuggets 4 ALC Full Price  n Mc nuggets 4 ALC Cupom  \\\n",
       "517935                               0                         0   \n",
       "1044296                              0                         0   \n",
       "39065                                0                         0   \n",
       "551493                               0                         0   \n",
       "284317                               0                         0   \n",
       "\n",
       "         n Side Salad ALC Full Price  n Side Salad ALC Cupom  n 3x3 Combado  \\\n",
       "517935                             0                       0              0   \n",
       "1044296                            0                       0              0   \n",
       "39065                              0                       0              0   \n",
       "551493                             0                       0              0   \n",
       "284317                             0                       0              0   \n",
       "\n",
       "         n 2x14.90 Combado  n Outros  Venda Unit  Margem Unit  1 GC  \n",
       "517935                   0         0   35.353628    24.174055   1.0  \n",
       "1044296                  0         0   27.798810    16.936138   1.0  \n",
       "39065                    0         0    9.750441     7.270510   1.0  \n",
       "551493                   0         0    2.980345     0.884061   1.0  \n",
       "284317                   0         4   33.117647    22.832941   1.0  \n",
       "\n",
       "[5 rows x 113 columns]"
      ]
     },
     "execution_count": 24,
     "metadata": {},
     "output_type": "execute_result"
    }
   ],
   "source": [
    "df_sample.head()"
   ]
  },
  {
   "cell_type": "code",
   "execution_count": 25,
   "metadata": {},
   "outputs": [
    {
     "name": "stdout",
     "output_type": "stream",
     "text": [
      "37.37955678809802\n"
     ]
    }
   ],
   "source": [
    "TM_sample = df_sample['Venda Unit'].sum()/df_sample['1 GC'].sum()\n",
    "print (TM_sample)"
   ]
  },
  {
   "cell_type": "code",
   "execution_count": 26,
   "metadata": {},
   "outputs": [
    {
     "name": "stdout",
     "output_type": "stream",
     "text": [
      "37.45504492765469\n"
     ]
    }
   ],
   "source": [
    "TM = df_list_GCs['Venda Unit'].sum()/df_list_GCs['1 GC'].sum()\n",
    "print (TM)"
   ]
  },
  {
   "cell_type": "code",
   "execution_count": 27,
   "metadata": {},
   "outputs": [
    {
     "name": "stdout",
     "output_type": "stream",
     "text": [
      "1 GC    0.303\n",
      "dtype: float64\n"
     ]
    }
   ],
   "source": [
    "valid_3x3_sample = df_sample.loc[df_sample['n 3x3'] > 0, ['1 GC']].sum()/df_sample['1 GC'].sum()\n",
    "print (valid_3x3_sample)"
   ]
  },
  {
   "cell_type": "code",
   "execution_count": 28,
   "metadata": {},
   "outputs": [
    {
     "name": "stdout",
     "output_type": "stream",
     "text": [
      "1 GC    0.303442\n",
      "dtype: float64\n"
     ]
    }
   ],
   "source": [
    "valid_3x3 = df_list_GCs.loc[df_list_GCs['n 3x3'] > 0, ['1 GC']].sum()/df_list_GCs['1 GC'].sum()\n",
    "print (valid_3x3)"
   ]
  },
  {
   "cell_type": "code",
   "execution_count": 29,
   "metadata": {},
   "outputs": [
    {
     "name": "stdout",
     "output_type": "stream",
     "text": [
      "1 GC    0.051888\n",
      "dtype: float64\n"
     ]
    }
   ],
   "source": [
    "valid_BigMacFP_sample = df_sample.loc[df_sample['n EVM Big Mac Full Price'] > 0, ['1 GC']].sum()/df_sample['1 GC'].sum()\n",
    "print (valid_BigMacFP_sample)"
   ]
  },
  {
   "cell_type": "code",
   "execution_count": 30,
   "metadata": {},
   "outputs": [
    {
     "name": "stdout",
     "output_type": "stream",
     "text": [
      "1 GC    0.05152\n",
      "dtype: float64\n"
     ]
    }
   ],
   "source": [
    "valid_BigMacFP = df_list_GCs.loc[df_list_GCs['n EVM Big Mac Full Price'] > 0, ['1 GC']].sum()/df_list_GCs['1 GC'].sum()\n",
    "print (valid_BigMacFP)"
   ]
  },
  {
   "cell_type": "code",
   "execution_count": 32,
   "metadata": {},
   "outputs": [
    {
     "name": "stdout",
     "output_type": "stream",
     "text": [
      "0.6837296277100837\n"
     ]
    }
   ],
   "source": [
    "MB_sample = df_sample['Margem Unit'].sum()/df_sample['Venda Unit'].sum()\n",
    "print (MB_sample)"
   ]
  },
  {
   "cell_type": "code",
   "execution_count": 33,
   "metadata": {},
   "outputs": [
    {
     "name": "stdout",
     "output_type": "stream",
     "text": [
      "0.6837042569531142\n"
     ]
    }
   ],
   "source": [
    "MB = df_list_GCs['Margem Unit'].sum()/df_list_GCs['Venda Unit'].sum()\n",
    "print (MB)"
   ]
  },
  {
   "cell_type": "markdown",
   "metadata": {},
   "source": [
    "A amostragem gerou resultados bastante consistente em termos de Ticket Médio, Margem Bruta e incidência de itens relevantes, então podemos continuar rodando o modelo."
   ]
  },
  {
   "cell_type": "markdown",
   "metadata": {
    "colab_type": "text",
    "id": "ZYvTYHP5fwz5"
   },
   "source": [
    "Agora, com o dataframe ajustado e o número de linhas igual ao total de GCs da base de dados original, é necessário converter os valores maiores do que 1 para a aplicação do modelo:"
   ]
  },
  {
   "cell_type": "code",
   "execution_count": 34,
   "metadata": {
    "colab": {},
    "colab_type": "code",
    "id": "vGLI7S7uf-dN"
   },
   "outputs": [],
   "source": [
    "df_sample = df_sample.drop(['1 GC', 'Venda Unit', 'Margem Unit', 'n Outros'], 1)"
   ]
  },
  {
   "cell_type": "code",
   "execution_count": 35,
   "metadata": {},
   "outputs": [],
   "source": [
    "df_sample = df_sample.reset_index(drop=True)"
   ]
  },
  {
   "cell_type": "code",
   "execution_count": 36,
   "metadata": {
    "colab": {
     "base_uri": "https://localhost:8080/",
     "height": 338
    },
    "colab_type": "code",
    "id": "PHaftYoJgJiV",
    "outputId": "be52cf70-3fd1-40f0-88c5-4569a12c37c8"
   },
   "outputs": [
    {
     "data": {
      "text/html": [
       "<div>\n",
       "<style scoped>\n",
       "    .dataframe tbody tr th:only-of-type {\n",
       "        vertical-align: middle;\n",
       "    }\n",
       "\n",
       "    .dataframe tbody tr th {\n",
       "        vertical-align: top;\n",
       "    }\n",
       "\n",
       "    .dataframe thead th {\n",
       "        text-align: right;\n",
       "    }\n",
       "</style>\n",
       "<table border=\"1\" class=\"dataframe\">\n",
       "  <thead>\n",
       "    <tr style=\"text-align: right;\">\n",
       "      <th></th>\n",
       "      <th>n EVM Big Mac Full Price</th>\n",
       "      <th>n EVM Big Mac Cupom</th>\n",
       "      <th>n ALC Big Mac Full Price</th>\n",
       "      <th>n ALC Big Mac Cupom</th>\n",
       "      <th>n EVM Quarterao Full Price</th>\n",
       "      <th>n EVM Quarterao Cupom</th>\n",
       "      <th>n ALC Quarterao Full Price</th>\n",
       "      <th>n ALC Quarterao Cupom</th>\n",
       "      <th>n EVM Cheddar McMelt Full Price</th>\n",
       "      <th>n EVM Cheddar McMelt Cupom</th>\n",
       "      <th>...</th>\n",
       "      <th>n McShake ALC Full Price</th>\n",
       "      <th>n McShake ALC Cupom</th>\n",
       "      <th>n McFritas ALC Full Price</th>\n",
       "      <th>n McFritas ALC Cupom</th>\n",
       "      <th>n Mc nuggets 4 ALC Full Price</th>\n",
       "      <th>n Mc nuggets 4 ALC Cupom</th>\n",
       "      <th>n Side Salad ALC Full Price</th>\n",
       "      <th>n Side Salad ALC Cupom</th>\n",
       "      <th>n 3x3 Combado</th>\n",
       "      <th>n 2x14.90 Combado</th>\n",
       "    </tr>\n",
       "  </thead>\n",
       "  <tbody>\n",
       "    <tr>\n",
       "      <th>0</th>\n",
       "      <td>0</td>\n",
       "      <td>0</td>\n",
       "      <td>0</td>\n",
       "      <td>0</td>\n",
       "      <td>0</td>\n",
       "      <td>0</td>\n",
       "      <td>0</td>\n",
       "      <td>0</td>\n",
       "      <td>0</td>\n",
       "      <td>0</td>\n",
       "      <td>...</td>\n",
       "      <td>0</td>\n",
       "      <td>0</td>\n",
       "      <td>0</td>\n",
       "      <td>0</td>\n",
       "      <td>0</td>\n",
       "      <td>0</td>\n",
       "      <td>0</td>\n",
       "      <td>0</td>\n",
       "      <td>0</td>\n",
       "      <td>0</td>\n",
       "    </tr>\n",
       "    <tr>\n",
       "      <th>1</th>\n",
       "      <td>0</td>\n",
       "      <td>0</td>\n",
       "      <td>0</td>\n",
       "      <td>0</td>\n",
       "      <td>0</td>\n",
       "      <td>0</td>\n",
       "      <td>0</td>\n",
       "      <td>0</td>\n",
       "      <td>0</td>\n",
       "      <td>0</td>\n",
       "      <td>...</td>\n",
       "      <td>0</td>\n",
       "      <td>0</td>\n",
       "      <td>0</td>\n",
       "      <td>0</td>\n",
       "      <td>0</td>\n",
       "      <td>0</td>\n",
       "      <td>0</td>\n",
       "      <td>0</td>\n",
       "      <td>0</td>\n",
       "      <td>0</td>\n",
       "    </tr>\n",
       "    <tr>\n",
       "      <th>2</th>\n",
       "      <td>0</td>\n",
       "      <td>0</td>\n",
       "      <td>0</td>\n",
       "      <td>0</td>\n",
       "      <td>0</td>\n",
       "      <td>0</td>\n",
       "      <td>0</td>\n",
       "      <td>0</td>\n",
       "      <td>0</td>\n",
       "      <td>0</td>\n",
       "      <td>...</td>\n",
       "      <td>0</td>\n",
       "      <td>0</td>\n",
       "      <td>0</td>\n",
       "      <td>0</td>\n",
       "      <td>0</td>\n",
       "      <td>0</td>\n",
       "      <td>0</td>\n",
       "      <td>0</td>\n",
       "      <td>0</td>\n",
       "      <td>0</td>\n",
       "    </tr>\n",
       "    <tr>\n",
       "      <th>3</th>\n",
       "      <td>0</td>\n",
       "      <td>0</td>\n",
       "      <td>0</td>\n",
       "      <td>0</td>\n",
       "      <td>0</td>\n",
       "      <td>0</td>\n",
       "      <td>0</td>\n",
       "      <td>0</td>\n",
       "      <td>0</td>\n",
       "      <td>0</td>\n",
       "      <td>...</td>\n",
       "      <td>0</td>\n",
       "      <td>0</td>\n",
       "      <td>0</td>\n",
       "      <td>0</td>\n",
       "      <td>0</td>\n",
       "      <td>0</td>\n",
       "      <td>0</td>\n",
       "      <td>0</td>\n",
       "      <td>0</td>\n",
       "      <td>0</td>\n",
       "    </tr>\n",
       "    <tr>\n",
       "      <th>4</th>\n",
       "      <td>0</td>\n",
       "      <td>0</td>\n",
       "      <td>0</td>\n",
       "      <td>0</td>\n",
       "      <td>0</td>\n",
       "      <td>0</td>\n",
       "      <td>0</td>\n",
       "      <td>0</td>\n",
       "      <td>0</td>\n",
       "      <td>0</td>\n",
       "      <td>...</td>\n",
       "      <td>0</td>\n",
       "      <td>0</td>\n",
       "      <td>0</td>\n",
       "      <td>0</td>\n",
       "      <td>0</td>\n",
       "      <td>0</td>\n",
       "      <td>0</td>\n",
       "      <td>0</td>\n",
       "      <td>0</td>\n",
       "      <td>0</td>\n",
       "    </tr>\n",
       "  </tbody>\n",
       "</table>\n",
       "<p>5 rows × 109 columns</p>\n",
       "</div>"
      ],
      "text/plain": [
       "   n EVM Big Mac Full Price  n EVM Big Mac Cupom  n ALC Big Mac Full Price  \\\n",
       "0                         0                    0                         0   \n",
       "1                         0                    0                         0   \n",
       "2                         0                    0                         0   \n",
       "3                         0                    0                         0   \n",
       "4                         0                    0                         0   \n",
       "\n",
       "   n ALC Big Mac Cupom  n EVM Quarterao Full Price  n EVM Quarterao Cupom  \\\n",
       "0                    0                           0                      0   \n",
       "1                    0                           0                      0   \n",
       "2                    0                           0                      0   \n",
       "3                    0                           0                      0   \n",
       "4                    0                           0                      0   \n",
       "\n",
       "   n ALC Quarterao Full Price  n ALC Quarterao Cupom  \\\n",
       "0                           0                      0   \n",
       "1                           0                      0   \n",
       "2                           0                      0   \n",
       "3                           0                      0   \n",
       "4                           0                      0   \n",
       "\n",
       "   n EVM Cheddar McMelt Full Price  n EVM Cheddar McMelt Cupom  ...  \\\n",
       "0                                0                           0  ...   \n",
       "1                                0                           0  ...   \n",
       "2                                0                           0  ...   \n",
       "3                                0                           0  ...   \n",
       "4                                0                           0  ...   \n",
       "\n",
       "   n McShake ALC Full Price  n McShake ALC Cupom  n McFritas ALC Full Price  \\\n",
       "0                         0                    0                          0   \n",
       "1                         0                    0                          0   \n",
       "2                         0                    0                          0   \n",
       "3                         0                    0                          0   \n",
       "4                         0                    0                          0   \n",
       "\n",
       "   n McFritas ALC Cupom  n Mc nuggets 4 ALC Full Price  \\\n",
       "0                     0                              0   \n",
       "1                     0                              0   \n",
       "2                     0                              0   \n",
       "3                     0                              0   \n",
       "4                     0                              0   \n",
       "\n",
       "   n Mc nuggets 4 ALC Cupom  n Side Salad ALC Full Price  \\\n",
       "0                         0                            0   \n",
       "1                         0                            0   \n",
       "2                         0                            0   \n",
       "3                         0                            0   \n",
       "4                         0                            0   \n",
       "\n",
       "   n Side Salad ALC Cupom  n 3x3 Combado  n 2x14.90 Combado  \n",
       "0                       0              0                  0  \n",
       "1                       0              0                  0  \n",
       "2                       0              0                  0  \n",
       "3                       0              0                  0  \n",
       "4                       0              0                  0  \n",
       "\n",
       "[5 rows x 109 columns]"
      ]
     },
     "execution_count": 36,
     "metadata": {},
     "output_type": "execute_result"
    }
   ],
   "source": [
    "df_sample.head()"
   ]
  },
  {
   "cell_type": "code",
   "execution_count": 37,
   "metadata": {},
   "outputs": [
    {
     "data": {
      "text/plain": [
       "(244660, 109)"
      ]
     },
     "execution_count": 37,
     "metadata": {},
     "output_type": "execute_result"
    }
   ],
   "source": [
    "df_sample.shape"
   ]
  },
  {
   "cell_type": "code",
   "execution_count": 38,
   "metadata": {
    "colab": {
     "base_uri": "https://localhost:8080/",
     "height": 221
    },
    "colab_type": "code",
    "id": "4qkymbkmg724",
    "outputId": "2bacd472-5a70-4da5-bb4c-30dfd926826c"
   },
   "outputs": [
    {
     "name": "stdout",
     "output_type": "stream",
     "text": [
      "Index(['n EVM Big Mac Full Price', 'n EVM Big Mac Cupom',\n",
      "       'n ALC Big Mac Full Price', 'n ALC Big Mac Cupom',\n",
      "       'n EVM Quarterao Full Price', 'n EVM Quarterao Cupom',\n",
      "       'n ALC Quarterao Full Price', 'n ALC Quarterao Cupom',\n",
      "       'n EVM Cheddar McMelt Full Price', 'n EVM Cheddar McMelt Cupom',\n",
      "       ...\n",
      "       'n McShake ALC Full Price', 'n McShake ALC Cupom',\n",
      "       'n McFritas ALC Full Price', 'n McFritas ALC Cupom',\n",
      "       'n Mc nuggets 4 ALC Full Price', 'n Mc nuggets 4 ALC Cupom',\n",
      "       'n Side Salad ALC Full Price', 'n Side Salad ALC Cupom',\n",
      "       'n 3x3 Combado', 'n 2x14.90 Combado'],\n",
      "      dtype='object', length=109)\n"
     ]
    }
   ],
   "source": [
    "colunas = df_sample.columns\n",
    "print (colunas)"
   ]
  },
  {
   "cell_type": "code",
   "execution_count": 39,
   "metadata": {
    "colab": {},
    "colab_type": "code",
    "id": "lTuEvqCzifPF"
   },
   "outputs": [],
   "source": [
    "df_sample = df_sample[colunas].apply(lambda x: [y if y <= 0 else 1 for y in x])"
   ]
  },
  {
   "cell_type": "code",
   "execution_count": 40,
   "metadata": {
    "colab": {
     "base_uri": "https://localhost:8080/",
     "height": 338
    },
    "colab_type": "code",
    "id": "QhzVxglLipT9",
    "outputId": "6686176e-8970-4235-fb16-ed471a54713e"
   },
   "outputs": [
    {
     "data": {
      "text/html": [
       "<div>\n",
       "<style scoped>\n",
       "    .dataframe tbody tr th:only-of-type {\n",
       "        vertical-align: middle;\n",
       "    }\n",
       "\n",
       "    .dataframe tbody tr th {\n",
       "        vertical-align: top;\n",
       "    }\n",
       "\n",
       "    .dataframe thead th {\n",
       "        text-align: right;\n",
       "    }\n",
       "</style>\n",
       "<table border=\"1\" class=\"dataframe\">\n",
       "  <thead>\n",
       "    <tr style=\"text-align: right;\">\n",
       "      <th></th>\n",
       "      <th>n EVM Big Mac Full Price</th>\n",
       "      <th>n EVM Big Mac Cupom</th>\n",
       "      <th>n ALC Big Mac Full Price</th>\n",
       "      <th>n ALC Big Mac Cupom</th>\n",
       "      <th>n EVM Quarterao Full Price</th>\n",
       "      <th>n EVM Quarterao Cupom</th>\n",
       "      <th>n ALC Quarterao Full Price</th>\n",
       "      <th>n ALC Quarterao Cupom</th>\n",
       "      <th>n EVM Cheddar McMelt Full Price</th>\n",
       "      <th>n EVM Cheddar McMelt Cupom</th>\n",
       "      <th>...</th>\n",
       "      <th>n McShake ALC Full Price</th>\n",
       "      <th>n McShake ALC Cupom</th>\n",
       "      <th>n McFritas ALC Full Price</th>\n",
       "      <th>n McFritas ALC Cupom</th>\n",
       "      <th>n Mc nuggets 4 ALC Full Price</th>\n",
       "      <th>n Mc nuggets 4 ALC Cupom</th>\n",
       "      <th>n Side Salad ALC Full Price</th>\n",
       "      <th>n Side Salad ALC Cupom</th>\n",
       "      <th>n 3x3 Combado</th>\n",
       "      <th>n 2x14.90 Combado</th>\n",
       "    </tr>\n",
       "  </thead>\n",
       "  <tbody>\n",
       "    <tr>\n",
       "      <th>244655</th>\n",
       "      <td>0</td>\n",
       "      <td>0</td>\n",
       "      <td>0</td>\n",
       "      <td>0</td>\n",
       "      <td>0</td>\n",
       "      <td>0</td>\n",
       "      <td>0</td>\n",
       "      <td>0</td>\n",
       "      <td>0</td>\n",
       "      <td>0</td>\n",
       "      <td>...</td>\n",
       "      <td>1</td>\n",
       "      <td>0</td>\n",
       "      <td>0</td>\n",
       "      <td>0</td>\n",
       "      <td>0</td>\n",
       "      <td>0</td>\n",
       "      <td>0</td>\n",
       "      <td>0</td>\n",
       "      <td>0</td>\n",
       "      <td>0</td>\n",
       "    </tr>\n",
       "    <tr>\n",
       "      <th>244656</th>\n",
       "      <td>0</td>\n",
       "      <td>0</td>\n",
       "      <td>0</td>\n",
       "      <td>0</td>\n",
       "      <td>0</td>\n",
       "      <td>0</td>\n",
       "      <td>0</td>\n",
       "      <td>0</td>\n",
       "      <td>0</td>\n",
       "      <td>0</td>\n",
       "      <td>...</td>\n",
       "      <td>0</td>\n",
       "      <td>0</td>\n",
       "      <td>0</td>\n",
       "      <td>0</td>\n",
       "      <td>0</td>\n",
       "      <td>0</td>\n",
       "      <td>0</td>\n",
       "      <td>0</td>\n",
       "      <td>0</td>\n",
       "      <td>0</td>\n",
       "    </tr>\n",
       "    <tr>\n",
       "      <th>244657</th>\n",
       "      <td>0</td>\n",
       "      <td>0</td>\n",
       "      <td>0</td>\n",
       "      <td>0</td>\n",
       "      <td>0</td>\n",
       "      <td>0</td>\n",
       "      <td>0</td>\n",
       "      <td>0</td>\n",
       "      <td>0</td>\n",
       "      <td>0</td>\n",
       "      <td>...</td>\n",
       "      <td>0</td>\n",
       "      <td>0</td>\n",
       "      <td>0</td>\n",
       "      <td>0</td>\n",
       "      <td>0</td>\n",
       "      <td>0</td>\n",
       "      <td>0</td>\n",
       "      <td>0</td>\n",
       "      <td>0</td>\n",
       "      <td>0</td>\n",
       "    </tr>\n",
       "    <tr>\n",
       "      <th>244658</th>\n",
       "      <td>0</td>\n",
       "      <td>1</td>\n",
       "      <td>0</td>\n",
       "      <td>0</td>\n",
       "      <td>0</td>\n",
       "      <td>0</td>\n",
       "      <td>0</td>\n",
       "      <td>0</td>\n",
       "      <td>0</td>\n",
       "      <td>1</td>\n",
       "      <td>...</td>\n",
       "      <td>0</td>\n",
       "      <td>0</td>\n",
       "      <td>0</td>\n",
       "      <td>0</td>\n",
       "      <td>0</td>\n",
       "      <td>1</td>\n",
       "      <td>0</td>\n",
       "      <td>0</td>\n",
       "      <td>0</td>\n",
       "      <td>0</td>\n",
       "    </tr>\n",
       "    <tr>\n",
       "      <th>244659</th>\n",
       "      <td>0</td>\n",
       "      <td>0</td>\n",
       "      <td>0</td>\n",
       "      <td>0</td>\n",
       "      <td>0</td>\n",
       "      <td>0</td>\n",
       "      <td>0</td>\n",
       "      <td>0</td>\n",
       "      <td>0</td>\n",
       "      <td>0</td>\n",
       "      <td>...</td>\n",
       "      <td>0</td>\n",
       "      <td>0</td>\n",
       "      <td>0</td>\n",
       "      <td>0</td>\n",
       "      <td>0</td>\n",
       "      <td>0</td>\n",
       "      <td>0</td>\n",
       "      <td>0</td>\n",
       "      <td>0</td>\n",
       "      <td>0</td>\n",
       "    </tr>\n",
       "  </tbody>\n",
       "</table>\n",
       "<p>5 rows × 109 columns</p>\n",
       "</div>"
      ],
      "text/plain": [
       "        n EVM Big Mac Full Price  n EVM Big Mac Cupom  \\\n",
       "244655                         0                    0   \n",
       "244656                         0                    0   \n",
       "244657                         0                    0   \n",
       "244658                         0                    1   \n",
       "244659                         0                    0   \n",
       "\n",
       "        n ALC Big Mac Full Price  n ALC Big Mac Cupom  \\\n",
       "244655                         0                    0   \n",
       "244656                         0                    0   \n",
       "244657                         0                    0   \n",
       "244658                         0                    0   \n",
       "244659                         0                    0   \n",
       "\n",
       "        n EVM Quarterao Full Price  n EVM Quarterao Cupom  \\\n",
       "244655                           0                      0   \n",
       "244656                           0                      0   \n",
       "244657                           0                      0   \n",
       "244658                           0                      0   \n",
       "244659                           0                      0   \n",
       "\n",
       "        n ALC Quarterao Full Price  n ALC Quarterao Cupom  \\\n",
       "244655                           0                      0   \n",
       "244656                           0                      0   \n",
       "244657                           0                      0   \n",
       "244658                           0                      0   \n",
       "244659                           0                      0   \n",
       "\n",
       "        n EVM Cheddar McMelt Full Price  n EVM Cheddar McMelt Cupom  ...  \\\n",
       "244655                                0                           0  ...   \n",
       "244656                                0                           0  ...   \n",
       "244657                                0                           0  ...   \n",
       "244658                                0                           1  ...   \n",
       "244659                                0                           0  ...   \n",
       "\n",
       "        n McShake ALC Full Price  n McShake ALC Cupom  \\\n",
       "244655                         1                    0   \n",
       "244656                         0                    0   \n",
       "244657                         0                    0   \n",
       "244658                         0                    0   \n",
       "244659                         0                    0   \n",
       "\n",
       "        n McFritas ALC Full Price  n McFritas ALC Cupom  \\\n",
       "244655                          0                     0   \n",
       "244656                          0                     0   \n",
       "244657                          0                     0   \n",
       "244658                          0                     0   \n",
       "244659                          0                     0   \n",
       "\n",
       "        n Mc nuggets 4 ALC Full Price  n Mc nuggets 4 ALC Cupom  \\\n",
       "244655                              0                         0   \n",
       "244656                              0                         0   \n",
       "244657                              0                         0   \n",
       "244658                              0                         1   \n",
       "244659                              0                         0   \n",
       "\n",
       "        n Side Salad ALC Full Price  n Side Salad ALC Cupom  n 3x3 Combado  \\\n",
       "244655                            0                       0              0   \n",
       "244656                            0                       0              0   \n",
       "244657                            0                       0              0   \n",
       "244658                            0                       0              0   \n",
       "244659                            0                       0              0   \n",
       "\n",
       "        n 2x14.90 Combado  \n",
       "244655                  0  \n",
       "244656                  0  \n",
       "244657                  0  \n",
       "244658                  0  \n",
       "244659                  0  \n",
       "\n",
       "[5 rows x 109 columns]"
      ]
     },
     "execution_count": 40,
     "metadata": {},
     "output_type": "execute_result"
    }
   ],
   "source": [
    "df_sample.tail()"
   ]
  },
  {
   "cell_type": "markdown",
   "metadata": {},
   "source": [
    "Para evitar que linhas zeradas prejudiquem o resultado do modelo, vamos fazer a limpeza do dataframe:"
   ]
  },
  {
   "cell_type": "code",
   "execution_count": 41,
   "metadata": {},
   "outputs": [],
   "source": [
    "df_sample[\"sum\"]=df_sample.sum(axis=1)"
   ]
  },
  {
   "cell_type": "code",
   "execution_count": 42,
   "metadata": {},
   "outputs": [],
   "source": [
    "df_sample_zeros = df_sample[df_sample['sum']==0]"
   ]
  },
  {
   "cell_type": "code",
   "execution_count": 43,
   "metadata": {},
   "outputs": [
    {
     "data": {
      "text/plain": [
       "(7474, 110)"
      ]
     },
     "execution_count": 43,
     "metadata": {},
     "output_type": "execute_result"
    }
   ],
   "source": [
    "df_sample_zeros.shape"
   ]
  },
  {
   "cell_type": "code",
   "execution_count": 44,
   "metadata": {},
   "outputs": [],
   "source": [
    "df_sample = df_sample.drop(df_sample_zeros.index, axis = 0)"
   ]
  },
  {
   "cell_type": "code",
   "execution_count": 45,
   "metadata": {},
   "outputs": [],
   "source": [
    "df_sample = df_sample.reset_index(drop=True)"
   ]
  },
  {
   "cell_type": "code",
   "execution_count": 46,
   "metadata": {},
   "outputs": [],
   "source": [
    "df_sample = df_sample.drop('sum', axis = 1)"
   ]
  },
  {
   "cell_type": "code",
   "execution_count": 47,
   "metadata": {},
   "outputs": [
    {
     "data": {
      "text/plain": [
       "(237186, 109)"
      ]
     },
     "execution_count": 47,
     "metadata": {},
     "output_type": "execute_result"
    }
   ],
   "source": [
    "df_sample.shape"
   ]
  },
  {
   "cell_type": "markdown",
   "metadata": {},
   "source": [
    "Agora podemos aplicar o algoritmo Apriori para avaliar os resultados:"
   ]
  },
  {
   "cell_type": "code",
   "execution_count": 48,
   "metadata": {
    "colab": {},
    "colab_type": "code",
    "id": "Bsvazfg2kQYt"
   },
   "outputs": [],
   "source": [
    "freq_itemset = apriori(df_sample, min_support=0.01, use_colnames=True)\n",
    "regras = association_rules(freq_itemset, metric='lift', min_threshold=1)"
   ]
  },
  {
   "cell_type": "code",
   "execution_count": 49,
   "metadata": {
    "colab": {
     "base_uri": "https://localhost:8080/",
     "height": 235
    },
    "colab_type": "code",
    "id": "STa1_6KZkfLV",
    "outputId": "f358d696-b532-40ad-bafd-6a2727498f2a"
   },
   "outputs": [
    {
     "data": {
      "text/html": [
       "<div>\n",
       "<style scoped>\n",
       "    .dataframe tbody tr th:only-of-type {\n",
       "        vertical-align: middle;\n",
       "    }\n",
       "\n",
       "    .dataframe tbody tr th {\n",
       "        vertical-align: top;\n",
       "    }\n",
       "\n",
       "    .dataframe thead th {\n",
       "        text-align: right;\n",
       "    }\n",
       "</style>\n",
       "<table border=\"1\" class=\"dataframe\">\n",
       "  <thead>\n",
       "    <tr style=\"text-align: right;\">\n",
       "      <th></th>\n",
       "      <th>antecedents</th>\n",
       "      <th>consequents</th>\n",
       "      <th>antecedent support</th>\n",
       "      <th>consequent support</th>\n",
       "      <th>support</th>\n",
       "      <th>confidence</th>\n",
       "      <th>lift</th>\n",
       "      <th>leverage</th>\n",
       "      <th>conviction</th>\n",
       "    </tr>\n",
       "  </thead>\n",
       "  <tbody>\n",
       "    <tr>\n",
       "      <th>8</th>\n",
       "      <td>(n Refrigerante ALC Cupom)</td>\n",
       "      <td>(n ALC Big Mac Cupom)</td>\n",
       "      <td>0.016464</td>\n",
       "      <td>0.019571</td>\n",
       "      <td>0.015452</td>\n",
       "      <td>0.938540</td>\n",
       "      <td>47.955327</td>\n",
       "      <td>0.015130</td>\n",
       "      <td>15.952395</td>\n",
       "    </tr>\n",
       "    <tr>\n",
       "      <th>9</th>\n",
       "      <td>(n ALC Big Mac Cupom)</td>\n",
       "      <td>(n Refrigerante ALC Cupom)</td>\n",
       "      <td>0.019571</td>\n",
       "      <td>0.016464</td>\n",
       "      <td>0.015452</td>\n",
       "      <td>0.789530</td>\n",
       "      <td>47.955327</td>\n",
       "      <td>0.015130</td>\n",
       "      <td>4.673055</td>\n",
       "    </tr>\n",
       "    <tr>\n",
       "      <th>2</th>\n",
       "      <td>(n EVM Big Mac Cupom)</td>\n",
       "      <td>(n EVM Cheddar McMelt Cupom)</td>\n",
       "      <td>0.058844</td>\n",
       "      <td>0.019807</td>\n",
       "      <td>0.012113</td>\n",
       "      <td>0.205847</td>\n",
       "      <td>10.392489</td>\n",
       "      <td>0.010947</td>\n",
       "      <td>1.234261</td>\n",
       "    </tr>\n",
       "    <tr>\n",
       "      <th>3</th>\n",
       "      <td>(n EVM Cheddar McMelt Cupom)</td>\n",
       "      <td>(n EVM Big Mac Cupom)</td>\n",
       "      <td>0.019807</td>\n",
       "      <td>0.058844</td>\n",
       "      <td>0.012113</td>\n",
       "      <td>0.611537</td>\n",
       "      <td>10.392489</td>\n",
       "      <td>0.010947</td>\n",
       "      <td>2.422767</td>\n",
       "    </tr>\n",
       "    <tr>\n",
       "      <th>6</th>\n",
       "      <td>(n EVM McNifico Bacon Cupom)</td>\n",
       "      <td>(n EVM Big Mac Cupom)</td>\n",
       "      <td>0.020591</td>\n",
       "      <td>0.058844</td>\n",
       "      <td>0.012408</td>\n",
       "      <td>0.602580</td>\n",
       "      <td>10.240274</td>\n",
       "      <td>0.011196</td>\n",
       "      <td>2.368163</td>\n",
       "    </tr>\n",
       "    <tr>\n",
       "      <th>7</th>\n",
       "      <td>(n EVM Big Mac Cupom)</td>\n",
       "      <td>(n EVM McNifico Bacon Cupom)</td>\n",
       "      <td>0.058844</td>\n",
       "      <td>0.020591</td>\n",
       "      <td>0.012408</td>\n",
       "      <td>0.210862</td>\n",
       "      <td>10.240274</td>\n",
       "      <td>0.011196</td>\n",
       "      <td>1.241112</td>\n",
       "    </tr>\n",
       "    <tr>\n",
       "      <th>24</th>\n",
       "      <td>(n 2x14.90 Combado)</td>\n",
       "      <td>(n 3x3 Combado, n 3x3)</td>\n",
       "      <td>0.038653</td>\n",
       "      <td>0.031258</td>\n",
       "      <td>0.011919</td>\n",
       "      <td>0.308355</td>\n",
       "      <td>9.864786</td>\n",
       "      <td>0.010711</td>\n",
       "      <td>1.400635</td>\n",
       "    </tr>\n",
       "    <tr>\n",
       "      <th>21</th>\n",
       "      <td>(n 3x3 Combado, n 3x3)</td>\n",
       "      <td>(n 2x14.90 Combado)</td>\n",
       "      <td>0.031258</td>\n",
       "      <td>0.038653</td>\n",
       "      <td>0.011919</td>\n",
       "      <td>0.381306</td>\n",
       "      <td>9.864786</td>\n",
       "      <td>0.010711</td>\n",
       "      <td>1.553832</td>\n",
       "    </tr>\n",
       "    <tr>\n",
       "      <th>1</th>\n",
       "      <td>(n EVM Quarterao Cupom)</td>\n",
       "      <td>(n EVM Big Mac Cupom)</td>\n",
       "      <td>0.019310</td>\n",
       "      <td>0.058844</td>\n",
       "      <td>0.011185</td>\n",
       "      <td>0.579258</td>\n",
       "      <td>9.843935</td>\n",
       "      <td>0.010049</td>\n",
       "      <td>2.236894</td>\n",
       "    </tr>\n",
       "    <tr>\n",
       "      <th>0</th>\n",
       "      <td>(n EVM Big Mac Cupom)</td>\n",
       "      <td>(n EVM Quarterao Cupom)</td>\n",
       "      <td>0.058844</td>\n",
       "      <td>0.019310</td>\n",
       "      <td>0.011185</td>\n",
       "      <td>0.190084</td>\n",
       "      <td>9.843935</td>\n",
       "      <td>0.010049</td>\n",
       "      <td>1.210854</td>\n",
       "    </tr>\n",
       "    <tr>\n",
       "      <th>4</th>\n",
       "      <td>(n ALC Mc Nuggets 10 Cupom)</td>\n",
       "      <td>(n EVM Big Mac Cupom)</td>\n",
       "      <td>0.036225</td>\n",
       "      <td>0.058844</td>\n",
       "      <td>0.011118</td>\n",
       "      <td>0.306913</td>\n",
       "      <td>5.215703</td>\n",
       "      <td>0.008986</td>\n",
       "      <td>1.357920</td>\n",
       "    </tr>\n",
       "    <tr>\n",
       "      <th>5</th>\n",
       "      <td>(n EVM Big Mac Cupom)</td>\n",
       "      <td>(n ALC Mc Nuggets 10 Cupom)</td>\n",
       "      <td>0.058844</td>\n",
       "      <td>0.036225</td>\n",
       "      <td>0.011118</td>\n",
       "      <td>0.188937</td>\n",
       "      <td>5.215703</td>\n",
       "      <td>0.008986</td>\n",
       "      <td>1.188287</td>\n",
       "    </tr>\n",
       "    <tr>\n",
       "      <th>20</th>\n",
       "      <td>(n 3x3 Combado, n 2x14.90 Combado)</td>\n",
       "      <td>(n 3x3)</td>\n",
       "      <td>0.012969</td>\n",
       "      <td>0.312548</td>\n",
       "      <td>0.011919</td>\n",
       "      <td>0.919051</td>\n",
       "      <td>2.940511</td>\n",
       "      <td>0.007866</td>\n",
       "      <td>8.492379</td>\n",
       "    </tr>\n",
       "    <tr>\n",
       "      <th>25</th>\n",
       "      <td>(n 3x3)</td>\n",
       "      <td>(n 3x3 Combado, n 2x14.90 Combado)</td>\n",
       "      <td>0.312548</td>\n",
       "      <td>0.012969</td>\n",
       "      <td>0.011919</td>\n",
       "      <td>0.038135</td>\n",
       "      <td>2.940511</td>\n",
       "      <td>0.007866</td>\n",
       "      <td>1.026164</td>\n",
       "    </tr>\n",
       "    <tr>\n",
       "      <th>22</th>\n",
       "      <td>(n 2x14.90 Combado, n 3x3)</td>\n",
       "      <td>(n 3x3 Combado)</td>\n",
       "      <td>0.032865</td>\n",
       "      <td>0.127440</td>\n",
       "      <td>0.011919</td>\n",
       "      <td>0.362668</td>\n",
       "      <td>2.845796</td>\n",
       "      <td>0.007731</td>\n",
       "      <td>1.369083</td>\n",
       "    </tr>\n",
       "    <tr>\n",
       "      <th>23</th>\n",
       "      <td>(n 3x3 Combado)</td>\n",
       "      <td>(n 2x14.90 Combado, n 3x3)</td>\n",
       "      <td>0.127440</td>\n",
       "      <td>0.032865</td>\n",
       "      <td>0.011919</td>\n",
       "      <td>0.093526</td>\n",
       "      <td>2.845796</td>\n",
       "      <td>0.007731</td>\n",
       "      <td>1.066920</td>\n",
       "    </tr>\n",
       "    <tr>\n",
       "      <th>16</th>\n",
       "      <td>(n 2x14.90 Combado)</td>\n",
       "      <td>(n 3x3)</td>\n",
       "      <td>0.038653</td>\n",
       "      <td>0.312548</td>\n",
       "      <td>0.032865</td>\n",
       "      <td>0.850240</td>\n",
       "      <td>2.720350</td>\n",
       "      <td>0.020784</td>\n",
       "      <td>4.590357</td>\n",
       "    </tr>\n",
       "    <tr>\n",
       "      <th>17</th>\n",
       "      <td>(n 3x3)</td>\n",
       "      <td>(n 2x14.90 Combado)</td>\n",
       "      <td>0.312548</td>\n",
       "      <td>0.038653</td>\n",
       "      <td>0.032865</td>\n",
       "      <td>0.105150</td>\n",
       "      <td>2.720350</td>\n",
       "      <td>0.020784</td>\n",
       "      <td>1.074311</td>\n",
       "    </tr>\n",
       "    <tr>\n",
       "      <th>18</th>\n",
       "      <td>(n 3x3 Combado)</td>\n",
       "      <td>(n 2x14.90 Combado)</td>\n",
       "      <td>0.127440</td>\n",
       "      <td>0.038653</td>\n",
       "      <td>0.012969</td>\n",
       "      <td>0.101763</td>\n",
       "      <td>2.632726</td>\n",
       "      <td>0.008043</td>\n",
       "      <td>1.070260</td>\n",
       "    </tr>\n",
       "    <tr>\n",
       "      <th>19</th>\n",
       "      <td>(n 2x14.90 Combado)</td>\n",
       "      <td>(n 3x3 Combado)</td>\n",
       "      <td>0.038653</td>\n",
       "      <td>0.127440</td>\n",
       "      <td>0.012969</td>\n",
       "      <td>0.335515</td>\n",
       "      <td>2.632726</td>\n",
       "      <td>0.008043</td>\n",
       "      <td>1.313137</td>\n",
       "    </tr>\n",
       "    <tr>\n",
       "      <th>14</th>\n",
       "      <td>(n McFritas ALC Cupom)</td>\n",
       "      <td>(n 3x3)</td>\n",
       "      <td>0.074283</td>\n",
       "      <td>0.312548</td>\n",
       "      <td>0.033130</td>\n",
       "      <td>0.445996</td>\n",
       "      <td>1.426968</td>\n",
       "      <td>0.009913</td>\n",
       "      <td>1.240879</td>\n",
       "    </tr>\n",
       "    <tr>\n",
       "      <th>15</th>\n",
       "      <td>(n 3x3)</td>\n",
       "      <td>(n McFritas ALC Cupom)</td>\n",
       "      <td>0.312548</td>\n",
       "      <td>0.074283</td>\n",
       "      <td>0.033130</td>\n",
       "      <td>0.106000</td>\n",
       "      <td>1.426968</td>\n",
       "      <td>0.009913</td>\n",
       "      <td>1.035477</td>\n",
       "    </tr>\n",
       "    <tr>\n",
       "      <th>11</th>\n",
       "      <td>(n McFlurry)</td>\n",
       "      <td>(n McFritas ALC Cupom)</td>\n",
       "      <td>0.114024</td>\n",
       "      <td>0.074283</td>\n",
       "      <td>0.011662</td>\n",
       "      <td>0.102274</td>\n",
       "      <td>1.376807</td>\n",
       "      <td>0.003192</td>\n",
       "      <td>1.031179</td>\n",
       "    </tr>\n",
       "    <tr>\n",
       "      <th>10</th>\n",
       "      <td>(n McFritas ALC Cupom)</td>\n",
       "      <td>(n McFlurry)</td>\n",
       "      <td>0.074283</td>\n",
       "      <td>0.114024</td>\n",
       "      <td>0.011662</td>\n",
       "      <td>0.156990</td>\n",
       "      <td>1.376807</td>\n",
       "      <td>0.003192</td>\n",
       "      <td>1.050966</td>\n",
       "    </tr>\n",
       "    <tr>\n",
       "      <th>12</th>\n",
       "      <td>(n McFritas ALC Full Price)</td>\n",
       "      <td>(n 3x3)</td>\n",
       "      <td>0.067297</td>\n",
       "      <td>0.312548</td>\n",
       "      <td>0.025600</td>\n",
       "      <td>0.380403</td>\n",
       "      <td>1.217104</td>\n",
       "      <td>0.004566</td>\n",
       "      <td>1.109516</td>\n",
       "    </tr>\n",
       "    <tr>\n",
       "      <th>13</th>\n",
       "      <td>(n 3x3)</td>\n",
       "      <td>(n McFritas ALC Full Price)</td>\n",
       "      <td>0.312548</td>\n",
       "      <td>0.067297</td>\n",
       "      <td>0.025600</td>\n",
       "      <td>0.081908</td>\n",
       "      <td>1.217104</td>\n",
       "      <td>0.004566</td>\n",
       "      <td>1.015914</td>\n",
       "    </tr>\n",
       "  </tbody>\n",
       "</table>\n",
       "</div>"
      ],
      "text/plain": [
       "                           antecedents                         consequents  \\\n",
       "8           (n Refrigerante ALC Cupom)               (n ALC Big Mac Cupom)   \n",
       "9                (n ALC Big Mac Cupom)          (n Refrigerante ALC Cupom)   \n",
       "2                (n EVM Big Mac Cupom)        (n EVM Cheddar McMelt Cupom)   \n",
       "3         (n EVM Cheddar McMelt Cupom)               (n EVM Big Mac Cupom)   \n",
       "6         (n EVM McNifico Bacon Cupom)               (n EVM Big Mac Cupom)   \n",
       "7                (n EVM Big Mac Cupom)        (n EVM McNifico Bacon Cupom)   \n",
       "24                 (n 2x14.90 Combado)              (n 3x3 Combado, n 3x3)   \n",
       "21              (n 3x3 Combado, n 3x3)                 (n 2x14.90 Combado)   \n",
       "1              (n EVM Quarterao Cupom)               (n EVM Big Mac Cupom)   \n",
       "0                (n EVM Big Mac Cupom)             (n EVM Quarterao Cupom)   \n",
       "4          (n ALC Mc Nuggets 10 Cupom)               (n EVM Big Mac Cupom)   \n",
       "5                (n EVM Big Mac Cupom)         (n ALC Mc Nuggets 10 Cupom)   \n",
       "20  (n 3x3 Combado, n 2x14.90 Combado)                             (n 3x3)   \n",
       "25                             (n 3x3)  (n 3x3 Combado, n 2x14.90 Combado)   \n",
       "22          (n 2x14.90 Combado, n 3x3)                     (n 3x3 Combado)   \n",
       "23                     (n 3x3 Combado)          (n 2x14.90 Combado, n 3x3)   \n",
       "16                 (n 2x14.90 Combado)                             (n 3x3)   \n",
       "17                             (n 3x3)                 (n 2x14.90 Combado)   \n",
       "18                     (n 3x3 Combado)                 (n 2x14.90 Combado)   \n",
       "19                 (n 2x14.90 Combado)                     (n 3x3 Combado)   \n",
       "14              (n McFritas ALC Cupom)                             (n 3x3)   \n",
       "15                             (n 3x3)              (n McFritas ALC Cupom)   \n",
       "11                        (n McFlurry)              (n McFritas ALC Cupom)   \n",
       "10              (n McFritas ALC Cupom)                        (n McFlurry)   \n",
       "12         (n McFritas ALC Full Price)                             (n 3x3)   \n",
       "13                             (n 3x3)         (n McFritas ALC Full Price)   \n",
       "\n",
       "    antecedent support  consequent support   support  confidence       lift  \\\n",
       "8             0.016464            0.019571  0.015452    0.938540  47.955327   \n",
       "9             0.019571            0.016464  0.015452    0.789530  47.955327   \n",
       "2             0.058844            0.019807  0.012113    0.205847  10.392489   \n",
       "3             0.019807            0.058844  0.012113    0.611537  10.392489   \n",
       "6             0.020591            0.058844  0.012408    0.602580  10.240274   \n",
       "7             0.058844            0.020591  0.012408    0.210862  10.240274   \n",
       "24            0.038653            0.031258  0.011919    0.308355   9.864786   \n",
       "21            0.031258            0.038653  0.011919    0.381306   9.864786   \n",
       "1             0.019310            0.058844  0.011185    0.579258   9.843935   \n",
       "0             0.058844            0.019310  0.011185    0.190084   9.843935   \n",
       "4             0.036225            0.058844  0.011118    0.306913   5.215703   \n",
       "5             0.058844            0.036225  0.011118    0.188937   5.215703   \n",
       "20            0.012969            0.312548  0.011919    0.919051   2.940511   \n",
       "25            0.312548            0.012969  0.011919    0.038135   2.940511   \n",
       "22            0.032865            0.127440  0.011919    0.362668   2.845796   \n",
       "23            0.127440            0.032865  0.011919    0.093526   2.845796   \n",
       "16            0.038653            0.312548  0.032865    0.850240   2.720350   \n",
       "17            0.312548            0.038653  0.032865    0.105150   2.720350   \n",
       "18            0.127440            0.038653  0.012969    0.101763   2.632726   \n",
       "19            0.038653            0.127440  0.012969    0.335515   2.632726   \n",
       "14            0.074283            0.312548  0.033130    0.445996   1.426968   \n",
       "15            0.312548            0.074283  0.033130    0.106000   1.426968   \n",
       "11            0.114024            0.074283  0.011662    0.102274   1.376807   \n",
       "10            0.074283            0.114024  0.011662    0.156990   1.376807   \n",
       "12            0.067297            0.312548  0.025600    0.380403   1.217104   \n",
       "13            0.312548            0.067297  0.025600    0.081908   1.217104   \n",
       "\n",
       "    leverage  conviction  \n",
       "8   0.015130   15.952395  \n",
       "9   0.015130    4.673055  \n",
       "2   0.010947    1.234261  \n",
       "3   0.010947    2.422767  \n",
       "6   0.011196    2.368163  \n",
       "7   0.011196    1.241112  \n",
       "24  0.010711    1.400635  \n",
       "21  0.010711    1.553832  \n",
       "1   0.010049    2.236894  \n",
       "0   0.010049    1.210854  \n",
       "4   0.008986    1.357920  \n",
       "5   0.008986    1.188287  \n",
       "20  0.007866    8.492379  \n",
       "25  0.007866    1.026164  \n",
       "22  0.007731    1.369083  \n",
       "23  0.007731    1.066920  \n",
       "16  0.020784    4.590357  \n",
       "17  0.020784    1.074311  \n",
       "18  0.008043    1.070260  \n",
       "19  0.008043    1.313137  \n",
       "14  0.009913    1.240879  \n",
       "15  0.009913    1.035477  \n",
       "11  0.003192    1.031179  \n",
       "10  0.003192    1.050966  \n",
       "12  0.004566    1.109516  \n",
       "13  0.004566    1.015914  "
      ]
     },
     "execution_count": 49,
     "metadata": {},
     "output_type": "execute_result"
    }
   ],
   "source": [
    "regras.sort_values(by='lift', ascending=False)"
   ]
  },
  {
   "cell_type": "markdown",
   "metadata": {
    "colab_type": "text",
    "id": "NZk5hu2lQZ7m"
   },
   "source": [
    "Ainda é possível aplicar o modelo para grupos específicos de tickets, por exemplo, apenas para os Tickets Família:"
   ]
  },
  {
   "cell_type": "code",
   "execution_count": 50,
   "metadata": {
    "colab": {},
    "colab_type": "code",
    "id": "o735i3DpQp9i"
   },
   "outputs": [],
   "source": [
    "df_sample_familia = df_sample[df_sample['n McLanche Full Price']==1]"
   ]
  },
  {
   "cell_type": "code",
   "execution_count": 51,
   "metadata": {
    "colab": {},
    "colab_type": "code",
    "id": "fwskNGONT07N"
   },
   "outputs": [],
   "source": [
    "df_sample_familia = df_sample_familia.drop('n McLanche Full Price', axis = 1)"
   ]
  },
  {
   "cell_type": "code",
   "execution_count": 52,
   "metadata": {
    "colab": {},
    "colab_type": "code",
    "id": "E4OFFJQdThVN"
   },
   "outputs": [],
   "source": [
    "freq_itemset3 = apriori(df_sample_familia, min_support=0.01, use_colnames=True)\n",
    "regras3 = association_rules(freq_itemset3, metric='lift', min_threshold=1)"
   ]
  },
  {
   "cell_type": "code",
   "execution_count": 53,
   "metadata": {
    "colab": {
     "base_uri": "https://localhost:8080/",
     "height": 297
    },
    "colab_type": "code",
    "id": "s-sn_vTBThJq",
    "outputId": "a9a7a8fc-7c9f-4737-e372-41e246df136e"
   },
   "outputs": [
    {
     "data": {
      "text/html": [
       "<div>\n",
       "<style scoped>\n",
       "    .dataframe tbody tr th:only-of-type {\n",
       "        vertical-align: middle;\n",
       "    }\n",
       "\n",
       "    .dataframe tbody tr th {\n",
       "        vertical-align: top;\n",
       "    }\n",
       "\n",
       "    .dataframe thead th {\n",
       "        text-align: right;\n",
       "    }\n",
       "</style>\n",
       "<table border=\"1\" class=\"dataframe\">\n",
       "  <thead>\n",
       "    <tr style=\"text-align: right;\">\n",
       "      <th></th>\n",
       "      <th>antecedents</th>\n",
       "      <th>consequents</th>\n",
       "      <th>antecedent support</th>\n",
       "      <th>consequent support</th>\n",
       "      <th>support</th>\n",
       "      <th>confidence</th>\n",
       "      <th>lift</th>\n",
       "      <th>leverage</th>\n",
       "      <th>conviction</th>\n",
       "    </tr>\n",
       "  </thead>\n",
       "  <tbody>\n",
       "    <tr>\n",
       "      <th>8</th>\n",
       "      <td>(n 2x14.90 Combado)</td>\n",
       "      <td>(n 3x3)</td>\n",
       "      <td>0.028364</td>\n",
       "      <td>0.218602</td>\n",
       "      <td>0.023835</td>\n",
       "      <td>0.840310</td>\n",
       "      <td>3.844026</td>\n",
       "      <td>0.017634</td>\n",
       "      <td>4.893223</td>\n",
       "    </tr>\n",
       "    <tr>\n",
       "      <th>9</th>\n",
       "      <td>(n 3x3)</td>\n",
       "      <td>(n 2x14.90 Combado)</td>\n",
       "      <td>0.218602</td>\n",
       "      <td>0.028364</td>\n",
       "      <td>0.023835</td>\n",
       "      <td>0.109032</td>\n",
       "      <td>3.844026</td>\n",
       "      <td>0.017634</td>\n",
       "      <td>1.090540</td>\n",
       "    </tr>\n",
       "    <tr>\n",
       "      <th>4</th>\n",
       "      <td>(n McFritas ALC Cupom)</td>\n",
       "      <td>(n 3x3)</td>\n",
       "      <td>0.043184</td>\n",
       "      <td>0.218602</td>\n",
       "      <td>0.016843</td>\n",
       "      <td>0.390020</td>\n",
       "      <td>1.784161</td>\n",
       "      <td>0.007403</td>\n",
       "      <td>1.281024</td>\n",
       "    </tr>\n",
       "    <tr>\n",
       "      <th>5</th>\n",
       "      <td>(n 3x3)</td>\n",
       "      <td>(n McFritas ALC Cupom)</td>\n",
       "      <td>0.218602</td>\n",
       "      <td>0.043184</td>\n",
       "      <td>0.016843</td>\n",
       "      <td>0.077047</td>\n",
       "      <td>1.784161</td>\n",
       "      <td>0.007403</td>\n",
       "      <td>1.036690</td>\n",
       "    </tr>\n",
       "    <tr>\n",
       "      <th>2</th>\n",
       "      <td>(n McFritas ALC Full Price)</td>\n",
       "      <td>(n 3x3)</td>\n",
       "      <td>0.073439</td>\n",
       "      <td>0.218602</td>\n",
       "      <td>0.020185</td>\n",
       "      <td>0.274850</td>\n",
       "      <td>1.257312</td>\n",
       "      <td>0.004131</td>\n",
       "      <td>1.077568</td>\n",
       "    </tr>\n",
       "    <tr>\n",
       "      <th>3</th>\n",
       "      <td>(n 3x3)</td>\n",
       "      <td>(n McFritas ALC Full Price)</td>\n",
       "      <td>0.218602</td>\n",
       "      <td>0.073439</td>\n",
       "      <td>0.020185</td>\n",
       "      <td>0.092336</td>\n",
       "      <td>1.257312</td>\n",
       "      <td>0.004131</td>\n",
       "      <td>1.020819</td>\n",
       "    </tr>\n",
       "    <tr>\n",
       "      <th>6</th>\n",
       "      <td>(n 3x3 Combado)</td>\n",
       "      <td>(n 3x3)</td>\n",
       "      <td>0.087159</td>\n",
       "      <td>0.218602</td>\n",
       "      <td>0.021372</td>\n",
       "      <td>0.245207</td>\n",
       "      <td>1.121707</td>\n",
       "      <td>0.002319</td>\n",
       "      <td>1.035248</td>\n",
       "    </tr>\n",
       "    <tr>\n",
       "      <th>7</th>\n",
       "      <td>(n 3x3)</td>\n",
       "      <td>(n 3x3 Combado)</td>\n",
       "      <td>0.218602</td>\n",
       "      <td>0.087159</td>\n",
       "      <td>0.021372</td>\n",
       "      <td>0.097767</td>\n",
       "      <td>1.121707</td>\n",
       "      <td>0.002319</td>\n",
       "      <td>1.011757</td>\n",
       "    </tr>\n",
       "    <tr>\n",
       "      <th>0</th>\n",
       "      <td>(n McShake ALC Full Price)</td>\n",
       "      <td>(n 3x3)</td>\n",
       "      <td>0.074274</td>\n",
       "      <td>0.218602</td>\n",
       "      <td>0.016403</td>\n",
       "      <td>0.220841</td>\n",
       "      <td>1.010243</td>\n",
       "      <td>0.000166</td>\n",
       "      <td>1.002874</td>\n",
       "    </tr>\n",
       "    <tr>\n",
       "      <th>1</th>\n",
       "      <td>(n 3x3)</td>\n",
       "      <td>(n McShake ALC Full Price)</td>\n",
       "      <td>0.218602</td>\n",
       "      <td>0.074274</td>\n",
       "      <td>0.016403</td>\n",
       "      <td>0.075035</td>\n",
       "      <td>1.010243</td>\n",
       "      <td>0.000166</td>\n",
       "      <td>1.000823</td>\n",
       "    </tr>\n",
       "  </tbody>\n",
       "</table>\n",
       "</div>"
      ],
      "text/plain": [
       "                   antecedents                  consequents  \\\n",
       "8          (n 2x14.90 Combado)                      (n 3x3)   \n",
       "9                      (n 3x3)          (n 2x14.90 Combado)   \n",
       "4       (n McFritas ALC Cupom)                      (n 3x3)   \n",
       "5                      (n 3x3)       (n McFritas ALC Cupom)   \n",
       "2  (n McFritas ALC Full Price)                      (n 3x3)   \n",
       "3                      (n 3x3)  (n McFritas ALC Full Price)   \n",
       "6              (n 3x3 Combado)                      (n 3x3)   \n",
       "7                      (n 3x3)              (n 3x3 Combado)   \n",
       "0   (n McShake ALC Full Price)                      (n 3x3)   \n",
       "1                      (n 3x3)   (n McShake ALC Full Price)   \n",
       "\n",
       "   antecedent support  consequent support   support  confidence      lift  \\\n",
       "8            0.028364            0.218602  0.023835    0.840310  3.844026   \n",
       "9            0.218602            0.028364  0.023835    0.109032  3.844026   \n",
       "4            0.043184            0.218602  0.016843    0.390020  1.784161   \n",
       "5            0.218602            0.043184  0.016843    0.077047  1.784161   \n",
       "2            0.073439            0.218602  0.020185    0.274850  1.257312   \n",
       "3            0.218602            0.073439  0.020185    0.092336  1.257312   \n",
       "6            0.087159            0.218602  0.021372    0.245207  1.121707   \n",
       "7            0.218602            0.087159  0.021372    0.097767  1.121707   \n",
       "0            0.074274            0.218602  0.016403    0.220841  1.010243   \n",
       "1            0.218602            0.074274  0.016403    0.075035  1.010243   \n",
       "\n",
       "   leverage  conviction  \n",
       "8  0.017634    4.893223  \n",
       "9  0.017634    1.090540  \n",
       "4  0.007403    1.281024  \n",
       "5  0.007403    1.036690  \n",
       "2  0.004131    1.077568  \n",
       "3  0.004131    1.020819  \n",
       "6  0.002319    1.035248  \n",
       "7  0.002319    1.011757  \n",
       "0  0.000166    1.002874  \n",
       "1  0.000166    1.000823  "
      ]
     },
     "execution_count": 53,
     "metadata": {},
     "output_type": "execute_result"
    }
   ],
   "source": [
    "regras3.sort_values(by='lift', ascending=False)"
   ]
  },
  {
   "cell_type": "markdown",
   "metadata": {},
   "source": [
    "Agora vamos trabalhar em alguns modelos de visualização destes resultados:"
   ]
  },
  {
   "cell_type": "code",
   "execution_count": 62,
   "metadata": {},
   "outputs": [],
   "source": [
    "from matplotlib import pyplot as plt"
   ]
  },
  {
   "cell_type": "code",
   "execution_count": 64,
   "metadata": {},
   "outputs": [
    {
     "data": {
      "text/plain": [
       "<function matplotlib.pyplot.show(*args, **kw)>"
      ]
     },
     "execution_count": 64,
     "metadata": {},
     "output_type": "execute_result"
    },
    {
     "data": {
      "image/png": "[encoded data removed]",
      "text/plain": [
       "<Figure size 432x288 with 2 Axes>"
      ]
     },
     "metadata": {
      "needs_background": "light"
     },
     "output_type": "display_data"
    }
   ],
   "source": [
    "plt.scatter(regras['confidence'], regras['support'], c = regras['lift'], cmap = 'viridis')\n",
    "plt.colorbar()\n",
    "plt.show"
   ]
  },
  {
   "cell_type": "markdown",
   "metadata": {},
   "source": [
    "Podemos também testar um algoritmo diferente para avaliar o resultado:"
   ]
  },
  {
   "cell_type": "code",
   "execution_count": 65,
   "metadata": {},
   "outputs": [],
   "source": [
    "from mlxtend.frequent_patterns import fpgrowth"
   ]
  },
  {
   "cell_type": "code",
   "execution_count": 88,
   "metadata": {},
   "outputs": [],
   "source": [
    "freq_itemset2 = fpgrowth(df_sample, min_support=0.01, use_colnames = True)"
   ]
  },
  {
   "cell_type": "code",
   "execution_count": 89,
   "metadata": {},
   "outputs": [
    {
     "data": {
      "text/html": [
       "<div>\n",
       "<style scoped>\n",
       "    .dataframe tbody tr th:only-of-type {\n",
       "        vertical-align: middle;\n",
       "    }\n",
       "\n",
       "    .dataframe tbody tr th {\n",
       "        vertical-align: top;\n",
       "    }\n",
       "\n",
       "    .dataframe thead th {\n",
       "        text-align: right;\n",
       "    }\n",
       "</style>\n",
       "<table border=\"1\" class=\"dataframe\">\n",
       "  <thead>\n",
       "    <tr style=\"text-align: right;\">\n",
       "      <th></th>\n",
       "      <th>support</th>\n",
       "      <th>itemsets</th>\n",
       "    </tr>\n",
       "  </thead>\n",
       "  <tbody>\n",
       "    <tr>\n",
       "      <th>0</th>\n",
       "      <td>0.082471</td>\n",
       "      <td>(n CDD EVM)</td>\n",
       "    </tr>\n",
       "    <tr>\n",
       "      <th>1</th>\n",
       "      <td>0.312548</td>\n",
       "      <td>(n 3x3)</td>\n",
       "    </tr>\n",
       "    <tr>\n",
       "      <th>2</th>\n",
       "      <td>0.114024</td>\n",
       "      <td>(n McFlurry)</td>\n",
       "    </tr>\n",
       "    <tr>\n",
       "      <th>3</th>\n",
       "      <td>0.095874</td>\n",
       "      <td>(n McLanche Full Price)</td>\n",
       "    </tr>\n",
       "    <tr>\n",
       "      <th>4</th>\n",
       "      <td>0.078580</td>\n",
       "      <td>(n McShake ALC Full Price)</td>\n",
       "    </tr>\n",
       "    <tr>\n",
       "      <th>5</th>\n",
       "      <td>0.035757</td>\n",
       "      <td>(n EVM Big Tasty Full Price)</td>\n",
       "    </tr>\n",
       "    <tr>\n",
       "      <th>6</th>\n",
       "      <td>0.016692</td>\n",
       "      <td>(n EVM McChicken Full Price)</td>\n",
       "    </tr>\n",
       "    <tr>\n",
       "      <th>7</th>\n",
       "      <td>0.074283</td>\n",
       "      <td>(n McFritas ALC Cupom)</td>\n",
       "    </tr>\n",
       "    <tr>\n",
       "      <th>8</th>\n",
       "      <td>0.053523</td>\n",
       "      <td>(n EVM Big Mac Full Price)</td>\n",
       "    </tr>\n",
       "    <tr>\n",
       "      <th>9</th>\n",
       "      <td>0.028813</td>\n",
       "      <td>(n EVM Picanha Cheddar Bacon Full Price)</td>\n",
       "    </tr>\n",
       "    <tr>\n",
       "      <th>10</th>\n",
       "      <td>0.058844</td>\n",
       "      <td>(n EVM Big Mac Cupom)</td>\n",
       "    </tr>\n",
       "    <tr>\n",
       "      <th>11</th>\n",
       "      <td>0.019571</td>\n",
       "      <td>(n ALC Big Mac Cupom)</td>\n",
       "    </tr>\n",
       "    <tr>\n",
       "      <th>12</th>\n",
       "      <td>0.016464</td>\n",
       "      <td>(n Refrigerante ALC Cupom)</td>\n",
       "    </tr>\n",
       "    <tr>\n",
       "      <th>13</th>\n",
       "      <td>0.067297</td>\n",
       "      <td>(n McFritas ALC Full Price)</td>\n",
       "    </tr>\n",
       "    <tr>\n",
       "      <th>14</th>\n",
       "      <td>0.064203</td>\n",
       "      <td>(n CDD ALC)</td>\n",
       "    </tr>\n",
       "    <tr>\n",
       "      <th>15</th>\n",
       "      <td>0.013538</td>\n",
       "      <td>(n EVM Picanha Club House Full Price)</td>\n",
       "    </tr>\n",
       "    <tr>\n",
       "      <th>16</th>\n",
       "      <td>0.127440</td>\n",
       "      <td>(n 3x3 Combado)</td>\n",
       "    </tr>\n",
       "    <tr>\n",
       "      <th>17</th>\n",
       "      <td>0.015726</td>\n",
       "      <td>(n EVM Picanha Bacon Crispy Full Price)</td>\n",
       "    </tr>\n",
       "    <tr>\n",
       "      <th>18</th>\n",
       "      <td>0.044337</td>\n",
       "      <td>(n Torta)</td>\n",
       "    </tr>\n",
       "    <tr>\n",
       "      <th>19</th>\n",
       "      <td>0.019196</td>\n",
       "      <td>(n EVM Quarterao Full Price)</td>\n",
       "    </tr>\n",
       "  </tbody>\n",
       "</table>\n",
       "</div>"
      ],
      "text/plain": [
       "     support                                  itemsets\n",
       "0   0.082471                               (n CDD EVM)\n",
       "1   0.312548                                   (n 3x3)\n",
       "2   0.114024                              (n McFlurry)\n",
       "3   0.095874                   (n McLanche Full Price)\n",
       "4   0.078580                (n McShake ALC Full Price)\n",
       "5   0.035757              (n EVM Big Tasty Full Price)\n",
       "6   0.016692              (n EVM McChicken Full Price)\n",
       "7   0.074283                    (n McFritas ALC Cupom)\n",
       "8   0.053523                (n EVM Big Mac Full Price)\n",
       "9   0.028813  (n EVM Picanha Cheddar Bacon Full Price)\n",
       "10  0.058844                     (n EVM Big Mac Cupom)\n",
       "11  0.019571                     (n ALC Big Mac Cupom)\n",
       "12  0.016464                (n Refrigerante ALC Cupom)\n",
       "13  0.067297               (n McFritas ALC Full Price)\n",
       "14  0.064203                               (n CDD ALC)\n",
       "15  0.013538     (n EVM Picanha Club House Full Price)\n",
       "16  0.127440                           (n 3x3 Combado)\n",
       "17  0.015726   (n EVM Picanha Bacon Crispy Full Price)\n",
       "18  0.044337                                 (n Torta)\n",
       "19  0.019196              (n EVM Quarterao Full Price)"
      ]
     },
     "execution_count": 89,
     "metadata": {},
     "output_type": "execute_result"
    }
   ],
   "source": [
    "freq_itemset2.head(20)"
   ]
  },
  {
   "cell_type": "code",
   "execution_count": null,
   "metadata": {},
   "outputs": [],
   "source": []
  }
 ],
 "metadata": {
  "colab": {
   "collapsed_sections": [],
   "name": "Cross Sell AD.ipynb",
   "provenance": []
  },
  "kernelspec": {
   "display_name": "Python 3",
   "language": "python",
   "name": "python3"
  },
  "language_info": {
   "codemirror_mode": {
    "name": "ipython",
    "version": 3
   },
   "file_extension": ".py",
   "mimetype": "text/x-python",
   "name": "python",
   "nbconvert_exporter": "python",
   "pygments_lexer": "ipython3",
   "version": "3.8.3"
  }
 },
 "nbformat": 4,
 "nbformat_minor": 1
}
