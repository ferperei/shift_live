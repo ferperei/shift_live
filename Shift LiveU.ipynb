{
 "cells": [
  {
   "cell_type": "markdown",
   "metadata": {
    "colab_type": "text",
    "id": "zWTBc3wv1EeY"
   },
   "source": [
    "# **Análise de Cross-Sell no segmento de QSR pelo Algoritmo Apriori**"
   ]
  },
  {
   "cell_type": "markdown",
   "metadata": {
    "colab_type": "text",
    "id": "SO96DjcA1Uyf"
   },
   "source": [
    "O trabalho será construído utilizando uma base anonimizada fornecida por rede do QSR brasileiro (*Quick Service Restaurants*) para buscar identificar relações e interações entre os diferentes itens do menu, visando aumentar vendas por meio da maximização dos itens por transação.\n",
    "\n",
    "Inicialmente, importaremos as bibliotecas e as bases de dados que serão utilizadas no trabalho para fazer a análise Descritiva:"
   ]
  },
  {
   "cell_type": "code",
   "execution_count": 1,
   "metadata": {},
   "outputs": [
    {
     "name": "stdout",
     "output_type": "stream",
     "text": [
      "Requirement already satisfied: mlxtend in /opt/conda/lib/python3.7/site-packages (0.17.3)\n",
      "Requirement already satisfied: joblib>=0.13.2 in /opt/conda/lib/python3.7/site-packages (from mlxtend) (0.17.0)\n",
      "Requirement already satisfied: pandas>=0.24.2 in /opt/conda/lib/python3.7/site-packages (from mlxtend) (1.1.3)\n",
      "Requirement already satisfied: scipy>=1.2.1 in /opt/conda/lib/python3.7/site-packages (from mlxtend) (1.5.2)\n",
      "Requirement already satisfied: scikit-learn>=0.20.3 in /opt/conda/lib/python3.7/site-packages (from mlxtend) (0.23.2)\n",
      "Requirement already satisfied: numpy>=1.16.2 in /opt/conda/lib/python3.7/site-packages (from mlxtend) (1.18.5)\n",
      "Requirement already satisfied: setuptools in /opt/conda/lib/python3.7/site-packages (from mlxtend) (49.6.0.post20201009)\n",
      "Requirement already satisfied: matplotlib>=3.0.0 in /opt/conda/lib/python3.7/site-packages (from mlxtend) (3.3.2)\n",
      "Requirement already satisfied: pytz>=2017.2 in /opt/conda/lib/python3.7/site-packages (from pandas>=0.24.2->mlxtend) (2020.1)\n",
      "Requirement already satisfied: python-dateutil>=2.7.3 in /opt/conda/lib/python3.7/site-packages (from pandas>=0.24.2->mlxtend) (2.8.1)\n",
      "Requirement already satisfied: threadpoolctl>=2.0.0 in /opt/conda/lib/python3.7/site-packages (from scikit-learn>=0.20.3->mlxtend) (2.1.0)\n",
      "Requirement already satisfied: cycler>=0.10 in /opt/conda/lib/python3.7/site-packages (from matplotlib>=3.0.0->mlxtend) (0.10.0)\n",
      "Requirement already satisfied: pillow>=6.2.0 in /opt/conda/lib/python3.7/site-packages (from matplotlib>=3.0.0->mlxtend) (7.2.0)\n",
      "Requirement already satisfied: pyparsing!=2.0.4,!=2.1.2,!=2.1.6,>=2.0.3 in /opt/conda/lib/python3.7/site-packages (from matplotlib>=3.0.0->mlxtend) (2.4.7)\n",
      "Requirement already satisfied: kiwisolver>=1.0.1 in /opt/conda/lib/python3.7/site-packages (from matplotlib>=3.0.0->mlxtend) (1.2.0)\n",
      "Requirement already satisfied: certifi>=2020.06.20 in /opt/conda/lib/python3.7/site-packages (from matplotlib>=3.0.0->mlxtend) (2020.6.20)\n",
      "Requirement already satisfied: six>=1.5 in /opt/conda/lib/python3.7/site-packages (from python-dateutil>=2.7.3->pandas>=0.24.2->mlxtend) (1.15.0)\n"
     ]
    }
   ],
   "source": [
    "!pip install mlxtend"
   ]
  },
  {
   "cell_type": "code",
   "execution_count": 2,
   "metadata": {
    "colab": {},
    "colab_type": "code",
    "id": "eOff4x2Z0f3l"
   },
   "outputs": [],
   "source": [
    "from mlxtend.frequent_patterns import apriori\n",
    "from mlxtend.frequent_patterns import association_rules\n",
    "import pandas as pd  \n",
    "import numpy as np"
   ]
  },
  {
   "cell_type": "markdown",
   "metadata": {
    "colab_type": "text",
    "id": "8Jdn_Mt50hZC"
   },
   "source": [
    "Após as importações das  bibliotecas, importaremos a base recebida em CSV e o Dicionário de Dados:"
   ]
  },
  {
   "cell_type": "code",
   "execution_count": 3,
   "metadata": {
    "colab": {},
    "colab_type": "code",
    "id": "lj3giGj22LEB"
   },
   "outputs": [],
   "source": [
    "transacoes = pd.read_csv('Transacoes.csv', delimiter = ';')"
   ]
  },
  {
   "cell_type": "code",
   "execution_count": 4,
   "metadata": {
    "colab": {
     "base_uri": "https://localhost:8080/",
     "height": 423
    },
    "colab_type": "code",
    "id": "fUINnMyg2WbH",
    "outputId": "11737b77-0e7b-4aa8-d292-97a0d046ae37"
   },
   "outputs": [
    {
     "data": {
      "text/html": [
       "<div>\n",
       "<style scoped>\n",
       "    .dataframe tbody tr th:only-of-type {\n",
       "        vertical-align: middle;\n",
       "    }\n",
       "\n",
       "    .dataframe tbody tr th {\n",
       "        vertical-align: top;\n",
       "    }\n",
       "\n",
       "    .dataframe thead th {\n",
       "        text-align: right;\n",
       "    }\n",
       "</style>\n",
       "<table border=\"1\" class=\"dataframe\">\n",
       "  <thead>\n",
       "    <tr style=\"text-align: right;\">\n",
       "      <th></th>\n",
       "      <th>Admin</th>\n",
       "      <th>Regiao</th>\n",
       "      <th>Cb01_Sand_Beb_Acomp_Reg</th>\n",
       "      <th>Cb01_Sand_Beb_Acomp_Cup</th>\n",
       "      <th>Sand01_Reg</th>\n",
       "      <th>Sand01_Cup</th>\n",
       "      <th>Cb16_Sand_Beb_Acomp_Reg</th>\n",
       "      <th>Cb16_Sand_Beb_Acomp_Cup</th>\n",
       "      <th>Sand16_Reg</th>\n",
       "      <th>Sand16_Cup</th>\n",
       "      <th>...</th>\n",
       "      <th>Acomp03_Reg</th>\n",
       "      <th>Acomp03_Cup</th>\n",
       "      <th>Acomp02_Reg</th>\n",
       "      <th>Acomp02_Cup</th>\n",
       "      <th>Acomp04_Reg</th>\n",
       "      <th>Acomp04_Cup</th>\n",
       "      <th>2Sand_Beb_Acomp_Reg</th>\n",
       "      <th>2Sand_Beb_Acomp_Cup</th>\n",
       "      <th>Qtd_transacoes</th>\n",
       "      <th>VL_Venda</th>\n",
       "    </tr>\n",
       "  </thead>\n",
       "  <tbody>\n",
       "    <tr>\n",
       "      <th>0</th>\n",
       "      <td>Franqueado</td>\n",
       "      <td>N+NE+CO</td>\n",
       "      <td>0</td>\n",
       "      <td>0</td>\n",
       "      <td>0</td>\n",
       "      <td>0</td>\n",
       "      <td>0</td>\n",
       "      <td>0</td>\n",
       "      <td>0</td>\n",
       "      <td>0</td>\n",
       "      <td>...</td>\n",
       "      <td>0</td>\n",
       "      <td>0</td>\n",
       "      <td>0</td>\n",
       "      <td>0</td>\n",
       "      <td>0</td>\n",
       "      <td>0</td>\n",
       "      <td>0</td>\n",
       "      <td>0</td>\n",
       "      <td>1373</td>\n",
       "      <td>19934,65147</td>\n",
       "    </tr>\n",
       "    <tr>\n",
       "      <th>1</th>\n",
       "      <td>Franqueado</td>\n",
       "      <td>N+NE+CO</td>\n",
       "      <td>0</td>\n",
       "      <td>0</td>\n",
       "      <td>0</td>\n",
       "      <td>0</td>\n",
       "      <td>0</td>\n",
       "      <td>0</td>\n",
       "      <td>0</td>\n",
       "      <td>0</td>\n",
       "      <td>...</td>\n",
       "      <td>0</td>\n",
       "      <td>0</td>\n",
       "      <td>0</td>\n",
       "      <td>0</td>\n",
       "      <td>0</td>\n",
       "      <td>0</td>\n",
       "      <td>0</td>\n",
       "      <td>0</td>\n",
       "      <td>852</td>\n",
       "      <td>16106,65744</td>\n",
       "    </tr>\n",
       "    <tr>\n",
       "      <th>2</th>\n",
       "      <td>Franqueado</td>\n",
       "      <td>N+NE+CO</td>\n",
       "      <td>0</td>\n",
       "      <td>0</td>\n",
       "      <td>0</td>\n",
       "      <td>0</td>\n",
       "      <td>0</td>\n",
       "      <td>0</td>\n",
       "      <td>0</td>\n",
       "      <td>0</td>\n",
       "      <td>...</td>\n",
       "      <td>0</td>\n",
       "      <td>0</td>\n",
       "      <td>0</td>\n",
       "      <td>0</td>\n",
       "      <td>0</td>\n",
       "      <td>0</td>\n",
       "      <td>0</td>\n",
       "      <td>0</td>\n",
       "      <td>240</td>\n",
       "      <td>5135,182905</td>\n",
       "    </tr>\n",
       "    <tr>\n",
       "      <th>3</th>\n",
       "      <td>Franqueado</td>\n",
       "      <td>N+NE+CO</td>\n",
       "      <td>0</td>\n",
       "      <td>0</td>\n",
       "      <td>0</td>\n",
       "      <td>0</td>\n",
       "      <td>0</td>\n",
       "      <td>0</td>\n",
       "      <td>0</td>\n",
       "      <td>0</td>\n",
       "      <td>...</td>\n",
       "      <td>0</td>\n",
       "      <td>0</td>\n",
       "      <td>0</td>\n",
       "      <td>0</td>\n",
       "      <td>0</td>\n",
       "      <td>0</td>\n",
       "      <td>0</td>\n",
       "      <td>0</td>\n",
       "      <td>142</td>\n",
       "      <td>3183,077909</td>\n",
       "    </tr>\n",
       "    <tr>\n",
       "      <th>4</th>\n",
       "      <td>Franqueado</td>\n",
       "      <td>N+NE+CO</td>\n",
       "      <td>0</td>\n",
       "      <td>0</td>\n",
       "      <td>0</td>\n",
       "      <td>0</td>\n",
       "      <td>0</td>\n",
       "      <td>0</td>\n",
       "      <td>0</td>\n",
       "      <td>0</td>\n",
       "      <td>...</td>\n",
       "      <td>0</td>\n",
       "      <td>0</td>\n",
       "      <td>0</td>\n",
       "      <td>0</td>\n",
       "      <td>0</td>\n",
       "      <td>0</td>\n",
       "      <td>0</td>\n",
       "      <td>0</td>\n",
       "      <td>40</td>\n",
       "      <td>1035,245162</td>\n",
       "    </tr>\n",
       "  </tbody>\n",
       "</table>\n",
       "<p>5 rows × 109 columns</p>\n",
       "</div>"
      ],
      "text/plain": [
       "        Admin   Regiao  Cb01_Sand_Beb_Acomp_Reg  Cb01_Sand_Beb_Acomp_Cup  \\\n",
       "0  Franqueado  N+NE+CO                        0                        0   \n",
       "1  Franqueado  N+NE+CO                        0                        0   \n",
       "2  Franqueado  N+NE+CO                        0                        0   \n",
       "3  Franqueado  N+NE+CO                        0                        0   \n",
       "4  Franqueado  N+NE+CO                        0                        0   \n",
       "\n",
       "   Sand01_Reg  Sand01_Cup  Cb16_Sand_Beb_Acomp_Reg  Cb16_Sand_Beb_Acomp_Cup  \\\n",
       "0           0           0                        0                        0   \n",
       "1           0           0                        0                        0   \n",
       "2           0           0                        0                        0   \n",
       "3           0           0                        0                        0   \n",
       "4           0           0                        0                        0   \n",
       "\n",
       "   Sand16_Reg  Sand16_Cup  ...  Acomp03_Reg  Acomp03_Cup  Acomp02_Reg  \\\n",
       "0           0           0  ...            0            0            0   \n",
       "1           0           0  ...            0            0            0   \n",
       "2           0           0  ...            0            0            0   \n",
       "3           0           0  ...            0            0            0   \n",
       "4           0           0  ...            0            0            0   \n",
       "\n",
       "   Acomp02_Cup  Acomp04_Reg  Acomp04_Cup  2Sand_Beb_Acomp_Reg  \\\n",
       "0            0            0            0                    0   \n",
       "1            0            0            0                    0   \n",
       "2            0            0            0                    0   \n",
       "3            0            0            0                    0   \n",
       "4            0            0            0                    0   \n",
       "\n",
       "   2Sand_Beb_Acomp_Cup  Qtd_transacoes     VL_Venda  \n",
       "0                    0            1373  19934,65147  \n",
       "1                    0             852  16106,65744  \n",
       "2                    0             240  5135,182905  \n",
       "3                    0             142  3183,077909  \n",
       "4                    0              40  1035,245162  \n",
       "\n",
       "[5 rows x 109 columns]"
      ]
     },
     "execution_count": 4,
     "metadata": {},
     "output_type": "execute_result"
    }
   ],
   "source": [
    "transacoes.head()"
   ]
  },
  {
   "cell_type": "markdown",
   "metadata": {
    "colab_type": "text",
    "id": "H06YUIoa1bti"
   },
   "source": [
    "Inicialmente vamos avaliar o perfil dos dois Dataframes e os tipos de dados que foram importados, para verificar se alguma transformação é necessária:"
   ]
  },
  {
   "cell_type": "code",
   "execution_count": 5,
   "metadata": {
    "colab": {
     "base_uri": "https://localhost:8080/",
     "height": 34
    },
    "colab_type": "code",
    "id": "_f7WlFIb3rzR",
    "outputId": "f19c6e07-5a13-47d2-d042-2f851dda1ffe"
   },
   "outputs": [
    {
     "data": {
      "text/plain": [
       "(952560, 109)"
      ]
     },
     "execution_count": 5,
     "metadata": {},
     "output_type": "execute_result"
    }
   ],
   "source": [
    "transacoes.shape"
   ]
  },
  {
   "cell_type": "code",
   "execution_count": 6,
   "metadata": {
    "colab": {
     "base_uri": "https://localhost:8080/",
     "height": 221
    },
    "colab_type": "code",
    "id": "zAYeYNhO3xJZ",
    "outputId": "a07f82ff-d187-49f2-85ba-bb14703380ef"
   },
   "outputs": [
    {
     "data": {
      "text/plain": [
       "Admin                      object\n",
       "Regiao                     object\n",
       "Cb01_Sand_Beb_Acomp_Reg     int64\n",
       "Cb01_Sand_Beb_Acomp_Cup     int64\n",
       "Sand01_Reg                  int64\n",
       "                            ...  \n",
       "Acomp04_Cup                 int64\n",
       "2Sand_Beb_Acomp_Reg         int64\n",
       "2Sand_Beb_Acomp_Cup         int64\n",
       "Qtd_transacoes              int64\n",
       "VL_Venda                   object\n",
       "Length: 109, dtype: object"
      ]
     },
     "execution_count": 6,
     "metadata": {},
     "output_type": "execute_result"
    }
   ],
   "source": [
    "transacoes.dtypes"
   ]
  },
  {
   "cell_type": "markdown",
   "metadata": {},
   "source": [
    "A coluna \"VL_Venda\" foi importada como Objeto, quando deveria ter sido importada como Float. Para resolver isso, faremos a transformação dos dados:"
   ]
  },
  {
   "cell_type": "code",
   "execution_count": 7,
   "metadata": {},
   "outputs": [],
   "source": [
    "transacoes['VL_Venda'] = transacoes['VL_Venda'].apply (lambda x: x.replace(',', '.'))"
   ]
  },
  {
   "cell_type": "code",
   "execution_count": 8,
   "metadata": {},
   "outputs": [],
   "source": [
    "transacoes['VL_Venda'] = transacoes['VL_Venda'].astype(float)"
   ]
  },
  {
   "cell_type": "code",
   "execution_count": 9,
   "metadata": {},
   "outputs": [
    {
     "data": {
      "text/plain": [
       "Admin                       object\n",
       "Regiao                      object\n",
       "Cb01_Sand_Beb_Acomp_Reg      int64\n",
       "Cb01_Sand_Beb_Acomp_Cup      int64\n",
       "Sand01_Reg                   int64\n",
       "                            ...   \n",
       "Acomp04_Cup                  int64\n",
       "2Sand_Beb_Acomp_Reg          int64\n",
       "2Sand_Beb_Acomp_Cup          int64\n",
       "Qtd_transacoes               int64\n",
       "VL_Venda                   float64\n",
       "Length: 109, dtype: object"
      ]
     },
     "execution_count": 9,
     "metadata": {},
     "output_type": "execute_result"
    }
   ],
   "source": [
    "transacoes.dtypes"
   ]
  },
  {
   "cell_type": "markdown",
   "metadata": {},
   "source": [
    "## Análise Exploratória"
   ]
  },
  {
   "cell_type": "markdown",
   "metadata": {},
   "source": [
    "Para iniciar a análise exploratória do Dataframe tratado e com as colunas melhor identificadas após o cruzamento com o Dicionário de dados, vamos apurar a quantidade de transações apontadas no Dataframe, o valor de venda total e o Ticket Médio, que é um indicador relevante para o segmento:"
   ]
  },
  {
   "cell_type": "code",
   "execution_count": 10,
   "metadata": {
    "colab": {
     "base_uri": "https://localhost:8080/",
     "height": 34
    },
    "colab_type": "code",
    "id": "gQR4KxbD7uJW",
    "outputId": "146cf0c3-0288-413f-b8cf-29f60e68b41f",
    "scrolled": true
   },
   "outputs": [
    {
     "name": "stdout",
     "output_type": "stream",
     "text": [
      "5671218\n"
     ]
    }
   ],
   "source": [
    "TT_Transacoes = transacoes['Qtd_transacoes'].sum()\n",
    "print (TT_Transacoes)"
   ]
  },
  {
   "cell_type": "code",
   "execution_count": 11,
   "metadata": {},
   "outputs": [
    {
     "name": "stdout",
     "output_type": "stream",
     "text": [
      "162127973.99246562\n"
     ]
    }
   ],
   "source": [
    "TT_Venda = transacoes['VL_Venda'].sum()\n",
    "print (TT_Venda)"
   ]
  },
  {
   "cell_type": "code",
   "execution_count": 12,
   "metadata": {},
   "outputs": [
    {
     "name": "stdout",
     "output_type": "stream",
     "text": [
      "28.58785784508118\n"
     ]
    }
   ],
   "source": [
    "Ticket_Medio = TT_Venda / TT_Transacoes\n",
    "print (Ticket_Medio)"
   ]
  },
  {
   "cell_type": "markdown",
   "metadata": {},
   "source": [
    "O dataframe informado conta com 5,67MM transações com um valor total de 162,1MM de reais, totalizando um Ticket Médio de R$ 28,59 no período analisado.\n",
    "\n",
    "Podemos apurar as diferenças nesses indicadores pelas colunas \"Admin\" e \"Região\" para identificar diferenças regionais e de administração dos restaurantes:"
   ]
  },
  {
   "cell_type": "code",
   "execution_count": 13,
   "metadata": {},
   "outputs": [],
   "source": [
    "table = pd.pivot_table(transacoes, index = ['Regiao','Admin'], values = ['Qtd_transacoes', 'VL_Venda'], aggfunc = np.sum)"
   ]
  },
  {
   "cell_type": "code",
   "execution_count": 14,
   "metadata": {},
   "outputs": [
    {
     "data": {
      "text/html": [
       "<div>\n",
       "<style scoped>\n",
       "    .dataframe tbody tr th:only-of-type {\n",
       "        vertical-align: middle;\n",
       "    }\n",
       "\n",
       "    .dataframe tbody tr th {\n",
       "        vertical-align: top;\n",
       "    }\n",
       "\n",
       "    .dataframe thead th {\n",
       "        text-align: right;\n",
       "    }\n",
       "</style>\n",
       "<table border=\"1\" class=\"dataframe\">\n",
       "  <thead>\n",
       "    <tr style=\"text-align: right;\">\n",
       "      <th></th>\n",
       "      <th></th>\n",
       "      <th>Qtd_transacoes</th>\n",
       "      <th>VL_Venda</th>\n",
       "    </tr>\n",
       "    <tr>\n",
       "      <th>Regiao</th>\n",
       "      <th>Admin</th>\n",
       "      <th></th>\n",
       "      <th></th>\n",
       "    </tr>\n",
       "  </thead>\n",
       "  <tbody>\n",
       "    <tr>\n",
       "      <th rowspan=\"2\" valign=\"top\">N+NE+CO</th>\n",
       "      <th>Franqueado</th>\n",
       "      <td>559396</td>\n",
       "      <td>1.497248e+07</td>\n",
       "    </tr>\n",
       "    <tr>\n",
       "      <th>Proprio</th>\n",
       "      <td>804259</td>\n",
       "      <td>2.035204e+07</td>\n",
       "    </tr>\n",
       "    <tr>\n",
       "      <th rowspan=\"2\" valign=\"top\">SE</th>\n",
       "      <th>Franqueado</th>\n",
       "      <td>1413760</td>\n",
       "      <td>4.081343e+07</td>\n",
       "    </tr>\n",
       "    <tr>\n",
       "      <th>Proprio</th>\n",
       "      <td>1771406</td>\n",
       "      <td>5.457126e+07</td>\n",
       "    </tr>\n",
       "    <tr>\n",
       "      <th rowspan=\"2\" valign=\"top\">SUL</th>\n",
       "      <th>Franqueado</th>\n",
       "      <td>489793</td>\n",
       "      <td>1.353845e+07</td>\n",
       "    </tr>\n",
       "    <tr>\n",
       "      <th>Proprio</th>\n",
       "      <td>632604</td>\n",
       "      <td>1.788031e+07</td>\n",
       "    </tr>\n",
       "  </tbody>\n",
       "</table>\n",
       "</div>"
      ],
      "text/plain": [
       "                    Qtd_transacoes      VL_Venda\n",
       "Regiao  Admin                                   \n",
       "N+NE+CO Franqueado          559396  1.497248e+07\n",
       "        Proprio             804259  2.035204e+07\n",
       "SE      Franqueado         1413760  4.081343e+07\n",
       "        Proprio            1771406  5.457126e+07\n",
       "SUL     Franqueado          489793  1.353845e+07\n",
       "        Proprio             632604  1.788031e+07"
      ]
     },
     "execution_count": 14,
     "metadata": {},
     "output_type": "execute_result"
    }
   ],
   "source": [
    "table"
   ]
  },
  {
   "cell_type": "code",
   "execution_count": 15,
   "metadata": {},
   "outputs": [],
   "source": [
    "table['Ticket_Medio'] = table['VL_Venda']/table['Qtd_transacoes']"
   ]
  },
  {
   "cell_type": "code",
   "execution_count": 16,
   "metadata": {},
   "outputs": [
    {
     "data": {
      "text/html": [
       "<div>\n",
       "<style scoped>\n",
       "    .dataframe tbody tr th:only-of-type {\n",
       "        vertical-align: middle;\n",
       "    }\n",
       "\n",
       "    .dataframe tbody tr th {\n",
       "        vertical-align: top;\n",
       "    }\n",
       "\n",
       "    .dataframe thead th {\n",
       "        text-align: right;\n",
       "    }\n",
       "</style>\n",
       "<table border=\"1\" class=\"dataframe\">\n",
       "  <thead>\n",
       "    <tr style=\"text-align: right;\">\n",
       "      <th></th>\n",
       "      <th></th>\n",
       "      <th>Qtd_transacoes</th>\n",
       "      <th>VL_Venda</th>\n",
       "      <th>Ticket_Medio</th>\n",
       "    </tr>\n",
       "    <tr>\n",
       "      <th>Regiao</th>\n",
       "      <th>Admin</th>\n",
       "      <th></th>\n",
       "      <th></th>\n",
       "      <th></th>\n",
       "    </tr>\n",
       "  </thead>\n",
       "  <tbody>\n",
       "    <tr>\n",
       "      <th rowspan=\"2\" valign=\"top\">N+NE+CO</th>\n",
       "      <th>Franqueado</th>\n",
       "      <td>559396</td>\n",
       "      <td>1.497248e+07</td>\n",
       "      <td>26.765441</td>\n",
       "    </tr>\n",
       "    <tr>\n",
       "      <th>Proprio</th>\n",
       "      <td>804259</td>\n",
       "      <td>2.035204e+07</td>\n",
       "      <td>25.305331</td>\n",
       "    </tr>\n",
       "    <tr>\n",
       "      <th rowspan=\"2\" valign=\"top\">SE</th>\n",
       "      <th>Franqueado</th>\n",
       "      <td>1413760</td>\n",
       "      <td>4.081343e+07</td>\n",
       "      <td>28.868713</td>\n",
       "    </tr>\n",
       "    <tr>\n",
       "      <th>Proprio</th>\n",
       "      <td>1771406</td>\n",
       "      <td>5.457126e+07</td>\n",
       "      <td>30.806750</td>\n",
       "    </tr>\n",
       "    <tr>\n",
       "      <th rowspan=\"2\" valign=\"top\">SUL</th>\n",
       "      <th>Franqueado</th>\n",
       "      <td>489793</td>\n",
       "      <td>1.353845e+07</td>\n",
       "      <td>27.641171</td>\n",
       "    </tr>\n",
       "    <tr>\n",
       "      <th>Proprio</th>\n",
       "      <td>632604</td>\n",
       "      <td>1.788031e+07</td>\n",
       "      <td>28.264614</td>\n",
       "    </tr>\n",
       "  </tbody>\n",
       "</table>\n",
       "</div>"
      ],
      "text/plain": [
       "                    Qtd_transacoes      VL_Venda  Ticket_Medio\n",
       "Regiao  Admin                                                 \n",
       "N+NE+CO Franqueado          559396  1.497248e+07     26.765441\n",
       "        Proprio             804259  2.035204e+07     25.305331\n",
       "SE      Franqueado         1413760  4.081343e+07     28.868713\n",
       "        Proprio            1771406  5.457126e+07     30.806750\n",
       "SUL     Franqueado          489793  1.353845e+07     27.641171\n",
       "        Proprio             632604  1.788031e+07     28.264614"
      ]
     },
     "execution_count": 16,
     "metadata": {},
     "output_type": "execute_result"
    }
   ],
   "source": [
    "table"
   ]
  },
  {
   "cell_type": "markdown",
   "metadata": {},
   "source": [
    "A tabela acima indica que o Ticket Médio dos franqueados é maior na Região N+NE+CO, mas menor nas regiões SE e Sul. Também podemos observar como a região SE tem maior peso no negócio. Podemos visualizar o resultado gráfico abaixo:"
   ]
  },
  {
   "cell_type": "code",
   "execution_count": 17,
   "metadata": {},
   "outputs": [],
   "source": [
    "import matplotlib.pyplot as plt"
   ]
  },
  {
   "cell_type": "code",
   "execution_count": 18,
   "metadata": {},
   "outputs": [
    {
     "data": {
      "text/plain": [
       "<AxesSubplot:ylabel='Qtd_transacoes'>"
      ]
     },
     "execution_count": 18,
     "metadata": {},
     "output_type": "execute_result"
    },
    {
     "data": {
      "image/png": "[encoded data removed]",
      "text/plain": [
       "<Figure size 1440x576 with 1 Axes>"
      ]
     },
     "metadata": {},
     "output_type": "display_data"
    }
   ],
   "source": [
    "table.plot.pie(y='Qtd_transacoes', figsize=(20,8))"
   ]
  },
  {
   "cell_type": "markdown",
   "metadata": {},
   "source": [
    "Para a análise exploratória, vamos criar uma nova coluna com o indicador de Ticket Médio para verificarmos o perfil das transações do dataframe:"
   ]
  },
  {
   "cell_type": "code",
   "execution_count": 19,
   "metadata": {},
   "outputs": [],
   "source": [
    "transacoes['Ticket_Medio'] = transacoes['VL_Venda']/transacoes['Qtd_transacoes']"
   ]
  },
  {
   "cell_type": "code",
   "execution_count": 20,
   "metadata": {},
   "outputs": [
    {
     "data": {
      "text/html": [
       "<div>\n",
       "<style scoped>\n",
       "    .dataframe tbody tr th:only-of-type {\n",
       "        vertical-align: middle;\n",
       "    }\n",
       "\n",
       "    .dataframe tbody tr th {\n",
       "        vertical-align: top;\n",
       "    }\n",
       "\n",
       "    .dataframe thead th {\n",
       "        text-align: right;\n",
       "    }\n",
       "</style>\n",
       "<table border=\"1\" class=\"dataframe\">\n",
       "  <thead>\n",
       "    <tr style=\"text-align: right;\">\n",
       "      <th></th>\n",
       "      <th>Admin</th>\n",
       "      <th>Regiao</th>\n",
       "      <th>Cb01_Sand_Beb_Acomp_Reg</th>\n",
       "      <th>Cb01_Sand_Beb_Acomp_Cup</th>\n",
       "      <th>Sand01_Reg</th>\n",
       "      <th>Sand01_Cup</th>\n",
       "      <th>Cb16_Sand_Beb_Acomp_Reg</th>\n",
       "      <th>Cb16_Sand_Beb_Acomp_Cup</th>\n",
       "      <th>Sand16_Reg</th>\n",
       "      <th>Sand16_Cup</th>\n",
       "      <th>...</th>\n",
       "      <th>Acomp03_Cup</th>\n",
       "      <th>Acomp02_Reg</th>\n",
       "      <th>Acomp02_Cup</th>\n",
       "      <th>Acomp04_Reg</th>\n",
       "      <th>Acomp04_Cup</th>\n",
       "      <th>2Sand_Beb_Acomp_Reg</th>\n",
       "      <th>2Sand_Beb_Acomp_Cup</th>\n",
       "      <th>Qtd_transacoes</th>\n",
       "      <th>VL_Venda</th>\n",
       "      <th>Ticket_Medio</th>\n",
       "    </tr>\n",
       "  </thead>\n",
       "  <tbody>\n",
       "    <tr>\n",
       "      <th>0</th>\n",
       "      <td>Franqueado</td>\n",
       "      <td>N+NE+CO</td>\n",
       "      <td>0</td>\n",
       "      <td>0</td>\n",
       "      <td>0</td>\n",
       "      <td>0</td>\n",
       "      <td>0</td>\n",
       "      <td>0</td>\n",
       "      <td>0</td>\n",
       "      <td>0</td>\n",
       "      <td>...</td>\n",
       "      <td>0</td>\n",
       "      <td>0</td>\n",
       "      <td>0</td>\n",
       "      <td>0</td>\n",
       "      <td>0</td>\n",
       "      <td>0</td>\n",
       "      <td>0</td>\n",
       "      <td>1373</td>\n",
       "      <td>19934.651470</td>\n",
       "      <td>14.519047</td>\n",
       "    </tr>\n",
       "    <tr>\n",
       "      <th>1</th>\n",
       "      <td>Franqueado</td>\n",
       "      <td>N+NE+CO</td>\n",
       "      <td>0</td>\n",
       "      <td>0</td>\n",
       "      <td>0</td>\n",
       "      <td>0</td>\n",
       "      <td>0</td>\n",
       "      <td>0</td>\n",
       "      <td>0</td>\n",
       "      <td>0</td>\n",
       "      <td>...</td>\n",
       "      <td>0</td>\n",
       "      <td>0</td>\n",
       "      <td>0</td>\n",
       "      <td>0</td>\n",
       "      <td>0</td>\n",
       "      <td>0</td>\n",
       "      <td>0</td>\n",
       "      <td>852</td>\n",
       "      <td>16106.657440</td>\n",
       "      <td>18.904528</td>\n",
       "    </tr>\n",
       "    <tr>\n",
       "      <th>2</th>\n",
       "      <td>Franqueado</td>\n",
       "      <td>N+NE+CO</td>\n",
       "      <td>0</td>\n",
       "      <td>0</td>\n",
       "      <td>0</td>\n",
       "      <td>0</td>\n",
       "      <td>0</td>\n",
       "      <td>0</td>\n",
       "      <td>0</td>\n",
       "      <td>0</td>\n",
       "      <td>...</td>\n",
       "      <td>0</td>\n",
       "      <td>0</td>\n",
       "      <td>0</td>\n",
       "      <td>0</td>\n",
       "      <td>0</td>\n",
       "      <td>0</td>\n",
       "      <td>0</td>\n",
       "      <td>240</td>\n",
       "      <td>5135.182905</td>\n",
       "      <td>21.396595</td>\n",
       "    </tr>\n",
       "    <tr>\n",
       "      <th>3</th>\n",
       "      <td>Franqueado</td>\n",
       "      <td>N+NE+CO</td>\n",
       "      <td>0</td>\n",
       "      <td>0</td>\n",
       "      <td>0</td>\n",
       "      <td>0</td>\n",
       "      <td>0</td>\n",
       "      <td>0</td>\n",
       "      <td>0</td>\n",
       "      <td>0</td>\n",
       "      <td>...</td>\n",
       "      <td>0</td>\n",
       "      <td>0</td>\n",
       "      <td>0</td>\n",
       "      <td>0</td>\n",
       "      <td>0</td>\n",
       "      <td>0</td>\n",
       "      <td>0</td>\n",
       "      <td>142</td>\n",
       "      <td>3183.077909</td>\n",
       "      <td>22.416042</td>\n",
       "    </tr>\n",
       "    <tr>\n",
       "      <th>4</th>\n",
       "      <td>Franqueado</td>\n",
       "      <td>N+NE+CO</td>\n",
       "      <td>0</td>\n",
       "      <td>0</td>\n",
       "      <td>0</td>\n",
       "      <td>0</td>\n",
       "      <td>0</td>\n",
       "      <td>0</td>\n",
       "      <td>0</td>\n",
       "      <td>0</td>\n",
       "      <td>...</td>\n",
       "      <td>0</td>\n",
       "      <td>0</td>\n",
       "      <td>0</td>\n",
       "      <td>0</td>\n",
       "      <td>0</td>\n",
       "      <td>0</td>\n",
       "      <td>0</td>\n",
       "      <td>40</td>\n",
       "      <td>1035.245162</td>\n",
       "      <td>25.881129</td>\n",
       "    </tr>\n",
       "  </tbody>\n",
       "</table>\n",
       "<p>5 rows × 110 columns</p>\n",
       "</div>"
      ],
      "text/plain": [
       "        Admin   Regiao  Cb01_Sand_Beb_Acomp_Reg  Cb01_Sand_Beb_Acomp_Cup  \\\n",
       "0  Franqueado  N+NE+CO                        0                        0   \n",
       "1  Franqueado  N+NE+CO                        0                        0   \n",
       "2  Franqueado  N+NE+CO                        0                        0   \n",
       "3  Franqueado  N+NE+CO                        0                        0   \n",
       "4  Franqueado  N+NE+CO                        0                        0   \n",
       "\n",
       "   Sand01_Reg  Sand01_Cup  Cb16_Sand_Beb_Acomp_Reg  Cb16_Sand_Beb_Acomp_Cup  \\\n",
       "0           0           0                        0                        0   \n",
       "1           0           0                        0                        0   \n",
       "2           0           0                        0                        0   \n",
       "3           0           0                        0                        0   \n",
       "4           0           0                        0                        0   \n",
       "\n",
       "   Sand16_Reg  Sand16_Cup  ...  Acomp03_Cup  Acomp02_Reg  Acomp02_Cup  \\\n",
       "0           0           0  ...            0            0            0   \n",
       "1           0           0  ...            0            0            0   \n",
       "2           0           0  ...            0            0            0   \n",
       "3           0           0  ...            0            0            0   \n",
       "4           0           0  ...            0            0            0   \n",
       "\n",
       "   Acomp04_Reg  Acomp04_Cup  2Sand_Beb_Acomp_Reg  2Sand_Beb_Acomp_Cup  \\\n",
       "0            0            0                    0                    0   \n",
       "1            0            0                    0                    0   \n",
       "2            0            0                    0                    0   \n",
       "3            0            0                    0                    0   \n",
       "4            0            0                    0                    0   \n",
       "\n",
       "   Qtd_transacoes      VL_Venda  Ticket_Medio  \n",
       "0            1373  19934.651470     14.519047  \n",
       "1             852  16106.657440     18.904528  \n",
       "2             240   5135.182905     21.396595  \n",
       "3             142   3183.077909     22.416042  \n",
       "4              40   1035.245162     25.881129  \n",
       "\n",
       "[5 rows x 110 columns]"
      ]
     },
     "execution_count": 20,
     "metadata": {},
     "output_type": "execute_result"
    }
   ],
   "source": [
    "transacoes.head()"
   ]
  },
  {
   "cell_type": "markdown",
   "metadata": {},
   "source": [
    "Agora, vamos criar uma variável para armazenar as composições das transações e entender quais os produtos mais relevantes do mix e o perfil das transações:"
   ]
  },
  {
   "cell_type": "markdown",
   "metadata": {},
   "source": [
    "Agora podemos aplicar o método FOR para apurar a importância de cada um dos itens do mix no total de transações e cada Ticket Médio do grupo de transações que contém cada item do Pmix:"
   ]
  },
  {
   "cell_type": "code",
   "execution_count": 21,
   "metadata": {},
   "outputs": [],
   "source": [
    "cols = list(transacoes.columns)"
   ]
  },
  {
   "cell_type": "code",
   "execution_count": 22,
   "metadata": {
    "scrolled": true
   },
   "outputs": [
    {
     "name": "stdout",
     "output_type": "stream",
     "text": [
      "['Admin', 'Regiao', 'Cb01_Sand_Beb_Acomp_Reg', 'Cb01_Sand_Beb_Acomp_Cup', 'Sand01_Reg', 'Sand01_Cup', 'Cb16_Sand_Beb_Acomp_Reg', 'Cb16_Sand_Beb_Acomp_Cup', 'Sand16_Reg', 'Sand16_Cup', 'Cb04_Sand_Beb_Acomp_Reg', 'Cb04_Sand_Beb_Acomp_Cup', 'Sand04_Reg', 'Sand04_Cup', 'Cb09_Sand_Beb_Acomp_Reg', 'Cb09_Sand_Beb_Acomp_Cup', 'Sand09_Reg', 'Sand09_Cup', 'Cb07_Sand_Beb_Acomp_Reg', 'Cb07_Sand_Beb_Acomp_Cup', 'Sand07_Reg', 'Sand07_Cup', 'Cb18_Sand_Beb_Acomp_Reg', 'Cb18_Sand_Beb_Acomp_Cup', 'Sand18_Reg', 'Sand18_Cup', 'Cb10_Sand_Beb_Acomp_Reg', 'Cb10_Sand_Beb_Acomp_Cup', 'Sand10_Reg', 'Sand10_Cup', 'Cb06_Sand_Beb_Acomp_Reg', 'Cb06_Sand_Beb_Acomp_Cup', 'Sand06_Reg', 'Sand06_Cup', 'CbA01_Sand_Beb_Acomp_Reg', 'CbA01_Sand_Beb_Acomp_Cup', 'Acomp01_Reg', 'Acomp01_Cup', 'Cb05_Sand_Beb_Acomp_Reg', 'Cb05_Sand_Beb_Acomp_Cup', 'Sand05_Reg', 'Sand05_Cup', 'Cb11_Sand_Beb_Acomp_Reg', 'Cb11_Sand_Beb_Acomp_Cup', 'Sand11_Reg', 'Sand11_Cup', 'Cb03_Sand_Beb_Acomp_Reg', 'Cb03_Sand_Beb_Acomp_Cup', 'Sand03_Reg', 'Sand03_Cup', 'Cb02_Sand_Beb_Acomp_Reg', 'Cb02_Sand_Beb_Acomp_Cup', 'Sand02_Reg', 'Sand02_Cup', 'Cb12_Sand_Beb_Acomp_Reg', 'Cb12_Sand_Beb_Acomp_Cup', 'Sand12_Reg', 'Sand12_Cup', 'Cb14_Sand_Beb_Acomp_Reg', 'Cb14_Sand_Beb_Acomp_Cup', 'Sand14_Reg', 'Sand14_Cup', 'Cb15_Sand_Beb_Acomp_Reg', 'Cb15_Sand_Beb_Acomp_Cup', 'Sand15_Reg', 'Sand15_Cup', 'Cb13_Sand_Beb_Acomp_Reg', 'Cb13_Sand_Beb_Acomp_Cup', 'Sand13_Reg', 'Sand13_Cup', 'Menu_inf_Reg', 'Menu_inf_Cup', 'Cb17_Sand_Beb_Acomp_Reg', 'Cb17_Sand_Beb_Acomp_Cup', 'Sand17_Reg', 'Sand17_Cup', 'Sand_peq', 'Beb_peq', 'Acomp_peq', 'Sorv_peq_Reg', 'Sorv_grande_Reg', 'Sundae_peq_Reg', 'Sundae_med_Reg', 'Sundae_quente_Reg', 'Sundae_grande_Reg', '2Sand_Cup', '2Sand_Reg', 'Sand_dia', 'Cb_Sand_Beb_Acomp_dia', 'Beb03_Reg', 'Beb03_Cup', 'Beb04_Reg', 'Beb04_Cup', 'Beb02_Reg', 'Beb02_Cup', 'Beb01_Reg', 'Beb01_Cup', 'MilkShake_Reg', 'MilkShake_Cup', 'Acomp03_Reg', 'Acomp03_Cup', 'Acomp02_Reg', 'Acomp02_Cup', 'Acomp04_Reg', 'Acomp04_Cup', '2Sand_Beb_Acomp_Reg', '2Sand_Beb_Acomp_Cup', 'Qtd_transacoes', 'VL_Venda', 'Ticket_Medio']\n"
     ]
    }
   ],
   "source": [
    "print (cols)"
   ]
  },
  {
   "cell_type": "code",
   "execution_count": 23,
   "metadata": {},
   "outputs": [
    {
     "name": "stdout",
     "output_type": "stream",
     "text": [
      "['Admin', 'Regiao', 'Cb01_Sand_Beb_Acomp_Reg', 'Cb01_Sand_Beb_Acomp_Cup', 'Sand01_Reg', 'Sand01_Cup', 'Cb16_Sand_Beb_Acomp_Reg', 'Cb16_Sand_Beb_Acomp_Cup', 'Sand16_Reg', 'Sand16_Cup', 'Cb04_Sand_Beb_Acomp_Reg', 'Cb04_Sand_Beb_Acomp_Cup', 'Sand04_Reg', 'Sand04_Cup', 'Cb09_Sand_Beb_Acomp_Reg', 'Cb09_Sand_Beb_Acomp_Cup', 'Sand09_Reg', 'Sand09_Cup', 'Cb07_Sand_Beb_Acomp_Reg', 'Cb07_Sand_Beb_Acomp_Cup', 'Sand07_Reg', 'Sand07_Cup', 'Cb18_Sand_Beb_Acomp_Reg', 'Cb18_Sand_Beb_Acomp_Cup', 'Sand18_Reg', 'Sand18_Cup', 'Cb10_Sand_Beb_Acomp_Reg', 'Cb10_Sand_Beb_Acomp_Cup', 'Sand10_Reg', 'Sand10_Cup', 'Cb06_Sand_Beb_Acomp_Reg', 'Cb06_Sand_Beb_Acomp_Cup', 'Sand06_Reg', 'Sand06_Cup', 'CbA01_Sand_Beb_Acomp_Reg', 'CbA01_Sand_Beb_Acomp_Cup', 'Acomp01_Reg', 'Acomp01_Cup', 'Cb05_Sand_Beb_Acomp_Reg', 'Cb05_Sand_Beb_Acomp_Cup', 'Sand05_Reg', 'Sand05_Cup', 'Cb11_Sand_Beb_Acomp_Reg', 'Cb11_Sand_Beb_Acomp_Cup', 'Sand11_Reg', 'Sand11_Cup', 'Cb03_Sand_Beb_Acomp_Reg', 'Cb03_Sand_Beb_Acomp_Cup', 'Sand03_Reg', 'Sand03_Cup', 'Cb02_Sand_Beb_Acomp_Reg', 'Cb02_Sand_Beb_Acomp_Cup', 'Sand02_Reg', 'Sand02_Cup', 'Cb12_Sand_Beb_Acomp_Reg', 'Cb12_Sand_Beb_Acomp_Cup', 'Sand12_Reg', 'Sand12_Cup', 'Cb14_Sand_Beb_Acomp_Reg', 'Cb14_Sand_Beb_Acomp_Cup', 'Sand14_Reg', 'Sand14_Cup', 'Cb15_Sand_Beb_Acomp_Reg', 'Cb15_Sand_Beb_Acomp_Cup', 'Sand15_Reg', 'Sand15_Cup', 'Cb13_Sand_Beb_Acomp_Reg', 'Cb13_Sand_Beb_Acomp_Cup', 'Sand13_Reg', 'Sand13_Cup', 'Menu_inf_Reg', 'Menu_inf_Cup', 'Cb17_Sand_Beb_Acomp_Reg', 'Cb17_Sand_Beb_Acomp_Cup', 'Sand17_Reg', 'Sand17_Cup', 'Sand_peq', 'Beb_peq', 'Acomp_peq', 'Sorv_peq_Reg', 'Sorv_grande_Reg', 'Sundae_peq_Reg', 'Sundae_med_Reg', 'Sundae_quente_Reg', 'Sundae_grande_Reg', '2Sand_Cup', '2Sand_Reg', 'Sand_dia', 'Cb_Sand_Beb_Acomp_dia', 'Beb03_Reg', 'Beb03_Cup', 'Beb04_Reg', 'Beb04_Cup', 'Beb02_Reg', 'Beb02_Cup', 'Beb01_Reg', 'Beb01_Cup', 'MilkShake_Reg', 'MilkShake_Cup', 'Acomp03_Reg', 'Acomp03_Cup', 'Acomp02_Reg', 'Acomp02_Cup', 'Acomp04_Reg', 'Acomp04_Cup', '2Sand_Beb_Acomp_Reg', '2Sand_Beb_Acomp_Cup']\n"
     ]
    }
   ],
   "source": [
    "cols.pop()\n",
    "cols.pop()\n",
    "cols.pop()\n",
    "print (cols)"
   ]
  },
  {
   "cell_type": "code",
   "execution_count": 24,
   "metadata": {
    "scrolled": true
   },
   "outputs": [
    {
     "name": "stdout",
     "output_type": "stream",
     "text": [
      "['Cb01_Sand_Beb_Acomp_Reg', 'Cb01_Sand_Beb_Acomp_Cup', 'Sand01_Reg', 'Sand01_Cup', 'Cb16_Sand_Beb_Acomp_Reg', 'Cb16_Sand_Beb_Acomp_Cup', 'Sand16_Reg', 'Sand16_Cup', 'Cb04_Sand_Beb_Acomp_Reg', 'Cb04_Sand_Beb_Acomp_Cup', 'Sand04_Reg', 'Sand04_Cup', 'Cb09_Sand_Beb_Acomp_Reg', 'Cb09_Sand_Beb_Acomp_Cup', 'Sand09_Reg', 'Sand09_Cup', 'Cb07_Sand_Beb_Acomp_Reg', 'Cb07_Sand_Beb_Acomp_Cup', 'Sand07_Reg', 'Sand07_Cup', 'Cb18_Sand_Beb_Acomp_Reg', 'Cb18_Sand_Beb_Acomp_Cup', 'Sand18_Reg', 'Sand18_Cup', 'Cb10_Sand_Beb_Acomp_Reg', 'Cb10_Sand_Beb_Acomp_Cup', 'Sand10_Reg', 'Sand10_Cup', 'Cb06_Sand_Beb_Acomp_Reg', 'Cb06_Sand_Beb_Acomp_Cup', 'Sand06_Reg', 'Sand06_Cup', 'CbA01_Sand_Beb_Acomp_Reg', 'CbA01_Sand_Beb_Acomp_Cup', 'Acomp01_Reg', 'Acomp01_Cup', 'Cb05_Sand_Beb_Acomp_Reg', 'Cb05_Sand_Beb_Acomp_Cup', 'Sand05_Reg', 'Sand05_Cup', 'Cb11_Sand_Beb_Acomp_Reg', 'Cb11_Sand_Beb_Acomp_Cup', 'Sand11_Reg', 'Sand11_Cup', 'Cb03_Sand_Beb_Acomp_Reg', 'Cb03_Sand_Beb_Acomp_Cup', 'Sand03_Reg', 'Sand03_Cup', 'Cb02_Sand_Beb_Acomp_Reg', 'Cb02_Sand_Beb_Acomp_Cup', 'Sand02_Reg', 'Sand02_Cup', 'Cb12_Sand_Beb_Acomp_Reg', 'Cb12_Sand_Beb_Acomp_Cup', 'Sand12_Reg', 'Sand12_Cup', 'Cb14_Sand_Beb_Acomp_Reg', 'Cb14_Sand_Beb_Acomp_Cup', 'Sand14_Reg', 'Sand14_Cup', 'Cb15_Sand_Beb_Acomp_Reg', 'Cb15_Sand_Beb_Acomp_Cup', 'Sand15_Reg', 'Sand15_Cup', 'Cb13_Sand_Beb_Acomp_Reg', 'Cb13_Sand_Beb_Acomp_Cup', 'Sand13_Reg', 'Sand13_Cup', 'Menu_inf_Reg', 'Menu_inf_Cup', 'Cb17_Sand_Beb_Acomp_Reg', 'Cb17_Sand_Beb_Acomp_Cup', 'Sand17_Reg', 'Sand17_Cup', 'Sand_peq', 'Beb_peq', 'Acomp_peq', 'Sorv_peq_Reg', 'Sorv_grande_Reg', 'Sundae_peq_Reg', 'Sundae_med_Reg', 'Sundae_quente_Reg', 'Sundae_grande_Reg', '2Sand_Cup', '2Sand_Reg', 'Sand_dia', 'Cb_Sand_Beb_Acomp_dia', 'Beb03_Reg', 'Beb03_Cup', 'Beb04_Reg', 'Beb04_Cup', 'Beb02_Reg', 'Beb02_Cup', 'Beb01_Reg', 'Beb01_Cup', 'MilkShake_Reg', 'MilkShake_Cup', 'Acomp03_Reg', 'Acomp03_Cup', 'Acomp02_Reg', 'Acomp02_Cup', 'Acomp04_Reg', 'Acomp04_Cup', '2Sand_Beb_Acomp_Reg', '2Sand_Beb_Acomp_Cup']\n"
     ]
    }
   ],
   "source": [
    "del cols[0]\n",
    "del cols[0]\n",
    "print (cols)"
   ]
  },
  {
   "cell_type": "code",
   "execution_count": 25,
   "metadata": {},
   "outputs": [
    {
     "name": "stdout",
     "output_type": "stream",
     "text": [
      "[0.05215017303161332, 0.0589637005666155, 0.0034840840186358556, 0.020161277524510607, 0.020415191234052367, 0.014660695462597276, 0.0017516519379082236, 0.0003549502064635851, 0.021319758824294887, 0.01690289458102298, 0.0017629369916656351, 0.00042512913451748813, 0.015754816690171317, 0.020772081059130507, 0.001735606002096904, 0.004368373777908026, 0.0014716415415524497, 0.007526778198263583, 0.00039427156564956594, 4.937211018867552e-06, 0.0010137152195524842, 0.00013577330301885768, 0.00034489945546089043, 4.760882053907996e-06, 0.0, 0.0004173706600592677, 0.0, 2.9799595078164866e-05, 0.00036165070713204816, 1.040340893261377e-05, 6.929728322910529e-05, 0.0, 0.004472055209304245, 0.007786863421578927, 0.02022405063603621, 0.0330941254594692, 0.005571113647897153, 0.0003540685616387873, 0.0006236755490619476, 4.055566194069775e-06, 0.010101181086673091, 0.02123617889490406, 0.0011648291425228232, 8.234562663611238e-05, 0.037689434615280175, 0.017486190797109193, 0.0027045336645496612, 0.010648682522872512, 0.010247181469659604, 0.00038986334152557703, 0.0006132721401293338, 1.0227079967654215e-05, 0.018341033619233116, 0.0003717014581347428, 0.0011189836116333386, 0.0, 0.02707778117504917, 0.000410493830425845, 0.0013979360341993554, 0.0, 0.013375962623901956, 0.00037840195880320594, 0.0008245142401508812, 1.7103909601076875e-05, 0.014238916578414019, 0.00020824450761723496, 0.0007063738336279791, 0.0, 0.09529064126965318, 0.003456929358032084, 0.0, 0.0, 0.0, 0.0, 0.030723911512482858, 0.006701029655357985, 0.0060440279319186815, 0.0442721475351503, 0.009807593360015432, 0.026528340120235194, 0.021633977039852814, 0.04204564169460599, 0.11782865691285364, 0.292030565568102, 0.00367275601114258, 0.06059950437454529, 0.07859105398522857, 0.011849130116317165, 0.009668469806662344, 0.01023642540279707, 0.0024470933757087102, 0.0003041674645552331, 0.00015605113398920654, 0.006402152059751538, 1.0579737897573326e-06, 0.08676513581385868, 0.001660313534059174, 0.06937504430265244, 0.07487580269353074, 0.002896555907390617, 5.660159775201729e-05, 0.0007338811521616697, 0.0, 0.1177032870187674, 0.03840004034406718]\n"
     ]
    }
   ],
   "source": [
    "mix_prod_transacoes = []\n",
    "for col in cols:\n",
    "    mix_prod_transacoes.append(transacoes.loc[transacoes[col] != 0, 'Qtd_transacoes'].sum()/transacoes['Qtd_transacoes'].sum())\n",
    "    \n",
    "print (mix_prod_transacoes)"
   ]
  },
  {
   "cell_type": "code",
   "execution_count": 26,
   "metadata": {},
   "outputs": [
    {
     "name": "stderr",
     "output_type": "stream",
     "text": [
      "/opt/conda/lib/python3.7/site-packages/ipykernel_launcher.py:3: RuntimeWarning: invalid value encountered in double_scalars\n",
      "  This is separate from the ipykernel package so we can avoid doing imports until\n",
      "/opt/conda/lib/python3.7/site-packages/ipykernel_launcher.py:3: RuntimeWarning: invalid value encountered in double_scalars\n",
      "  This is separate from the ipykernel package so we can avoid doing imports until\n",
      "/opt/conda/lib/python3.7/site-packages/ipykernel_launcher.py:3: RuntimeWarning: invalid value encountered in double_scalars\n",
      "  This is separate from the ipykernel package so we can avoid doing imports until\n",
      "/opt/conda/lib/python3.7/site-packages/ipykernel_launcher.py:3: RuntimeWarning: invalid value encountered in double_scalars\n",
      "  This is separate from the ipykernel package so we can avoid doing imports until\n",
      "/opt/conda/lib/python3.7/site-packages/ipykernel_launcher.py:3: RuntimeWarning: invalid value encountered in double_scalars\n",
      "  This is separate from the ipykernel package so we can avoid doing imports until\n",
      "/opt/conda/lib/python3.7/site-packages/ipykernel_launcher.py:3: RuntimeWarning: invalid value encountered in double_scalars\n",
      "  This is separate from the ipykernel package so we can avoid doing imports until\n",
      "/opt/conda/lib/python3.7/site-packages/ipykernel_launcher.py:3: RuntimeWarning: invalid value encountered in double_scalars\n",
      "  This is separate from the ipykernel package so we can avoid doing imports until\n",
      "/opt/conda/lib/python3.7/site-packages/ipykernel_launcher.py:3: RuntimeWarning: invalid value encountered in double_scalars\n",
      "  This is separate from the ipykernel package so we can avoid doing imports until\n",
      "/opt/conda/lib/python3.7/site-packages/ipykernel_launcher.py:3: RuntimeWarning: invalid value encountered in double_scalars\n",
      "  This is separate from the ipykernel package so we can avoid doing imports until\n",
      "/opt/conda/lib/python3.7/site-packages/ipykernel_launcher.py:3: RuntimeWarning: invalid value encountered in double_scalars\n",
      "  This is separate from the ipykernel package so we can avoid doing imports until\n"
     ]
    },
    {
     "name": "stdout",
     "output_type": "stream",
     "text": [
      "[40.84757389349002, 42.17297471174943, 39.43181455479326, 29.044955430825002, 40.26207058029392, 48.12580787120733, 41.96149688279042, 46.66488996023497, 40.95122831592115, 48.16401960830189, 41.88074977708442, 48.77789147274326, 42.11264556497968, 37.9305254118704, 43.879659574333026, 29.438279496590702, 42.56289671436137, 33.0962837594244, 35.209664338964224, 30.434606631285714, 41.77137644582884, 36.4770030762013, 34.44243970110634, 33.80252543037037, nan, 27.15786780295733, nan, 25.022883588508872, 37.836872113812774, 40.79106396155932, 36.21181556386768, nan, 37.5936357504286, 32.24204269932821, 44.907525052405134, 38.61420294506504, 44.872884360099064, 39.670867775906366, 47.03991360374329, 22.96160988652174, 44.90214185576458, 36.75151562530635, 49.66232395642143, 35.973310773978596, 46.19937958157819, 42.488087168082345, 51.176319499621854, 38.74893598401781, 47.77289402701449, 46.01210611667572, 54.64048953543128, 34.0306188725862, 49.40831516376519, 49.304762546034155, 55.34568249529941, nan, 49.249729119517276, 51.10683065414089, 55.58052682859738, nan, 51.72386013620805, 50.22638437920317, 60.582643169296404, 43.0315640943299, 48.533291572290594, 49.85914809182049, 53.90410004910384, nan, 40.93585369391095, 45.11616553696455, nan, nan, nan, nan, 29.603258023587784, 28.161737760131988, 26.696794925415585, 19.3758484144897, 18.07379809108851, 28.044922539869198, 26.99637145024965, 35.470479146528675, 31.193659718704623, 29.653285673600333, 32.06936576665994, 27.208260244783155, 30.42946086082126, 36.779054669204264, 29.28166095294702, 34.98929689237735, 30.66826967821372, 33.83931857673101, 26.480693110501697, 29.793645767626728, 14.650334265833331, 30.98435618956254, 25.719091754792803, 33.224558849484886, 31.679695046424904, 36.01052741141395, 31.07867010187538, 40.73645220079097, nan, 33.20621607393397, 36.080289030486135]\n"
     ]
    },
    {
     "name": "stderr",
     "output_type": "stream",
     "text": [
      "/opt/conda/lib/python3.7/site-packages/ipykernel_launcher.py:3: RuntimeWarning: invalid value encountered in double_scalars\n",
      "  This is separate from the ipykernel package so we can avoid doing imports until\n"
     ]
    }
   ],
   "source": [
    "mix_prod_ticket_medio = []\n",
    "for col in cols:\n",
    "    mix_prod_ticket_medio.append(transacoes.loc[transacoes[col] != 0, 'VL_Venda'].sum()/transacoes.loc[transacoes[col] != 0, 'Qtd_transacoes'].sum())\n",
    "    \n",
    "print (mix_prod_ticket_medio)"
   ]
  },
  {
   "cell_type": "markdown",
   "metadata": {},
   "source": [
    "Com as listas criadas, podemos montar um novo DataFrame para consolidar os dados e apresentar uma visualização gráfica:"
   ]
  },
  {
   "cell_type": "code",
   "execution_count": 27,
   "metadata": {},
   "outputs": [],
   "source": [
    "mix = pd.DataFrame()"
   ]
  },
  {
   "cell_type": "code",
   "execution_count": 28,
   "metadata": {},
   "outputs": [],
   "source": [
    "mix['Mix_Prod'] = cols"
   ]
  },
  {
   "cell_type": "code",
   "execution_count": 29,
   "metadata": {},
   "outputs": [],
   "source": [
    "mix['Import_Trans'] = mix_prod_transacoes"
   ]
  },
  {
   "cell_type": "code",
   "execution_count": 30,
   "metadata": {},
   "outputs": [],
   "source": [
    "mix['Ticket_Medio'] = mix_prod_ticket_medio"
   ]
  },
  {
   "cell_type": "code",
   "execution_count": 31,
   "metadata": {},
   "outputs": [],
   "source": [
    "mix = mix.sort_values(by=['Import_Trans'], ascending = False)"
   ]
  },
  {
   "cell_type": "code",
   "execution_count": 32,
   "metadata": {},
   "outputs": [],
   "source": [
    "mix = mix.reset_index()"
   ]
  },
  {
   "cell_type": "code",
   "execution_count": 33,
   "metadata": {},
   "outputs": [],
   "source": [
    "mix = mix.drop('index', axis = 1)"
   ]
  },
  {
   "cell_type": "code",
   "execution_count": 34,
   "metadata": {},
   "outputs": [],
   "source": [
    "mix15 = mix.head(15)"
   ]
  },
  {
   "cell_type": "code",
   "execution_count": 35,
   "metadata": {},
   "outputs": [
    {
     "data": {
      "text/html": [
       "<div>\n",
       "<style scoped>\n",
       "    .dataframe tbody tr th:only-of-type {\n",
       "        vertical-align: middle;\n",
       "    }\n",
       "\n",
       "    .dataframe tbody tr th {\n",
       "        vertical-align: top;\n",
       "    }\n",
       "\n",
       "    .dataframe thead th {\n",
       "        text-align: right;\n",
       "    }\n",
       "</style>\n",
       "<table border=\"1\" class=\"dataframe\">\n",
       "  <thead>\n",
       "    <tr style=\"text-align: right;\">\n",
       "      <th></th>\n",
       "      <th>Mix_Prod</th>\n",
       "      <th>Import_Trans</th>\n",
       "      <th>Ticket_Medio</th>\n",
       "    </tr>\n",
       "  </thead>\n",
       "  <tbody>\n",
       "    <tr>\n",
       "      <th>0</th>\n",
       "      <td>2Sand_Cup</td>\n",
       "      <td>0.292031</td>\n",
       "      <td>29.653286</td>\n",
       "    </tr>\n",
       "    <tr>\n",
       "      <th>1</th>\n",
       "      <td>Sundae_grande_Reg</td>\n",
       "      <td>0.117829</td>\n",
       "      <td>31.193660</td>\n",
       "    </tr>\n",
       "    <tr>\n",
       "      <th>2</th>\n",
       "      <td>2Sand_Beb_Acomp_Reg</td>\n",
       "      <td>0.117703</td>\n",
       "      <td>33.206216</td>\n",
       "    </tr>\n",
       "    <tr>\n",
       "      <th>3</th>\n",
       "      <td>Menu_inf_Reg</td>\n",
       "      <td>0.095291</td>\n",
       "      <td>40.935854</td>\n",
       "    </tr>\n",
       "    <tr>\n",
       "      <th>4</th>\n",
       "      <td>MilkShake_Reg</td>\n",
       "      <td>0.086765</td>\n",
       "      <td>30.984356</td>\n",
       "    </tr>\n",
       "  </tbody>\n",
       "</table>\n",
       "</div>"
      ],
      "text/plain": [
       "              Mix_Prod  Import_Trans  Ticket_Medio\n",
       "0            2Sand_Cup      0.292031     29.653286\n",
       "1    Sundae_grande_Reg      0.117829     31.193660\n",
       "2  2Sand_Beb_Acomp_Reg      0.117703     33.206216\n",
       "3         Menu_inf_Reg      0.095291     40.935854\n",
       "4        MilkShake_Reg      0.086765     30.984356"
      ]
     },
     "execution_count": 35,
     "metadata": {},
     "output_type": "execute_result"
    }
   ],
   "source": [
    "mix15.head()"
   ]
  },
  {
   "cell_type": "code",
   "execution_count": 36,
   "metadata": {
    "scrolled": true
   },
   "outputs": [
    {
     "data": {
      "text/plain": [
       "<AxesSubplot:label='c4a47883-af8a-4320-a87a-7a0946402dd2'>"
      ]
     },
     "execution_count": 36,
     "metadata": {},
     "output_type": "execute_result"
    },
    {
     "data": {
      "image/png": "[encoded data removed]",
      "text/plain": [
       "<Figure size 2160x432 with 2 Axes>"
      ]
     },
     "metadata": {
      "needs_background": "light"
     },
     "output_type": "display_data"
    }
   ],
   "source": [
    "mix15.plot(kind='bar', figsize = (30, 6), x = 'Mix_Prod', y = 'Import_Trans', color = 'b')\n",
    "mix15['Ticket_Medio'].plot(secondary_y=True, color = 'r')"
   ]
  },
  {
   "cell_type": "markdown",
   "metadata": {},
   "source": [
    "#### *LEMBRETE*: Avaliar diferenças entre Regiões e propriedade das lojas"
   ]
  },
  {
   "cell_type": "markdown",
   "metadata": {},
   "source": [
    "Para analisar o perfil do Dataframe em termos de distribuição de Ticket Médio, vamos agora tratar o dataframe de forma que cada linha represente uma transação:"
   ]
  },
  {
   "cell_type": "markdown",
   "metadata": {
    "colab_type": "text",
    "id": "PmqwtVYL3vWH"
   },
   "source": [
    "Esse tratamento já será útil para a execução do algoritmo Apriori, onde o perfil das transações deve estar identificado em um código binário 1/0.\n",
    "\n",
    "Para isso, vamos criar um novo dataframe para fazer as transformações necessárias:"
   ]
  },
  {
   "cell_type": "code",
   "execution_count": 37,
   "metadata": {
    "colab": {},
    "colab_type": "code",
    "id": "3bjLAo6C5VEl"
   },
   "outputs": [],
   "source": [
    "df_transacoes = transacoes"
   ]
  },
  {
   "cell_type": "markdown",
   "metadata": {
    "colab_type": "text",
    "id": "WLZVg6BV7k0n"
   },
   "source": [
    "Inicialmente, vamos tratar o dataframe para gerar uma linha para cada transação para gerar a amostragem que será utilizada no modelo:"
   ]
  },
  {
   "cell_type": "code",
   "execution_count": null,
   "metadata": {
    "colab": {},
    "colab_type": "code",
    "id": "dr81CD7bBErH"
   },
   "outputs": [
    {
     "name": "stdout",
     "output_type": "stream",
     "text": [
      "10001\n",
      "100001\n",
      "200001\n"
     ]
    }
   ],
   "source": [
    "transacoes = []\n",
    "    \n",
    "for (i, row) in df_transacoes.iterrows():\n",
    "    if i>10000 and i<10002:\n",
    "        print(i)\n",
    "    if i>100000 and i<100002:\n",
    "        print(i)\n",
    "    if i>200000 and i<200002:\n",
    "        print(i)\n",
    "    if i>500000 and i<500002:\n",
    "        print(i)\n",
    "    if i>700000 and i<700002:\n",
    "        print(i)\n",
    "    if i>900000 and i<900002:\n",
    "        print(i)\n",
    "    with open('log.txt', 'w') as arquivo:\n",
    "        arquivo.write(str(i))\n",
    "    transacoes = (transacoes + [row for transacoes in range(row['Qtd_transacoes'])])\n",
    "    with open('log1.txt', 'w') as arquivo:\n",
    "        arquivo.write('passei')\n",
    "df_list_transacoes = pd.DataFrame(transacoes)"
   ]
  },
  {
   "cell_type": "code",
   "execution_count": null,
   "metadata": {},
   "outputs": [],
   "source": [
    "df_list_transacoes.describe()"
   ]
  },
  {
   "cell_type": "code",
   "execution_count": null,
   "metadata": {
    "colab": {
     "base_uri": "https://localhost:8080/",
     "height": 34
    },
    "colab_type": "code",
    "id": "lHRIdvgZd-u6",
    "outputId": "33436db5-72cc-48fd-c0db-7324ae263fdd"
   },
   "outputs": [],
   "source": [
    "df_list_transacoes.head()"
   ]
  },
  {
   "cell_type": "code",
   "execution_count": null,
   "metadata": {},
   "outputs": [],
   "source": [
    "df_list_transacoes = df_list_transacoes.reset_index(drop=True)"
   ]
  },
  {
   "cell_type": "code",
   "execution_count": null,
   "metadata": {
    "colab": {
     "base_uri": "https://localhost:8080/",
     "height": 679
    },
    "colab_type": "code",
    "id": "0cOqMQpWbIld",
    "outputId": "11351a0e-0717-4cda-830f-cb115243ebf2"
   },
   "outputs": [],
   "source": [
    "df_list_transacoes.head()"
   ]
  },
  {
   "cell_type": "markdown",
   "metadata": {},
   "source": [
    "Agora será necessário corrigir os indicadores de GCs, Vendas e Margem dos registros para aplicar o algoritmo de construção de DataFrame aleatório que seja representativo do negócio:"
   ]
  },
  {
   "cell_type": "code",
   "execution_count": null,
   "metadata": {},
   "outputs": [],
   "source": [
    "df_list_transacoes['Venda Unit'] = df_list_transacoes['VL_Venda']/df_list_transacoes['Qtd_transacoes']"
   ]
  },
  {
   "cell_type": "code",
   "execution_count": null,
   "metadata": {},
   "outputs": [],
   "source": [
    "df_list_transacoes['1 transacao'] = df_list_transacoes['Qtd_transacoes']/df_list_transacoes['Qtd_transacoes']"
   ]
  },
  {
   "cell_type": "code",
   "execution_count": null,
   "metadata": {},
   "outputs": [],
   "source": [
    "df_list_transacoes['1 transacao'] = df_list_transacoes['1 transacao'].astype('int64')"
   ]
  },
  {
   "cell_type": "code",
   "execution_count": null,
   "metadata": {},
   "outputs": [],
   "source": [
    "df_list_transacoes['1 transacao'].sum()"
   ]
  },
  {
   "cell_type": "code",
   "execution_count": null,
   "metadata": {},
   "outputs": [],
   "source": [
    "df_list_transacoes['Venda Unit'].sum()"
   ]
  },
  {
   "cell_type": "code",
   "execution_count": null,
   "metadata": {},
   "outputs": [],
   "source": [
    "df_transacoes['Qtd_transacoes'].sum()"
   ]
  },
  {
   "cell_type": "code",
   "execution_count": null,
   "metadata": {},
   "outputs": [],
   "source": [
    "df_transacoes['VL_Venda'].sum()"
   ]
  },
  {
   "cell_type": "code",
   "execution_count": null,
   "metadata": {},
   "outputs": [],
   "source": [
    "df_list_transacoes['VL_Venda'].dtypes"
   ]
  },
  {
   "cell_type": "code",
   "execution_count": null,
   "metadata": {},
   "outputs": [],
   "source": [
    "df_list_transacoes['Qtd_transacoes'].dtypes"
   ]
  },
  {
   "cell_type": "code",
   "execution_count": null,
   "metadata": {},
   "outputs": [],
   "source": [
    "df_list_transacoes['Ticket_Medio'].dtypes"
   ]
  },
  {
   "cell_type": "code",
   "execution_count": null,
   "metadata": {},
   "outputs": [],
   "source": [
    "df_list_transacoes['1 transacao'].dtypes"
   ]
  },
  {
   "cell_type": "code",
   "execution_count": null,
   "metadata": {},
   "outputs": [],
   "source": [
    "del df_list_transacoes['VL_Venda']"
   ]
  },
  {
   "cell_type": "code",
   "execution_count": null,
   "metadata": {},
   "outputs": [],
   "source": [
    "del df_list_transacoes['Qtd_transacoes']"
   ]
  },
  {
   "cell_type": "code",
   "execution_count": null,
   "metadata": {},
   "outputs": [],
   "source": [
    "del df_list_transacoes['Ticket_Medio']"
   ]
  },
  {
   "cell_type": "code",
   "execution_count": null,
   "metadata": {},
   "outputs": [],
   "source": [
    "del df_list_transacoes['1 transacao']"
   ]
  },
  {
   "cell_type": "code",
   "execution_count": null,
   "metadata": {},
   "outputs": [],
   "source": [
    "df_list_transacoes.head()"
   ]
  },
  {
   "cell_type": "code",
   "execution_count": null,
   "metadata": {},
   "outputs": [],
   "source": [
    "#df_list_transacoes = df_list_transacoes.drop(['VL_Venda', 'Qtd_transacoes', 'Ticket_Medio', '1 transacao'],1)"
   ]
  },
  {
   "cell_type": "code",
   "execution_count": null,
   "metadata": {},
   "outputs": [],
   "source": [
    "#df_list_transacoes.head()"
   ]
  },
  {
   "cell_type": "markdown",
   "metadata": {},
   "source": [
    "Para otimizar a execução futura do código, vamos salvar um CSV parcial com o novo dataframe tratado:"
   ]
  },
  {
   "cell_type": "code",
   "execution_count": null,
   "metadata": {},
   "outputs": [],
   "source": [
    "#df_list_transacoes.to_csv('Lista_Transacoes_BR.csv')"
   ]
  },
  {
   "cell_type": "code",
   "execution_count": null,
   "metadata": {},
   "outputs": [],
   "source": [
    "#df_list_transacoes = pd.read_csv('Lista_Transacoes_BR.csv', delimiter = ',')"
   ]
  },
  {
   "cell_type": "code",
   "execution_count": null,
   "metadata": {
    "colab": {},
    "colab_type": "code",
    "id": "zQX8_S225Zzu"
   },
   "outputs": [],
   "source": [
    "#df_list_transacoes = df_list_transacoes.drop('Unnamed: 0', 1)"
   ]
  },
  {
   "cell_type": "code",
   "execution_count": null,
   "metadata": {},
   "outputs": [],
   "source": [
    "#df_list_transacoes.head()"
   ]
  },
  {
   "cell_type": "markdown",
   "metadata": {},
   "source": [
    "\n",
    "\n",
    "\n",
    "\n",
    "\n",
    "\n",
    "\n",
    "\n",
    "\n",
    "\n",
    "\n",
    "\n",
    "\n",
    "\n",
    "\n",
    "\n",
    "\n",
    "+Agora, vamos seguir a Análise Exploratória explorando o perfil das transações da amostra num Histograma:"
   ]
  },
  {
   "cell_type": "code",
   "execution_count": null,
   "metadata": {},
   "outputs": [],
   "source": [
    "df_TM_geral = df_list_transacoes.drop(cols, axis = 1)"
   ]
  },
  {
   "cell_type": "code",
   "execution_count": null,
   "metadata": {},
   "outputs": [],
   "source": [
    "df_TM_geral.head()"
   ]
  },
  {
   "cell_type": "code",
   "execution_count": null,
   "metadata": {},
   "outputs": [],
   "source": [
    "plt.hist(df_TM_geral['Venda Unit'], bins = 100)"
   ]
  },
  {
   "cell_type": "markdown",
   "metadata": {},
   "source": [
    "#### LEMBRETE: Montar o Histograma geral e histogramas por Admin e Região"
   ]
  },
  {
   "cell_type": "markdown",
   "metadata": {},
   "source": [
    "## Preparação do Dataframe para a execução do Algoritmo Apriori"
   ]
  },
  {
   "cell_type": "markdown",
   "metadata": {},
   "source": [
    "Agora vamos aplicar o código para segmentar o meu Dataframe aleatoriamente e rodar algumas verificações para garantir que a base é uma boa representação do total:"
   ]
  },
  {
   "cell_type": "code",
   "execution_count": null,
   "metadata": {},
   "outputs": [],
   "source": [
    "df_sample = df_list_transacoes.sample(frac = 0.20, replace = True, axis = 0)"
   ]
  },
  {
   "cell_type": "code",
   "execution_count": null,
   "metadata": {},
   "outputs": [],
   "source": [
    "df_sample.head()"
   ]
  },
  {
   "cell_type": "code",
   "execution_count": null,
   "metadata": {},
   "outputs": [],
   "source": [
    "TM_sample = df_sample['Venda Unit'].sum()/df_sample['Venda Unit'].count()\n",
    "print (TM_sample)"
   ]
  },
  {
   "cell_type": "code",
   "execution_count": null,
   "metadata": {},
   "outputs": [],
   "source": [
    "TM = df_list_transacoes['Venda Unit'].sum()/df_list_transacoes['Venda Unit'].count()\n",
    "print (TM)"
   ]
  },
  {
   "cell_type": "code",
   "execution_count": null,
   "metadata": {},
   "outputs": [],
   "source": [
    "valid_2Sand_sample = df_sample.loc[df_sample['2Sand_Cup'] > 0, ['Venda Unit']].count()/df_sample['Venda Unit'].count()\n",
    "print (valid_2Sand_sample)"
   ]
  },
  {
   "cell_type": "code",
   "execution_count": null,
   "metadata": {},
   "outputs": [],
   "source": [
    "valid_2Sand = df_list_transacoes.loc[df_list_transacoes['2Sand_Cup'] > 0, ['Venda Unit']].count()/df_list_transacoes['Venda Unit'].count()\n",
    "print (valid_2Sand)"
   ]
  },
  {
   "cell_type": "code",
   "execution_count": null,
   "metadata": {},
   "outputs": [],
   "source": [
    "TM_2Sand_sample = df_sample.loc[df_sample['2Sand_Cup'] > 0, ['Venda Unit']].sum()/df_sample.loc[df_sample['2Sand_Cup'] > 0, ['Venda Unit']].count()\n",
    "print (TM_2Sand_sample)"
   ]
  },
  {
   "cell_type": "code",
   "execution_count": null,
   "metadata": {},
   "outputs": [],
   "source": [
    "TM_2Sand = df_list_transacoes.loc[df_list_transacoes['2Sand_Cup'] > 0, ['Venda Unit']].sum()/ df_list_transacoes.loc[df_list_transacoes['2Sand_Cup'] > 0, ['Venda Unit']].count()\n",
    "print (TM_2Sand)"
   ]
  },
  {
   "cell_type": "code",
   "execution_count": null,
   "metadata": {},
   "outputs": [],
   "source": [
    "valid_Cb01_Reg_sample = df_sample.loc[df_sample['Cb01_Sand_Beb_Acomp_Reg'] > 0, ['Venda Unit']].count()/df_sample['Venda Unit'].count()\n",
    "print (valid_Cb01_Reg_sample)"
   ]
  },
  {
   "cell_type": "code",
   "execution_count": null,
   "metadata": {},
   "outputs": [],
   "source": [
    "valid_Cb01_Reg = df_list_transacoes.loc[df_list_transacoes['Cb01_Sand_Beb_Acomp_Reg'] > 0, ['Venda Unit']].count()/df_list_transacoes['Venda Unit'].count()\n",
    "print (valid_Cb01_Reg)"
   ]
  },
  {
   "cell_type": "code",
   "execution_count": null,
   "metadata": {},
   "outputs": [],
   "source": [
    "TM_Cb01_Reg_sample = df_sample.loc[df_sample['Cb01_Sand_Beb_Acomp_Reg'] > 0, ['Venda Unit']].sum()/df_sample.loc[df_sample['Cb01_Sand_Beb_Acomp_Reg'] > 0, ['Venda Unit']].count()\n",
    "print (TM_Cb01_Reg_sample)"
   ]
  },
  {
   "cell_type": "code",
   "execution_count": null,
   "metadata": {},
   "outputs": [],
   "source": [
    "TM_Cb01_Reg = df_list_transacoes.loc[df_list_transacoes['Cb01_Sand_Beb_Acomp_Reg'] > 0, ['Venda Unit']].sum()/df_list_transacoes.loc[df_list_transacoes['Cb01_Sand_Beb_Acomp_Reg'] > 0, ['Venda Unit']].count()\n",
    "print (TM_Cb01_Reg)"
   ]
  },
  {
   "cell_type": "markdown",
   "metadata": {},
   "source": [
    "A amostragem gerou resultados bastante consistente em termos de Ticket Médio geral, incidência de itens relevantes e Ticket Médio de transações contendo estes itens, então entendemos ser adequado continuar a execução do modelo com essa amostragem de 30% do dataframe original."
   ]
  },
  {
   "cell_type": "markdown",
   "metadata": {
    "colab_type": "text",
    "id": "ZYvTYHP5fwz5"
   },
   "source": [
    "Agora, com o dataframe ajustado e o número de linhas igual ao total de GCs da base de dados original, é necessário converter os valores maiores do que 1 para a aplicação do modelo:"
   ]
  },
  {
   "cell_type": "code",
   "execution_count": null,
   "metadata": {
    "colab": {},
    "colab_type": "code",
    "id": "vGLI7S7uf-dN"
   },
   "outputs": [],
   "source": [
    "df_sample = df_sample.drop(['Venda Unit'], 1)"
   ]
  },
  {
   "cell_type": "code",
   "execution_count": null,
   "metadata": {},
   "outputs": [],
   "source": [
    "df_sample = df_sample.reset_index(drop=True)"
   ]
  },
  {
   "cell_type": "code",
   "execution_count": null,
   "metadata": {
    "colab": {
     "base_uri": "https://localhost:8080/",
     "height": 338
    },
    "colab_type": "code",
    "id": "PHaftYoJgJiV",
    "outputId": "be52cf70-3fd1-40f0-88c5-4569a12c37c8"
   },
   "outputs": [],
   "source": [
    "df_sample.head()"
   ]
  },
  {
   "cell_type": "code",
   "execution_count": null,
   "metadata": {},
   "outputs": [],
   "source": [
    "df_sample.shape"
   ]
  },
  {
   "cell_type": "code",
   "execution_count": null,
   "metadata": {
    "colab": {
     "base_uri": "https://localhost:8080/",
     "height": 221
    },
    "colab_type": "code",
    "id": "4qkymbkmg724",
    "outputId": "2bacd472-5a70-4da5-bb4c-30dfd926826c"
   },
   "outputs": [],
   "source": [
    "colunas = list(df_sample.columns)\n",
    "print (colunas)"
   ]
  },
  {
   "cell_type": "code",
   "execution_count": null,
   "metadata": {},
   "outputs": [],
   "source": [
    "del colunas[0]\n",
    "del colunas[0]\n",
    "print (colunas)"
   ]
  },
  {
   "cell_type": "code",
   "execution_count": null,
   "metadata": {
    "colab": {},
    "colab_type": "code",
    "id": "lTuEvqCzifPF"
   },
   "outputs": [],
   "source": [
    "df_sample = df_sample[colunas].apply(lambda x: [y if y <= 0 else 1 for y in x])"
   ]
  },
  {
   "cell_type": "code",
   "execution_count": null,
   "metadata": {
    "colab": {
     "base_uri": "https://localhost:8080/",
     "height": 338
    },
    "colab_type": "code",
    "id": "QhzVxglLipT9",
    "outputId": "6686176e-8970-4235-fb16-ed471a54713e"
   },
   "outputs": [],
   "source": [
    "df_sample.tail()"
   ]
  },
  {
   "cell_type": "markdown",
   "metadata": {},
   "source": [
    "Para evitar que linhas zeradas prejudiquem o resultado do modelo, vamos fazer a limpeza do dataframe:"
   ]
  },
  {
   "cell_type": "code",
   "execution_count": null,
   "metadata": {},
   "outputs": [],
   "source": [
    "df_sample[\"sum\"]=df_sample.sum(axis=1)"
   ]
  },
  {
   "cell_type": "code",
   "execution_count": null,
   "metadata": {},
   "outputs": [],
   "source": [
    "df_sample_zeros = df_sample[df_sample['sum']==0]"
   ]
  },
  {
   "cell_type": "code",
   "execution_count": null,
   "metadata": {},
   "outputs": [],
   "source": [
    "df_sample_zeros.shape"
   ]
  },
  {
   "cell_type": "code",
   "execution_count": null,
   "metadata": {},
   "outputs": [],
   "source": [
    "df_sample = df_sample.drop(df_sample_zeros.index, axis = 0)"
   ]
  },
  {
   "cell_type": "code",
   "execution_count": null,
   "metadata": {},
   "outputs": [],
   "source": [
    "df_sample = df_sample.reset_index(drop=True)"
   ]
  },
  {
   "cell_type": "code",
   "execution_count": null,
   "metadata": {},
   "outputs": [],
   "source": [
    "df_sample = df_sample.drop('sum', axis = 1)"
   ]
  },
  {
   "cell_type": "code",
   "execution_count": null,
   "metadata": {},
   "outputs": [],
   "source": [
    "df_sample.shape"
   ]
  },
  {
   "cell_type": "markdown",
   "metadata": {},
   "source": [
    "Agora podemos aplicar o algoritmo Apriori para avaliar os resultados:"
   ]
  },
  {
   "cell_type": "code",
   "execution_count": null,
   "metadata": {
    "colab": {},
    "colab_type": "code",
    "id": "Bsvazfg2kQYt"
   },
   "outputs": [],
   "source": [
    "freq_itemset = apriori(df_sample, min_support=0.02, use_colnames=True)\n",
    "regras = association_rules(freq_itemset, metric='lift', min_threshold=1)"
   ]
  },
  {
   "cell_type": "code",
   "execution_count": null,
   "metadata": {
    "colab": {
     "base_uri": "https://localhost:8080/",
     "height": 235
    },
    "colab_type": "code",
    "id": "STa1_6KZkfLV",
    "outputId": "f358d696-b532-40ad-bafd-6a2727498f2a"
   },
   "outputs": [],
   "source": [
    "regras.sort_values(by='lift', ascending=False)"
   ]
  },
  {
   "cell_type": "markdown",
   "metadata": {},
   "source": [
    "Dada a elevada importância dentro do negócio, o produto classificado como \"2Sand_Cup\" concentrou a maioria dos resultados das regras de associação com o suporte mínimo de 0.02, com Lift mais relevante quando combinado com outra promoção \"2Sand_Beb_Acomp_Cup\", ou apenas do \"Acomp_03_Reg\" ou \"Acomp_03_Cup\".\n",
    "\n",
    "Podemos repetir a execução do algoritmo com um suporte mínimo menor para avaliar que novas combinações surgem:"
   ]
  },
  {
   "cell_type": "code",
   "execution_count": null,
   "metadata": {},
   "outputs": [],
   "source": [
    "freq_itemset1 = apriori(df_sample, min_support=0.01, use_colnames=True)\n",
    "regras1 = association_rules(freq_itemset1, metric='lift', min_threshold=1)"
   ]
  },
  {
   "cell_type": "code",
   "execution_count": null,
   "metadata": {},
   "outputs": [],
   "source": [
    "regras1.sort_values(by='lift', ascending=False)"
   ]
  },
  {
   "cell_type": "markdown",
   "metadata": {
    "colab_type": "text",
    "id": "NZk5hu2lQZ7m"
   },
   "source": [
    "Pela Análise Exploratória, constatamos que o grupo \"Menu_inf_Reg\", que era um dos mais relevantes no negócio, apresentava o maior patamar de Ticket Médio. Podemos executar o algoritmo na sequência para as transações que contam com esse produto, para avaliar que produtos têm maior afinidade com esse item em específico:"
   ]
  },
  {
   "cell_type": "code",
   "execution_count": null,
   "metadata": {
    "colab": {},
    "colab_type": "code",
    "id": "o735i3DpQp9i"
   },
   "outputs": [],
   "source": [
    "#df_sample_infantil = df_sample[df_sample['Menu_inf_Reg']==1]"
   ]
  },
  {
   "cell_type": "code",
   "execution_count": null,
   "metadata": {
    "colab": {},
    "colab_type": "code",
    "id": "fwskNGONT07N"
   },
   "outputs": [],
   "source": [
    "## df_sample_infantil = df_sample_infantil.drop('Menu_inf_Reg', axis = 1)"
   ]
  },
  {
   "cell_type": "code",
   "execution_count": null,
   "metadata": {
    "colab": {},
    "colab_type": "code",
    "id": "E4OFFJQdThVN"
   },
   "outputs": [],
   "source": [
    "#freq_itemset2 = apriori(df_sample_infantil, min_support=0.02, use_colnames=True)\n",
    "#regras2 = association_rules(freq_itemset2, metric='lift', min_threshold=1)"
   ]
  },
  {
   "cell_type": "code",
   "execution_count": null,
   "metadata": {
    "colab": {
     "base_uri": "https://localhost:8080/",
     "height": 297
    },
    "colab_type": "code",
    "id": "s-sn_vTBThJq",
    "outputId": "a9a7a8fc-7c9f-4737-e372-41e246df136e"
   },
   "outputs": [],
   "source": [
    "#regras2.sort_values(by='lift', ascending=False).head(10)"
   ]
  },
  {
   "cell_type": "markdown",
   "metadata": {},
   "source": [
    "Agora vamos trabalhar em alguns modelos de visualização destes resultados:"
   ]
  },
  {
   "cell_type": "code",
   "execution_count": null,
   "metadata": {},
   "outputs": [],
   "source": [
    "plt.scatter(regras1['confidence'], regras1['support'], c = regras1['lift'], cmap = 'viridis')\n",
    "plt.colorbar()\n",
    "plt.show"
   ]
  },
  {
   "cell_type": "markdown",
   "metadata": {},
   "source": [
    "Outra possibilidade que podemos avaliar é utilizando outro algoritmo para verificar o resultado gerado. O Frequent Pattern Growth, que é mais eficiente em termos de processamento do que o Apriori:"
   ]
  },
  {
   "cell_type": "code",
   "execution_count": null,
   "metadata": {},
   "outputs": [],
   "source": [
    "from mlxtend.frequent_patterns import fpgrowth"
   ]
  },
  {
   "cell_type": "code",
   "execution_count": null,
   "metadata": {},
   "outputs": [],
   "source": [
    "freq_itemset2 = fpgrowth(df_sample, min_support=0.01, use_colnames = True)"
   ]
  },
  {
   "cell_type": "code",
   "execution_count": null,
   "metadata": {},
   "outputs": [],
   "source": [
    "freq_itemset2.sort_values(by='support', ascending=False)"
   ]
  },
  {
   "cell_type": "code",
   "execution_count": null,
   "metadata": {},
   "outputs": [],
   "source": []
  }
 ],
 "metadata": {
  "colab": {
   "collapsed_sections": [],
   "name": "Cross Sell AD.ipynb",
   "provenance": []
  },
  "environment": {
   "name": "common-cpu.m58",
   "type": "gcloud",
   "uri": "gcr.io/deeplearning-platform-release/base-cpu:m58"
  },
  "kernelspec": {
   "display_name": "Python 3",
   "language": "python",
   "name": "python3"
  },
  "language_info": {
   "codemirror_mode": {
    "name": "ipython",
    "version": 3
   },
   "file_extension": ".py",
   "mimetype": "text/x-python",
   "name": "python",
   "nbconvert_exporter": "python",
   "pygments_lexer": "ipython3",
   "version": "3.7.8"
  }
 },
 "nbformat": 4,
 "nbformat_minor": 4
}
